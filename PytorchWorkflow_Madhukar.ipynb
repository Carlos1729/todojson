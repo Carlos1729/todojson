{
  "nbformat": 4,
  "nbformat_minor": 0,
  "metadata": {
    "colab": {
      "provenance": [],
      "gpuType": "T4",
      "authorship_tag": "ABX9TyOQDq1cd4Uofw1GXTeuAtLc",
      "include_colab_link": true
    },
    "kernelspec": {
      "name": "python3",
      "display_name": "Python 3"
    },
    "language_info": {
      "name": "python"
    },
    "accelerator": "GPU"
  },
  "cells": [
    {
      "cell_type": "markdown",
      "metadata": {
        "id": "view-in-github",
        "colab_type": "text"
      },
      "source": [
        "<a href=\"https://colab.research.google.com/github/Carlos1729/todojson/blob/main/PytorchWorkflow_Madhukar.ipynb\" target=\"_parent\"><img src=\"https://colab.research.google.com/assets/colab-badge.svg\" alt=\"Open In Colab\"/></a>"
      ]
    },
    {
      "cell_type": "code",
      "execution_count": 1,
      "metadata": {
        "id": "VCGkxOYZQfz2"
      },
      "outputs": [],
      "source": [
        "import torch\n",
        "from torch import nn\n",
        "import numpy as np\n",
        "import matplotlib.pyplot as plt"
      ]
    },
    {
      "cell_type": "code",
      "source": [
        "#Data preperation and loading"
      ],
      "metadata": {
        "id": "-1YlRG61RIXZ"
      },
      "execution_count": 2,
      "outputs": []
    },
    {
      "cell_type": "code",
      "source": [
        "W = 0.7\n",
        "b = 0.3\n",
        "\n",
        "start = 0\n",
        "end = 1\n",
        "step = 0.02\n",
        "# X = torch.arange(start,end,step);"
      ],
      "metadata": {
        "id": "iGWQbOeOU4_s"
      },
      "execution_count": 3,
      "outputs": []
    },
    {
      "cell_type": "code",
      "source": [
        "x = torch.arange(start,end,step);\n",
        "x"
      ],
      "metadata": {
        "colab": {
          "base_uri": "https://localhost:8080/"
        },
        "id": "r7xVFkqfRIar",
        "outputId": "c442151c-aafb-4a7f-db06-1a4d63d84e54"
      },
      "execution_count": 4,
      "outputs": [
        {
          "output_type": "execute_result",
          "data": {
            "text/plain": [
              "tensor([0.0000, 0.0200, 0.0400, 0.0600, 0.0800, 0.1000, 0.1200, 0.1400, 0.1600,\n",
              "        0.1800, 0.2000, 0.2200, 0.2400, 0.2600, 0.2800, 0.3000, 0.3200, 0.3400,\n",
              "        0.3600, 0.3800, 0.4000, 0.4200, 0.4400, 0.4600, 0.4800, 0.5000, 0.5200,\n",
              "        0.5400, 0.5600, 0.5800, 0.6000, 0.6200, 0.6400, 0.6600, 0.6800, 0.7000,\n",
              "        0.7200, 0.7400, 0.7600, 0.7800, 0.8000, 0.8200, 0.8400, 0.8600, 0.8800,\n",
              "        0.9000, 0.9200, 0.9400, 0.9600, 0.9800])"
            ]
          },
          "metadata": {},
          "execution_count": 4
        }
      ]
    },
    {
      "cell_type": "code",
      "source": [
        "x = x.unsqueeze(1)\n",
        "x"
      ],
      "metadata": {
        "colab": {
          "base_uri": "https://localhost:8080/"
        },
        "id": "jN3nlNX4RIdQ",
        "outputId": "3ac74f03-2861-4c49-9e89-d89d38911e67"
      },
      "execution_count": 5,
      "outputs": [
        {
          "output_type": "execute_result",
          "data": {
            "text/plain": [
              "tensor([[0.0000],\n",
              "        [0.0200],\n",
              "        [0.0400],\n",
              "        [0.0600],\n",
              "        [0.0800],\n",
              "        [0.1000],\n",
              "        [0.1200],\n",
              "        [0.1400],\n",
              "        [0.1600],\n",
              "        [0.1800],\n",
              "        [0.2000],\n",
              "        [0.2200],\n",
              "        [0.2400],\n",
              "        [0.2600],\n",
              "        [0.2800],\n",
              "        [0.3000],\n",
              "        [0.3200],\n",
              "        [0.3400],\n",
              "        [0.3600],\n",
              "        [0.3800],\n",
              "        [0.4000],\n",
              "        [0.4200],\n",
              "        [0.4400],\n",
              "        [0.4600],\n",
              "        [0.4800],\n",
              "        [0.5000],\n",
              "        [0.5200],\n",
              "        [0.5400],\n",
              "        [0.5600],\n",
              "        [0.5800],\n",
              "        [0.6000],\n",
              "        [0.6200],\n",
              "        [0.6400],\n",
              "        [0.6600],\n",
              "        [0.6800],\n",
              "        [0.7000],\n",
              "        [0.7200],\n",
              "        [0.7400],\n",
              "        [0.7600],\n",
              "        [0.7800],\n",
              "        [0.8000],\n",
              "        [0.8200],\n",
              "        [0.8400],\n",
              "        [0.8600],\n",
              "        [0.8800],\n",
              "        [0.9000],\n",
              "        [0.9200],\n",
              "        [0.9400],\n",
              "        [0.9600],\n",
              "        [0.9800]])"
            ]
          },
          "metadata": {},
          "execution_count": 5
        }
      ]
    },
    {
      "cell_type": "code",
      "source": [
        "y = W*x + b\n",
        "y[0:10],x[0:10]"
      ],
      "metadata": {
        "colab": {
          "base_uri": "https://localhost:8080/"
        },
        "id": "OnNlOAneRIf0",
        "outputId": "206d8cc1-b8b0-4588-ed90-b8796ecfb16f"
      },
      "execution_count": 6,
      "outputs": [
        {
          "output_type": "execute_result",
          "data": {
            "text/plain": [
              "(tensor([[0.3000],\n",
              "         [0.3140],\n",
              "         [0.3280],\n",
              "         [0.3420],\n",
              "         [0.3560],\n",
              "         [0.3700],\n",
              "         [0.3840],\n",
              "         [0.3980],\n",
              "         [0.4120],\n",
              "         [0.4260]]),\n",
              " tensor([[0.0000],\n",
              "         [0.0200],\n",
              "         [0.0400],\n",
              "         [0.0600],\n",
              "         [0.0800],\n",
              "         [0.1000],\n",
              "         [0.1200],\n",
              "         [0.1400],\n",
              "         [0.1600],\n",
              "         [0.1800]]))"
            ]
          },
          "metadata": {},
          "execution_count": 6
        }
      ]
    },
    {
      "cell_type": "code",
      "source": [
        "len(x), len(y)"
      ],
      "metadata": {
        "colab": {
          "base_uri": "https://localhost:8080/"
        },
        "id": "iYF9T7MbRIim",
        "outputId": "40ff4915-41b9-49bc-978e-42b0843c73e8"
      },
      "execution_count": 7,
      "outputs": [
        {
          "output_type": "execute_result",
          "data": {
            "text/plain": [
              "(50, 50)"
            ]
          },
          "metadata": {},
          "execution_count": 7
        }
      ]
    },
    {
      "cell_type": "code",
      "source": [
        "train_split = int(0.8*len(x))\n",
        "x_train,y_train = x[:train_split], y[:train_split]\n",
        "x_test, y_test = x[train_split:], y[train_split:]#scikit learn train test split is also there which we can see in future\n",
        "len(x_train),len(y_train),len(x_test),len(y_test)"
      ],
      "metadata": {
        "colab": {
          "base_uri": "https://localhost:8080/"
        },
        "id": "8qGDEPzpRIll",
        "outputId": "eb2dfa33-b269-46fd-8cf1-b19b7f1c54de"
      },
      "execution_count": 8,
      "outputs": [
        {
          "output_type": "execute_result",
          "data": {
            "text/plain": [
              "(40, 40, 10, 10)"
            ]
          },
          "metadata": {},
          "execution_count": 8
        }
      ]
    },
    {
      "cell_type": "code",
      "source": [
        "x_train, y_train"
      ],
      "metadata": {
        "colab": {
          "base_uri": "https://localhost:8080/"
        },
        "id": "pFVlTQs2RIoM",
        "outputId": "9b16bd52-507e-46a5-d3f3-4e8e0086ef3e"
      },
      "execution_count": 9,
      "outputs": [
        {
          "output_type": "execute_result",
          "data": {
            "text/plain": [
              "(tensor([[0.0000],\n",
              "         [0.0200],\n",
              "         [0.0400],\n",
              "         [0.0600],\n",
              "         [0.0800],\n",
              "         [0.1000],\n",
              "         [0.1200],\n",
              "         [0.1400],\n",
              "         [0.1600],\n",
              "         [0.1800],\n",
              "         [0.2000],\n",
              "         [0.2200],\n",
              "         [0.2400],\n",
              "         [0.2600],\n",
              "         [0.2800],\n",
              "         [0.3000],\n",
              "         [0.3200],\n",
              "         [0.3400],\n",
              "         [0.3600],\n",
              "         [0.3800],\n",
              "         [0.4000],\n",
              "         [0.4200],\n",
              "         [0.4400],\n",
              "         [0.4600],\n",
              "         [0.4800],\n",
              "         [0.5000],\n",
              "         [0.5200],\n",
              "         [0.5400],\n",
              "         [0.5600],\n",
              "         [0.5800],\n",
              "         [0.6000],\n",
              "         [0.6200],\n",
              "         [0.6400],\n",
              "         [0.6600],\n",
              "         [0.6800],\n",
              "         [0.7000],\n",
              "         [0.7200],\n",
              "         [0.7400],\n",
              "         [0.7600],\n",
              "         [0.7800]]),\n",
              " tensor([[0.3000],\n",
              "         [0.3140],\n",
              "         [0.3280],\n",
              "         [0.3420],\n",
              "         [0.3560],\n",
              "         [0.3700],\n",
              "         [0.3840],\n",
              "         [0.3980],\n",
              "         [0.4120],\n",
              "         [0.4260],\n",
              "         [0.4400],\n",
              "         [0.4540],\n",
              "         [0.4680],\n",
              "         [0.4820],\n",
              "         [0.4960],\n",
              "         [0.5100],\n",
              "         [0.5240],\n",
              "         [0.5380],\n",
              "         [0.5520],\n",
              "         [0.5660],\n",
              "         [0.5800],\n",
              "         [0.5940],\n",
              "         [0.6080],\n",
              "         [0.6220],\n",
              "         [0.6360],\n",
              "         [0.6500],\n",
              "         [0.6640],\n",
              "         [0.6780],\n",
              "         [0.6920],\n",
              "         [0.7060],\n",
              "         [0.7200],\n",
              "         [0.7340],\n",
              "         [0.7480],\n",
              "         [0.7620],\n",
              "         [0.7760],\n",
              "         [0.7900],\n",
              "         [0.8040],\n",
              "         [0.8180],\n",
              "         [0.8320],\n",
              "         [0.8460]]))"
            ]
          },
          "metadata": {},
          "execution_count": 9
        }
      ]
    },
    {
      "cell_type": "code",
      "source": [
        "#how to better visulaize this data"
      ],
      "metadata": {
        "id": "n1MZ6S4FRIrD"
      },
      "execution_count": 10,
      "outputs": []
    },
    {
      "cell_type": "code",
      "source": [
        "def plot_predictions(train_data= x_train,train_labels=y_train,test_data= x_test,test_labels=y_test,predictions=None):\n",
        "  plt.figure(figsize=(10,7))\n",
        "  plt.scatter(train_data, train_labels,c=\"b\", s=4, label=\"Training Data\")#b here means blue\n",
        "  plt.scatter(test_data, test_labels,c=\"g\", s=4, label=\"Training Data\")#g here means color\n",
        "  if predictions is not None:\n",
        "    plt.scatter(test_data,predictions,c=\"r\", s=4, label=\"Training Data\")#g here means color\n",
        "  plt.legend(prop={\"size\" : 14});"
      ],
      "metadata": {
        "id": "AbNgyctkRItr"
      },
      "execution_count": 11,
      "outputs": []
    },
    {
      "cell_type": "code",
      "source": [
        "plot_predictions()"
      ],
      "metadata": {
        "colab": {
          "base_uri": "https://localhost:8080/",
          "height": 599
        },
        "id": "3xsvKWqjRIxR",
        "outputId": "95722172-6768-488d-e301-04f5823965a2"
      },
      "execution_count": 12,
      "outputs": [
        {
          "output_type": "display_data",
          "data": {
            "text/plain": [
              "<Figure size 1000x700 with 1 Axes>"
            ],
            "image/png": "[encoded data removed]"
          },
          "metadata": {}
        }
      ]
    },
    {
      "cell_type": "code",
      "source": [
        "#building the model - linear regression model"
      ],
      "metadata": {
        "id": "Mi67sJvIRI0u"
      },
      "execution_count": 13,
      "outputs": []
    },
    {
      "cell_type": "code",
      "source": [
        "class lrm(nn.Module):#almost every class in pytorch imports nn.module\n",
        "  def __init__(self):#creating constructor init w and b\n",
        "    super().__init__()\n",
        "    self.weights = nn.Parameter(torch.randn(1))\n",
        "    self.bias = nn.Parameter(torch.randn(1))#reqires grad is true is for kepping the track of the gradient of given variable during\n",
        "    #  its learming\n",
        "\n",
        "  #now forward prop\n",
        "  def forward(self, x):\n",
        "    return self.weights*x+self.bias"
      ],
      "metadata": {
        "id": "nAJY7vBBcVGz"
      },
      "execution_count": 14,
      "outputs": []
    },
    {
      "cell_type": "code",
      "source": [
        "# torch.nn - contains all building blocks for nn\n",
        "# torch.nn.parameter - what params should our model try and learn\n",
        "# torch.nn.module - the base class for all neural networks if you inherit it you should override forward\n",
        "# torch.optim - this is where optimizers in pytorch live the will help with gradient descent\n",
        "# def forward() - all nn.module subclasses will override it basically computes the forward value"
      ],
      "metadata": {
        "id": "XWVxK2ovRI4H"
      },
      "execution_count": 15,
      "outputs": []
    },
    {
      "cell_type": "code",
      "source": [
        "torch.manual_seed(42)\n",
        "\n",
        "model_0 = lrm()\n",
        "\n",
        "model_0\n",
        "\n",
        "list(model_0.parameters())#because of random seed irrespective how many times you run this you will have these params"
      ],
      "metadata": {
        "colab": {
          "base_uri": "https://localhost:8080/"
        },
        "id": "RXN4izmmRI7W",
        "outputId": "207a6389-6714-437c-a4af-447d173da54c"
      },
      "execution_count": 16,
      "outputs": [
        {
          "output_type": "execute_result",
          "data": {
            "text/plain": [
              "[Parameter containing:\n",
              " tensor([0.3367], requires_grad=True),\n",
              " Parameter containing:\n",
              " tensor([0.1288], requires_grad=True)]"
            ]
          },
          "metadata": {},
          "execution_count": 16
        }
      ]
    },
    {
      "cell_type": "code",
      "source": [
        "model_0.state_dict()"
      ],
      "metadata": {
        "colab": {
          "base_uri": "https://localhost:8080/"
        },
        "id": "pPJCUfPrRI-D",
        "outputId": "46d9576f-512b-4741-c74a-5e745467dfe5"
      },
      "execution_count": 17,
      "outputs": [
        {
          "output_type": "execute_result",
          "data": {
            "text/plain": [
              "OrderedDict([('weights', tensor([0.3367])), ('bias', tensor([0.1288]))])"
            ]
          },
          "metadata": {},
          "execution_count": 17
        }
      ]
    },
    {
      "cell_type": "code",
      "source": [
        "x_test, y_test"
      ],
      "metadata": {
        "colab": {
          "base_uri": "https://localhost:8080/"
        },
        "id": "QaEapeaYeujZ",
        "outputId": "546493d8-d46d-4367-ff80-0533744ec382"
      },
      "execution_count": 18,
      "outputs": [
        {
          "output_type": "execute_result",
          "data": {
            "text/plain": [
              "(tensor([[0.8000],\n",
              "         [0.8200],\n",
              "         [0.8400],\n",
              "         [0.8600],\n",
              "         [0.8800],\n",
              "         [0.9000],\n",
              "         [0.9200],\n",
              "         [0.9400],\n",
              "         [0.9600],\n",
              "         [0.9800]]),\n",
              " tensor([[0.8600],\n",
              "         [0.8740],\n",
              "         [0.8880],\n",
              "         [0.9020],\n",
              "         [0.9160],\n",
              "         [0.9300],\n",
              "         [0.9440],\n",
              "         [0.9580],\n",
              "         [0.9720],\n",
              "         [0.9860]]))"
            ]
          },
          "metadata": {},
          "execution_count": 18
        }
      ]
    },
    {
      "cell_type": "code",
      "source": [
        "W, b"
      ],
      "metadata": {
        "colab": {
          "base_uri": "https://localhost:8080/"
        },
        "id": "Lc06-lJcRJBC",
        "outputId": "e8c4d24f-3c78-41e1-b7e4-780eca69ecf1"
      },
      "execution_count": 19,
      "outputs": [
        {
          "output_type": "execute_result",
          "data": {
            "text/plain": [
              "(0.7, 0.3)"
            ]
          },
          "metadata": {},
          "execution_count": 19
        }
      ]
    },
    {
      "cell_type": "code",
      "source": [
        "with torch.inference_mode():#same as torch.no_grad\n",
        "  y_preds = model_0(x_test)\n",
        "\n",
        "y_preds"
      ],
      "metadata": {
        "colab": {
          "base_uri": "https://localhost:8080/"
        },
        "id": "-OuEHgyaRJE6",
        "outputId": "eb0e32d6-a6a9-4fe0-dfd5-9f5b9c4ff889"
      },
      "execution_count": 20,
      "outputs": [
        {
          "output_type": "execute_result",
          "data": {
            "text/plain": [
              "tensor([[0.3982],\n",
              "        [0.4049],\n",
              "        [0.4116],\n",
              "        [0.4184],\n",
              "        [0.4251],\n",
              "        [0.4318],\n",
              "        [0.4386],\n",
              "        [0.4453],\n",
              "        [0.4520],\n",
              "        [0.4588]])"
            ]
          },
          "metadata": {},
          "execution_count": 20
        }
      ]
    },
    {
      "cell_type": "code",
      "source": [
        "y_test"
      ],
      "metadata": {
        "id": "N3u2kfgCRJHo",
        "colab": {
          "base_uri": "https://localhost:8080/"
        },
        "outputId": "0e32b1fe-2dba-4f1f-9b87-7e3fcadc4c96"
      },
      "execution_count": 21,
      "outputs": [
        {
          "output_type": "execute_result",
          "data": {
            "text/plain": [
              "tensor([[0.8600],\n",
              "        [0.8740],\n",
              "        [0.8880],\n",
              "        [0.9020],\n",
              "        [0.9160],\n",
              "        [0.9300],\n",
              "        [0.9440],\n",
              "        [0.9580],\n",
              "        [0.9720],\n",
              "        [0.9860]])"
            ]
          },
          "metadata": {},
          "execution_count": 21
        }
      ]
    },
    {
      "cell_type": "code",
      "source": [
        "plot_predictions(predictions=y_preds)"
      ],
      "metadata": {
        "id": "MUaHA4wwRJMW",
        "colab": {
          "base_uri": "https://localhost:8080/",
          "height": 599
        },
        "outputId": "21c6a77f-88e5-4aee-9efb-e2c2c140a858"
      },
      "execution_count": 22,
      "outputs": [
        {
          "output_type": "display_data",
          "data": {
            "text/plain": [
              "<Figure size 1000x700 with 1 Axes>"
            ],
            "image/png": "[encoded data removed]"
          },
          "metadata": {}
        }
      ]
    },
    {
      "cell_type": "code",
      "source": [
        "#loss function\n",
        "loss_fn = nn.L1Loss()\n",
        "\n",
        "#optimizer\n",
        "optimizer = torch.optim.SGD(params = model_0.parameters(),lr=0.01)#optimizer optimizes the given parametersw with given learning rate"
      ],
      "metadata": {
        "id": "1JREnqjsRJP-"
      },
      "execution_count": 23,
      "outputs": []
    },
    {
      "cell_type": "code",
      "source": [
        "epochs = 200#hyperparameter as we are setting it ourself\n",
        "\n",
        "epoch_count = []\n",
        "loss_values = []\n",
        "test_loss_values = []\n",
        "\n",
        "for epoch in range(epochs):\n",
        "  model_0.train()#getting model into train mode\n",
        "  y_preds = model_0(x_train)#forward pass\n",
        "  loss = loss_fn(y_preds,y_train)#calc loss\n",
        "  optimizer.zero_grad()#0,0,0,0,0,0,0,0,0\n",
        "  loss.backward()#perform backpropogation\n",
        "  optimizer.step()#1,2,3,4,5,6,7,8\n",
        "  model_0.eval()\n",
        "  with torch.inference_mode():\n",
        "    test_pred = model_0(x_test);#do the forward pass\n",
        "    test_loss = loss_fn(test_pred,y_test)\n",
        "\n",
        "  epoch_count.append(epoch)\n",
        "  loss_values.append(loss)\n",
        "  test_loss_values.append(test_loss)\n",
        "  print(loss, test_loss)\n",
        "  print(model_0.state_dict())"
      ],
      "metadata": {
        "id": "1fKT1Kp6RJTz",
        "colab": {
          "base_uri": "https://localhost:8080/"
        },
        "outputId": "db6efe89-77e0-49f4-ca4d-f2e116728526"
      },
      "execution_count": 24,
      "outputs": [
        {
          "output_type": "stream",
          "name": "stdout",
          "text": [
            "tensor(0.3129, grad_fn=<MeanBackward0>) tensor(0.4811)\n",
            "OrderedDict([('weights', tensor([0.3406])), ('bias', tensor([0.1388]))])\n",
            "tensor(0.3014, grad_fn=<MeanBackward0>) tensor(0.4676)\n",
            "OrderedDict([('weights', tensor([0.3445])), ('bias', tensor([0.1488]))])\n",
            "tensor(0.2898, grad_fn=<MeanBackward0>) tensor(0.4541)\n",
            "OrderedDict([('weights', tensor([0.3484])), ('bias', tensor([0.1588]))])\n",
            "tensor(0.2783, grad_fn=<MeanBackward0>) tensor(0.4407)\n",
            "OrderedDict([('weights', tensor([0.3523])), ('bias', tensor([0.1688]))])\n",
            "tensor(0.2668, grad_fn=<MeanBackward0>) tensor(0.4272)\n",
            "OrderedDict([('weights', tensor([0.3562])), ('bias', tensor([0.1788]))])\n",
            "tensor(0.2553, grad_fn=<MeanBackward0>) tensor(0.4137)\n",
            "OrderedDict([('weights', tensor([0.3601])), ('bias', tensor([0.1888]))])\n",
            "tensor(0.2438, grad_fn=<MeanBackward0>) tensor(0.4002)\n",
            "OrderedDict([('weights', tensor([0.3640])), ('bias', tensor([0.1988]))])\n",
            "tensor(0.2322, grad_fn=<MeanBackward0>) tensor(0.3868)\n",
            "OrderedDict([('weights', tensor([0.3679])), ('bias', tensor([0.2088]))])\n",
            "tensor(0.2207, grad_fn=<MeanBackward0>) tensor(0.3733)\n",
            "OrderedDict([('weights', tensor([0.3718])), ('bias', tensor([0.2188]))])\n",
            "tensor(0.2092, grad_fn=<MeanBackward0>) tensor(0.3598)\n",
            "OrderedDict([('weights', tensor([0.3757])), ('bias', tensor([0.2288]))])\n",
            "tensor(0.1977, grad_fn=<MeanBackward0>) tensor(0.3464)\n",
            "OrderedDict([('weights', tensor([0.3796])), ('bias', tensor([0.2388]))])\n",
            "tensor(0.1862, grad_fn=<MeanBackward0>) tensor(0.3329)\n",
            "OrderedDict([('weights', tensor([0.3835])), ('bias', tensor([0.2488]))])\n",
            "tensor(0.1746, grad_fn=<MeanBackward0>) tensor(0.3194)\n",
            "OrderedDict([('weights', tensor([0.3874])), ('bias', tensor([0.2588]))])\n",
            "tensor(0.1631, grad_fn=<MeanBackward0>) tensor(0.3059)\n",
            "OrderedDict([('weights', tensor([0.3913])), ('bias', tensor([0.2688]))])\n",
            "tensor(0.1516, grad_fn=<MeanBackward0>) tensor(0.2925)\n",
            "OrderedDict([('weights', tensor([0.3952])), ('bias', tensor([0.2788]))])\n",
            "tensor(0.1401, grad_fn=<MeanBackward0>) tensor(0.2790)\n",
            "OrderedDict([('weights', tensor([0.3991])), ('bias', tensor([0.2888]))])\n",
            "tensor(0.1285, grad_fn=<MeanBackward0>) tensor(0.2655)\n",
            "OrderedDict([('weights', tensor([0.4030])), ('bias', tensor([0.2988]))])\n",
            "tensor(0.1170, grad_fn=<MeanBackward0>) tensor(0.2521)\n",
            "OrderedDict([('weights', tensor([0.4069])), ('bias', tensor([0.3088]))])\n",
            "tensor(0.1061, grad_fn=<MeanBackward0>) tensor(0.2396)\n",
            "OrderedDict([('weights', tensor([0.4108])), ('bias', tensor([0.3178]))])\n",
            "tensor(0.0968, grad_fn=<MeanBackward0>) tensor(0.2282)\n",
            "OrderedDict([('weights', tensor([0.4146])), ('bias', tensor([0.3258]))])\n",
            "tensor(0.0891, grad_fn=<MeanBackward0>) tensor(0.2173)\n",
            "OrderedDict([('weights', tensor([0.4184])), ('bias', tensor([0.3333]))])\n",
            "tensor(0.0823, grad_fn=<MeanBackward0>) tensor(0.2070)\n",
            "OrderedDict([('weights', tensor([0.4222])), ('bias', tensor([0.3403]))])\n",
            "tensor(0.0764, grad_fn=<MeanBackward0>) tensor(0.1977)\n",
            "OrderedDict([('weights', tensor([0.4258])), ('bias', tensor([0.3463]))])\n",
            "tensor(0.0716, grad_fn=<MeanBackward0>) tensor(0.1891)\n",
            "OrderedDict([('weights', tensor([0.4293])), ('bias', tensor([0.3518]))])\n",
            "tensor(0.0675, grad_fn=<MeanBackward0>) tensor(0.1810)\n",
            "OrderedDict([('weights', tensor([0.4328])), ('bias', tensor([0.3568]))])\n",
            "tensor(0.0640, grad_fn=<MeanBackward0>) tensor(0.1735)\n",
            "OrderedDict([('weights', tensor([0.4361])), ('bias', tensor([0.3613]))])\n",
            "tensor(0.0610, grad_fn=<MeanBackward0>) tensor(0.1667)\n",
            "OrderedDict([('weights', tensor([0.4394])), ('bias', tensor([0.3653]))])\n",
            "tensor(0.0585, grad_fn=<MeanBackward0>) tensor(0.1604)\n",
            "OrderedDict([('weights', tensor([0.4425])), ('bias', tensor([0.3688]))])\n",
            "tensor(0.0564, grad_fn=<MeanBackward0>) tensor(0.1547)\n",
            "OrderedDict([('weights', tensor([0.4455])), ('bias', tensor([0.3718]))])\n",
            "tensor(0.0546, grad_fn=<MeanBackward0>) tensor(0.1497)\n",
            "OrderedDict([('weights', tensor([0.4483])), ('bias', tensor([0.3743]))])\n",
            "tensor(0.0531, grad_fn=<MeanBackward0>) tensor(0.1446)\n",
            "OrderedDict([('weights', tensor([0.4512])), ('bias', tensor([0.3768]))])\n",
            "tensor(0.0518, grad_fn=<MeanBackward0>) tensor(0.1402)\n",
            "OrderedDict([('weights', tensor([0.4539])), ('bias', tensor([0.3788]))])\n",
            "tensor(0.0507, grad_fn=<MeanBackward0>) tensor(0.1365)\n",
            "OrderedDict([('weights', tensor([0.4564])), ('bias', tensor([0.3803]))])\n",
            "tensor(0.0498, grad_fn=<MeanBackward0>) tensor(0.1327)\n",
            "OrderedDict([('weights', tensor([0.4590])), ('bias', tensor([0.3818]))])\n",
            "tensor(0.0490, grad_fn=<MeanBackward0>) tensor(0.1290)\n",
            "OrderedDict([('weights', tensor([0.4615])), ('bias', tensor([0.3833]))])\n",
            "tensor(0.0482, grad_fn=<MeanBackward0>) tensor(0.1258)\n",
            "OrderedDict([('weights', tensor([0.4639])), ('bias', tensor([0.3843]))])\n",
            "tensor(0.0475, grad_fn=<MeanBackward0>) tensor(0.1227)\n",
            "OrderedDict([('weights', tensor([0.4662])), ('bias', tensor([0.3853]))])\n",
            "tensor(0.0469, grad_fn=<MeanBackward0>) tensor(0.1203)\n",
            "OrderedDict([('weights', tensor([0.4684])), ('bias', tensor([0.3858]))])\n",
            "tensor(0.0464, grad_fn=<MeanBackward0>) tensor(0.1178)\n",
            "OrderedDict([('weights', tensor([0.4706])), ('bias', tensor([0.3863]))])\n",
            "tensor(0.0459, grad_fn=<MeanBackward0>) tensor(0.1154)\n",
            "OrderedDict([('weights', tensor([0.4728])), ('bias', tensor([0.3868]))])\n",
            "tensor(0.0454, grad_fn=<MeanBackward0>) tensor(0.1136)\n",
            "OrderedDict([('weights', tensor([0.4748])), ('bias', tensor([0.3868]))])\n",
            "tensor(0.0450, grad_fn=<MeanBackward0>) tensor(0.1118)\n",
            "OrderedDict([('weights', tensor([0.4768])), ('bias', tensor([0.3868]))])\n",
            "tensor(0.0446, grad_fn=<MeanBackward0>) tensor(0.1100)\n",
            "OrderedDict([('weights', tensor([0.4788])), ('bias', tensor([0.3868]))])\n",
            "tensor(0.0442, grad_fn=<MeanBackward0>) tensor(0.1083)\n",
            "OrderedDict([('weights', tensor([0.4808])), ('bias', tensor([0.3868]))])\n",
            "tensor(0.0438, grad_fn=<MeanBackward0>) tensor(0.1065)\n",
            "OrderedDict([('weights', tensor([0.4828])), ('bias', tensor([0.3868]))])\n",
            "tensor(0.0434, grad_fn=<MeanBackward0>) tensor(0.1047)\n",
            "OrderedDict([('weights', tensor([0.4848])), ('bias', tensor([0.3868]))])\n",
            "tensor(0.0431, grad_fn=<MeanBackward0>) tensor(0.1036)\n",
            "OrderedDict([('weights', tensor([0.4866])), ('bias', tensor([0.3863]))])\n",
            "tensor(0.0427, grad_fn=<MeanBackward0>) tensor(0.1025)\n",
            "OrderedDict([('weights', tensor([0.4884])), ('bias', tensor([0.3858]))])\n",
            "tensor(0.0424, grad_fn=<MeanBackward0>) tensor(0.1014)\n",
            "OrderedDict([('weights', tensor([0.4902])), ('bias', tensor([0.3853]))])\n",
            "tensor(0.0420, grad_fn=<MeanBackward0>) tensor(0.1003)\n",
            "OrderedDict([('weights', tensor([0.4920])), ('bias', tensor([0.3848]))])\n",
            "tensor(0.0417, grad_fn=<MeanBackward0>) tensor(0.0992)\n",
            "OrderedDict([('weights', tensor([0.4938])), ('bias', tensor([0.3843]))])\n",
            "tensor(0.0413, grad_fn=<MeanBackward0>) tensor(0.0981)\n",
            "OrderedDict([('weights', tensor([0.4956])), ('bias', tensor([0.3838]))])\n",
            "tensor(0.0410, grad_fn=<MeanBackward0>) tensor(0.0970)\n",
            "OrderedDict([('weights', tensor([0.4974])), ('bias', tensor([0.3833]))])\n",
            "tensor(0.0406, grad_fn=<MeanBackward0>) tensor(0.0959)\n",
            "OrderedDict([('weights', tensor([0.4992])), ('bias', tensor([0.3828]))])\n",
            "tensor(0.0403, grad_fn=<MeanBackward0>) tensor(0.0948)\n",
            "OrderedDict([('weights', tensor([0.5010])), ('bias', tensor([0.3823]))])\n",
            "tensor(0.0399, grad_fn=<MeanBackward0>) tensor(0.0937)\n",
            "OrderedDict([('weights', tensor([0.5028])), ('bias', tensor([0.3818]))])\n",
            "tensor(0.0396, grad_fn=<MeanBackward0>) tensor(0.0926)\n",
            "OrderedDict([('weights', tensor([0.5046])), ('bias', tensor([0.3813]))])\n",
            "tensor(0.0392, grad_fn=<MeanBackward0>) tensor(0.0915)\n",
            "OrderedDict([('weights', tensor([0.5064])), ('bias', tensor([0.3808]))])\n",
            "tensor(0.0389, grad_fn=<MeanBackward0>) tensor(0.0904)\n",
            "OrderedDict([('weights', tensor([0.5082])), ('bias', tensor([0.3803]))])\n",
            "tensor(0.0385, grad_fn=<MeanBackward0>) tensor(0.0893)\n",
            "OrderedDict([('weights', tensor([0.5100])), ('bias', tensor([0.3798]))])\n",
            "tensor(0.0382, grad_fn=<MeanBackward0>) tensor(0.0889)\n",
            "OrderedDict([('weights', tensor([0.5116])), ('bias', tensor([0.3788]))])\n",
            "tensor(0.0379, grad_fn=<MeanBackward0>) tensor(0.0878)\n",
            "OrderedDict([('weights', tensor([0.5134])), ('bias', tensor([0.3783]))])\n",
            "tensor(0.0375, grad_fn=<MeanBackward0>) tensor(0.0867)\n",
            "OrderedDict([('weights', tensor([0.5152])), ('bias', tensor([0.3778]))])\n",
            "tensor(0.0372, grad_fn=<MeanBackward0>) tensor(0.0862)\n",
            "OrderedDict([('weights', tensor([0.5168])), ('bias', tensor([0.3768]))])\n",
            "tensor(0.0368, grad_fn=<MeanBackward0>) tensor(0.0851)\n",
            "OrderedDict([('weights', tensor([0.5186])), ('bias', tensor([0.3763]))])\n",
            "tensor(0.0365, grad_fn=<MeanBackward0>) tensor(0.0847)\n",
            "OrderedDict([('weights', tensor([0.5202])), ('bias', tensor([0.3753]))])\n",
            "tensor(0.0361, grad_fn=<MeanBackward0>) tensor(0.0836)\n",
            "OrderedDict([('weights', tensor([0.5220])), ('bias', tensor([0.3748]))])\n",
            "tensor(0.0358, grad_fn=<MeanBackward0>) tensor(0.0832)\n",
            "OrderedDict([('weights', tensor([0.5236])), ('bias', tensor([0.3738]))])\n",
            "tensor(0.0354, grad_fn=<MeanBackward0>) tensor(0.0821)\n",
            "OrderedDict([('weights', tensor([0.5254])), ('bias', tensor([0.3733]))])\n",
            "tensor(0.0351, grad_fn=<MeanBackward0>) tensor(0.0810)\n",
            "OrderedDict([('weights', tensor([0.5272])), ('bias', tensor([0.3728]))])\n",
            "tensor(0.0348, grad_fn=<MeanBackward0>) tensor(0.0806)\n",
            "OrderedDict([('weights', tensor([0.5288])), ('bias', tensor([0.3718]))])\n",
            "tensor(0.0344, grad_fn=<MeanBackward0>) tensor(0.0795)\n",
            "OrderedDict([('weights', tensor([0.5306])), ('bias', tensor([0.3713]))])\n",
            "tensor(0.0341, grad_fn=<MeanBackward0>) tensor(0.0791)\n",
            "OrderedDict([('weights', tensor([0.5322])), ('bias', tensor([0.3703]))])\n",
            "tensor(0.0337, grad_fn=<MeanBackward0>) tensor(0.0780)\n",
            "OrderedDict([('weights', tensor([0.5340])), ('bias', tensor([0.3698]))])\n",
            "tensor(0.0334, grad_fn=<MeanBackward0>) tensor(0.0776)\n",
            "OrderedDict([('weights', tensor([0.5355])), ('bias', tensor([0.3688]))])\n",
            "tensor(0.0330, grad_fn=<MeanBackward0>) tensor(0.0765)\n",
            "OrderedDict([('weights', tensor([0.5373])), ('bias', tensor([0.3683]))])\n",
            "tensor(0.0327, grad_fn=<MeanBackward0>) tensor(0.0754)\n",
            "OrderedDict([('weights', tensor([0.5391])), ('bias', tensor([0.3678]))])\n",
            "tensor(0.0324, grad_fn=<MeanBackward0>) tensor(0.0749)\n",
            "OrderedDict([('weights', tensor([0.5407])), ('bias', tensor([0.3668]))])\n",
            "tensor(0.0320, grad_fn=<MeanBackward0>) tensor(0.0738)\n",
            "OrderedDict([('weights', tensor([0.5425])), ('bias', tensor([0.3663]))])\n",
            "tensor(0.0317, grad_fn=<MeanBackward0>) tensor(0.0734)\n",
            "OrderedDict([('weights', tensor([0.5441])), ('bias', tensor([0.3653]))])\n",
            "tensor(0.0313, grad_fn=<MeanBackward0>) tensor(0.0723)\n",
            "OrderedDict([('weights', tensor([0.5459])), ('bias', tensor([0.3648]))])\n",
            "tensor(0.0310, grad_fn=<MeanBackward0>) tensor(0.0719)\n",
            "OrderedDict([('weights', tensor([0.5475])), ('bias', tensor([0.3638]))])\n",
            "tensor(0.0306, grad_fn=<MeanBackward0>) tensor(0.0708)\n",
            "OrderedDict([('weights', tensor([0.5493])), ('bias', tensor([0.3633]))])\n",
            "tensor(0.0303, grad_fn=<MeanBackward0>) tensor(0.0704)\n",
            "OrderedDict([('weights', tensor([0.5509])), ('bias', tensor([0.3623]))])\n",
            "tensor(0.0300, grad_fn=<MeanBackward0>) tensor(0.0693)\n",
            "OrderedDict([('weights', tensor([0.5527])), ('bias', tensor([0.3618]))])\n",
            "tensor(0.0296, grad_fn=<MeanBackward0>) tensor(0.0682)\n",
            "OrderedDict([('weights', tensor([0.5545])), ('bias', tensor([0.3613]))])\n",
            "tensor(0.0293, grad_fn=<MeanBackward0>) tensor(0.0678)\n",
            "OrderedDict([('weights', tensor([0.5561])), ('bias', tensor([0.3603]))])\n",
            "tensor(0.0289, grad_fn=<MeanBackward0>) tensor(0.0667)\n",
            "OrderedDict([('weights', tensor([0.5579])), ('bias', tensor([0.3598]))])\n",
            "tensor(0.0286, grad_fn=<MeanBackward0>) tensor(0.0663)\n",
            "OrderedDict([('weights', tensor([0.5595])), ('bias', tensor([0.3588]))])\n",
            "tensor(0.0282, grad_fn=<MeanBackward0>) tensor(0.0652)\n",
            "OrderedDict([('weights', tensor([0.5613])), ('bias', tensor([0.3583]))])\n",
            "tensor(0.0279, grad_fn=<MeanBackward0>) tensor(0.0647)\n",
            "OrderedDict([('weights', tensor([0.5629])), ('bias', tensor([0.3573]))])\n",
            "tensor(0.0275, grad_fn=<MeanBackward0>) tensor(0.0636)\n",
            "OrderedDict([('weights', tensor([0.5647])), ('bias', tensor([0.3568]))])\n",
            "tensor(0.0272, grad_fn=<MeanBackward0>) tensor(0.0625)\n",
            "OrderedDict([('weights', tensor([0.5665])), ('bias', tensor([0.3563]))])\n",
            "tensor(0.0269, grad_fn=<MeanBackward0>) tensor(0.0621)\n",
            "OrderedDict([('weights', tensor([0.5681])), ('bias', tensor([0.3553]))])\n",
            "tensor(0.0265, grad_fn=<MeanBackward0>) tensor(0.0610)\n",
            "OrderedDict([('weights', tensor([0.5699])), ('bias', tensor([0.3548]))])\n",
            "tensor(0.0262, grad_fn=<MeanBackward0>) tensor(0.0606)\n",
            "OrderedDict([('weights', tensor([0.5715])), ('bias', tensor([0.3538]))])\n",
            "tensor(0.0258, grad_fn=<MeanBackward0>) tensor(0.0595)\n",
            "OrderedDict([('weights', tensor([0.5733])), ('bias', tensor([0.3533]))])\n",
            "tensor(0.0255, grad_fn=<MeanBackward0>) tensor(0.0591)\n",
            "OrderedDict([('weights', tensor([0.5748])), ('bias', tensor([0.3523]))])\n",
            "tensor(0.0251, grad_fn=<MeanBackward0>) tensor(0.0580)\n",
            "OrderedDict([('weights', tensor([0.5766])), ('bias', tensor([0.3518]))])\n",
            "tensor(0.0248, grad_fn=<MeanBackward0>) tensor(0.0569)\n",
            "OrderedDict([('weights', tensor([0.5784])), ('bias', tensor([0.3513]))])\n",
            "tensor(0.0245, grad_fn=<MeanBackward0>) tensor(0.0565)\n",
            "OrderedDict([('weights', tensor([0.5800])), ('bias', tensor([0.3503]))])\n",
            "tensor(0.0241, grad_fn=<MeanBackward0>) tensor(0.0554)\n",
            "OrderedDict([('weights', tensor([0.5818])), ('bias', tensor([0.3498]))])\n",
            "tensor(0.0238, grad_fn=<MeanBackward0>) tensor(0.0549)\n",
            "OrderedDict([('weights', tensor([0.5834])), ('bias', tensor([0.3488]))])\n",
            "tensor(0.0234, grad_fn=<MeanBackward0>) tensor(0.0538)\n",
            "OrderedDict([('weights', tensor([0.5852])), ('bias', tensor([0.3483]))])\n",
            "tensor(0.0231, grad_fn=<MeanBackward0>) tensor(0.0534)\n",
            "OrderedDict([('weights', tensor([0.5868])), ('bias', tensor([0.3473]))])\n",
            "tensor(0.0227, grad_fn=<MeanBackward0>) tensor(0.0523)\n",
            "OrderedDict([('weights', tensor([0.5886])), ('bias', tensor([0.3468]))])\n",
            "tensor(0.0224, grad_fn=<MeanBackward0>) tensor(0.0519)\n",
            "OrderedDict([('weights', tensor([0.5902])), ('bias', tensor([0.3458]))])\n",
            "tensor(0.0221, grad_fn=<MeanBackward0>) tensor(0.0508)\n",
            "OrderedDict([('weights', tensor([0.5920])), ('bias', tensor([0.3453]))])\n",
            "tensor(0.0217, grad_fn=<MeanBackward0>) tensor(0.0497)\n",
            "OrderedDict([('weights', tensor([0.5938])), ('bias', tensor([0.3448]))])\n",
            "tensor(0.0214, grad_fn=<MeanBackward0>) tensor(0.0493)\n",
            "OrderedDict([('weights', tensor([0.5954])), ('bias', tensor([0.3438]))])\n",
            "tensor(0.0210, grad_fn=<MeanBackward0>) tensor(0.0482)\n",
            "OrderedDict([('weights', tensor([0.5972])), ('bias', tensor([0.3433]))])\n",
            "tensor(0.0207, grad_fn=<MeanBackward0>) tensor(0.0478)\n",
            "OrderedDict([('weights', tensor([0.5988])), ('bias', tensor([0.3423]))])\n",
            "tensor(0.0203, grad_fn=<MeanBackward0>) tensor(0.0467)\n",
            "OrderedDict([('weights', tensor([0.6006])), ('bias', tensor([0.3418]))])\n",
            "tensor(0.0200, grad_fn=<MeanBackward0>) tensor(0.0463)\n",
            "OrderedDict([('weights', tensor([0.6022])), ('bias', tensor([0.3408]))])\n",
            "tensor(0.0196, grad_fn=<MeanBackward0>) tensor(0.0452)\n",
            "OrderedDict([('weights', tensor([0.6040])), ('bias', tensor([0.3403]))])\n",
            "tensor(0.0193, grad_fn=<MeanBackward0>) tensor(0.0441)\n",
            "OrderedDict([('weights', tensor([0.6058])), ('bias', tensor([0.3398]))])\n",
            "tensor(0.0190, grad_fn=<MeanBackward0>) tensor(0.0436)\n",
            "OrderedDict([('weights', tensor([0.6074])), ('bias', tensor([0.3388]))])\n",
            "tensor(0.0186, grad_fn=<MeanBackward0>) tensor(0.0425)\n",
            "OrderedDict([('weights', tensor([0.6092])), ('bias', tensor([0.3383]))])\n",
            "tensor(0.0183, grad_fn=<MeanBackward0>) tensor(0.0421)\n",
            "OrderedDict([('weights', tensor([0.6108])), ('bias', tensor([0.3373]))])\n",
            "tensor(0.0179, grad_fn=<MeanBackward0>) tensor(0.0410)\n",
            "OrderedDict([('weights', tensor([0.6126])), ('bias', tensor([0.3368]))])\n",
            "tensor(0.0176, grad_fn=<MeanBackward0>) tensor(0.0406)\n",
            "OrderedDict([('weights', tensor([0.6141])), ('bias', tensor([0.3358]))])\n",
            "tensor(0.0172, grad_fn=<MeanBackward0>) tensor(0.0395)\n",
            "OrderedDict([('weights', tensor([0.6159])), ('bias', tensor([0.3353]))])\n",
            "tensor(0.0169, grad_fn=<MeanBackward0>) tensor(0.0391)\n",
            "OrderedDict([('weights', tensor([0.6175])), ('bias', tensor([0.3343]))])\n",
            "tensor(0.0166, grad_fn=<MeanBackward0>) tensor(0.0380)\n",
            "OrderedDict([('weights', tensor([0.6193])), ('bias', tensor([0.3338]))])\n",
            "tensor(0.0162, grad_fn=<MeanBackward0>) tensor(0.0369)\n",
            "OrderedDict([('weights', tensor([0.6211])), ('bias', tensor([0.3333]))])\n",
            "tensor(0.0159, grad_fn=<MeanBackward0>) tensor(0.0365)\n",
            "OrderedDict([('weights', tensor([0.6227])), ('bias', tensor([0.3323]))])\n",
            "tensor(0.0155, grad_fn=<MeanBackward0>) tensor(0.0354)\n",
            "OrderedDict([('weights', tensor([0.6245])), ('bias', tensor([0.3318]))])\n",
            "tensor(0.0152, grad_fn=<MeanBackward0>) tensor(0.0350)\n",
            "OrderedDict([('weights', tensor([0.6261])), ('bias', tensor([0.3308]))])\n",
            "tensor(0.0148, grad_fn=<MeanBackward0>) tensor(0.0338)\n",
            "OrderedDict([('weights', tensor([0.6279])), ('bias', tensor([0.3303]))])\n",
            "tensor(0.0145, grad_fn=<MeanBackward0>) tensor(0.0334)\n",
            "OrderedDict([('weights', tensor([0.6295])), ('bias', tensor([0.3293]))])\n",
            "tensor(0.0142, grad_fn=<MeanBackward0>) tensor(0.0323)\n",
            "OrderedDict([('weights', tensor([0.6313])), ('bias', tensor([0.3288]))])\n",
            "tensor(0.0138, grad_fn=<MeanBackward0>) tensor(0.0312)\n",
            "OrderedDict([('weights', tensor([0.6331])), ('bias', tensor([0.3283]))])\n",
            "tensor(0.0135, grad_fn=<MeanBackward0>) tensor(0.0308)\n",
            "OrderedDict([('weights', tensor([0.6347])), ('bias', tensor([0.3273]))])\n",
            "tensor(0.0131, grad_fn=<MeanBackward0>) tensor(0.0297)\n",
            "OrderedDict([('weights', tensor([0.6365])), ('bias', tensor([0.3268]))])\n",
            "tensor(0.0128, grad_fn=<MeanBackward0>) tensor(0.0293)\n",
            "OrderedDict([('weights', tensor([0.6381])), ('bias', tensor([0.3258]))])\n",
            "tensor(0.0124, grad_fn=<MeanBackward0>) tensor(0.0282)\n",
            "OrderedDict([('weights', tensor([0.6399])), ('bias', tensor([0.3253]))])\n",
            "tensor(0.0121, grad_fn=<MeanBackward0>) tensor(0.0278)\n",
            "OrderedDict([('weights', tensor([0.6415])), ('bias', tensor([0.3243]))])\n",
            "tensor(0.0118, grad_fn=<MeanBackward0>) tensor(0.0267)\n",
            "OrderedDict([('weights', tensor([0.6433])), ('bias', tensor([0.3238]))])\n",
            "tensor(0.0114, grad_fn=<MeanBackward0>) tensor(0.0256)\n",
            "OrderedDict([('weights', tensor([0.6451])), ('bias', tensor([0.3233]))])\n",
            "tensor(0.0111, grad_fn=<MeanBackward0>) tensor(0.0252)\n",
            "OrderedDict([('weights', tensor([0.6467])), ('bias', tensor([0.3223]))])\n",
            "tensor(0.0107, grad_fn=<MeanBackward0>) tensor(0.0241)\n",
            "OrderedDict([('weights', tensor([0.6485])), ('bias', tensor([0.3218]))])\n",
            "tensor(0.0104, grad_fn=<MeanBackward0>) tensor(0.0236)\n",
            "OrderedDict([('weights', tensor([0.6501])), ('bias', tensor([0.3208]))])\n",
            "tensor(0.0100, grad_fn=<MeanBackward0>) tensor(0.0225)\n",
            "OrderedDict([('weights', tensor([0.6519])), ('bias', tensor([0.3203]))])\n",
            "tensor(0.0097, grad_fn=<MeanBackward0>) tensor(0.0221)\n",
            "OrderedDict([('weights', tensor([0.6534])), ('bias', tensor([0.3193]))])\n",
            "tensor(0.0093, grad_fn=<MeanBackward0>) tensor(0.0210)\n",
            "OrderedDict([('weights', tensor([0.6552])), ('bias', tensor([0.3188]))])\n",
            "tensor(0.0090, grad_fn=<MeanBackward0>) tensor(0.0206)\n",
            "OrderedDict([('weights', tensor([0.6568])), ('bias', tensor([0.3178]))])\n",
            "tensor(0.0087, grad_fn=<MeanBackward0>) tensor(0.0195)\n",
            "OrderedDict([('weights', tensor([0.6586])), ('bias', tensor([0.3173]))])\n",
            "tensor(0.0083, grad_fn=<MeanBackward0>) tensor(0.0184)\n",
            "OrderedDict([('weights', tensor([0.6604])), ('bias', tensor([0.3168]))])\n",
            "tensor(0.0080, grad_fn=<MeanBackward0>) tensor(0.0180)\n",
            "OrderedDict([('weights', tensor([0.6620])), ('bias', tensor([0.3158]))])\n",
            "tensor(0.0076, grad_fn=<MeanBackward0>) tensor(0.0169)\n",
            "OrderedDict([('weights', tensor([0.6638])), ('bias', tensor([0.3153]))])\n",
            "tensor(0.0073, grad_fn=<MeanBackward0>) tensor(0.0165)\n",
            "OrderedDict([('weights', tensor([0.6654])), ('bias', tensor([0.3143]))])\n",
            "tensor(0.0069, grad_fn=<MeanBackward0>) tensor(0.0154)\n",
            "OrderedDict([('weights', tensor([0.6672])), ('bias', tensor([0.3138]))])\n",
            "tensor(0.0066, grad_fn=<MeanBackward0>) tensor(0.0150)\n",
            "OrderedDict([('weights', tensor([0.6688])), ('bias', tensor([0.3128]))])\n",
            "tensor(0.0063, grad_fn=<MeanBackward0>) tensor(0.0139)\n",
            "OrderedDict([('weights', tensor([0.6706])), ('bias', tensor([0.3123]))])\n",
            "tensor(0.0059, grad_fn=<MeanBackward0>) tensor(0.0128)\n",
            "OrderedDict([('weights', tensor([0.6724])), ('bias', tensor([0.3118]))])\n",
            "tensor(0.0056, grad_fn=<MeanBackward0>) tensor(0.0123)\n",
            "OrderedDict([('weights', tensor([0.6740])), ('bias', tensor([0.3108]))])\n",
            "tensor(0.0052, grad_fn=<MeanBackward0>) tensor(0.0112)\n",
            "OrderedDict([('weights', tensor([0.6758])), ('bias', tensor([0.3103]))])\n",
            "tensor(0.0049, grad_fn=<MeanBackward0>) tensor(0.0108)\n",
            "OrderedDict([('weights', tensor([0.6774])), ('bias', tensor([0.3093]))])\n",
            "tensor(0.0045, grad_fn=<MeanBackward0>) tensor(0.0097)\n",
            "OrderedDict([('weights', tensor([0.6792])), ('bias', tensor([0.3088]))])\n",
            "tensor(0.0042, grad_fn=<MeanBackward0>) tensor(0.0093)\n",
            "OrderedDict([('weights', tensor([0.6808])), ('bias', tensor([0.3078]))])\n",
            "tensor(0.0039, grad_fn=<MeanBackward0>) tensor(0.0082)\n",
            "OrderedDict([('weights', tensor([0.6826])), ('bias', tensor([0.3073]))])\n",
            "tensor(0.0035, grad_fn=<MeanBackward0>) tensor(0.0071)\n",
            "OrderedDict([('weights', tensor([0.6844])), ('bias', tensor([0.3068]))])\n",
            "tensor(0.0032, grad_fn=<MeanBackward0>) tensor(0.0067)\n",
            "OrderedDict([('weights', tensor([0.6860])), ('bias', tensor([0.3058]))])\n",
            "tensor(0.0028, grad_fn=<MeanBackward0>) tensor(0.0056)\n",
            "OrderedDict([('weights', tensor([0.6878])), ('bias', tensor([0.3053]))])\n",
            "tensor(0.0025, grad_fn=<MeanBackward0>) tensor(0.0052)\n",
            "OrderedDict([('weights', tensor([0.6894])), ('bias', tensor([0.3043]))])\n",
            "tensor(0.0021, grad_fn=<MeanBackward0>) tensor(0.0041)\n",
            "OrderedDict([('weights', tensor([0.6912])), ('bias', tensor([0.3038]))])\n",
            "tensor(0.0018, grad_fn=<MeanBackward0>) tensor(0.0037)\n",
            "OrderedDict([('weights', tensor([0.6927])), ('bias', tensor([0.3028]))])\n",
            "tensor(0.0015, grad_fn=<MeanBackward0>) tensor(0.0019)\n",
            "OrderedDict([('weights', tensor([0.6947])), ('bias', tensor([0.3028]))])\n",
            "tensor(0.0012, grad_fn=<MeanBackward0>) tensor(0.0050)\n",
            "OrderedDict([('weights', tensor([0.6951])), ('bias', tensor([0.2993]))])\n",
            "tensor(0.0026, grad_fn=<MeanBackward0>) tensor(0.0084)\n",
            "OrderedDict([('weights', tensor([0.6990])), ('bias', tensor([0.3093]))])\n",
            "tensor(0.0089, grad_fn=<MeanBackward0>) tensor(0.0050)\n",
            "OrderedDict([('weights', tensor([0.6951])), ('bias', tensor([0.2993]))])\n",
            "tensor(0.0026, grad_fn=<MeanBackward0>) tensor(0.0084)\n",
            "OrderedDict([('weights', tensor([0.6990])), ('bias', tensor([0.3093]))])\n",
            "tensor(0.0089, grad_fn=<MeanBackward0>) tensor(0.0050)\n",
            "OrderedDict([('weights', tensor([0.6951])), ('bias', tensor([0.2993]))])\n",
            "tensor(0.0026, grad_fn=<MeanBackward0>) tensor(0.0084)\n",
            "OrderedDict([('weights', tensor([0.6990])), ('bias', tensor([0.3093]))])\n",
            "tensor(0.0089, grad_fn=<MeanBackward0>) tensor(0.0050)\n",
            "OrderedDict([('weights', tensor([0.6951])), ('bias', tensor([0.2993]))])\n",
            "tensor(0.0026, grad_fn=<MeanBackward0>) tensor(0.0084)\n",
            "OrderedDict([('weights', tensor([0.6990])), ('bias', tensor([0.3093]))])\n",
            "tensor(0.0089, grad_fn=<MeanBackward0>) tensor(0.0050)\n",
            "OrderedDict([('weights', tensor([0.6951])), ('bias', tensor([0.2993]))])\n",
            "tensor(0.0026, grad_fn=<MeanBackward0>) tensor(0.0084)\n",
            "OrderedDict([('weights', tensor([0.6990])), ('bias', tensor([0.3093]))])\n",
            "tensor(0.0089, grad_fn=<MeanBackward0>) tensor(0.0050)\n",
            "OrderedDict([('weights', tensor([0.6951])), ('bias', tensor([0.2993]))])\n",
            "tensor(0.0026, grad_fn=<MeanBackward0>) tensor(0.0084)\n",
            "OrderedDict([('weights', tensor([0.6990])), ('bias', tensor([0.3093]))])\n",
            "tensor(0.0089, grad_fn=<MeanBackward0>) tensor(0.0050)\n",
            "OrderedDict([('weights', tensor([0.6951])), ('bias', tensor([0.2993]))])\n",
            "tensor(0.0026, grad_fn=<MeanBackward0>) tensor(0.0084)\n",
            "OrderedDict([('weights', tensor([0.6990])), ('bias', tensor([0.3093]))])\n",
            "tensor(0.0089, grad_fn=<MeanBackward0>) tensor(0.0050)\n",
            "OrderedDict([('weights', tensor([0.6951])), ('bias', tensor([0.2993]))])\n",
            "tensor(0.0026, grad_fn=<MeanBackward0>) tensor(0.0084)\n",
            "OrderedDict([('weights', tensor([0.6990])), ('bias', tensor([0.3093]))])\n",
            "tensor(0.0089, grad_fn=<MeanBackward0>) tensor(0.0050)\n",
            "OrderedDict([('weights', tensor([0.6951])), ('bias', tensor([0.2993]))])\n",
            "tensor(0.0026, grad_fn=<MeanBackward0>) tensor(0.0084)\n",
            "OrderedDict([('weights', tensor([0.6990])), ('bias', tensor([0.3093]))])\n",
            "tensor(0.0089, grad_fn=<MeanBackward0>) tensor(0.0050)\n",
            "OrderedDict([('weights', tensor([0.6951])), ('bias', tensor([0.2993]))])\n",
            "tensor(0.0026, grad_fn=<MeanBackward0>) tensor(0.0084)\n",
            "OrderedDict([('weights', tensor([0.6990])), ('bias', tensor([0.3093]))])\n",
            "tensor(0.0089, grad_fn=<MeanBackward0>) tensor(0.0050)\n",
            "OrderedDict([('weights', tensor([0.6951])), ('bias', tensor([0.2993]))])\n",
            "tensor(0.0026, grad_fn=<MeanBackward0>) tensor(0.0084)\n",
            "OrderedDict([('weights', tensor([0.6990])), ('bias', tensor([0.3093]))])\n",
            "tensor(0.0089, grad_fn=<MeanBackward0>) tensor(0.0050)\n",
            "OrderedDict([('weights', tensor([0.6951])), ('bias', tensor([0.2993]))])\n",
            "tensor(0.0026, grad_fn=<MeanBackward0>) tensor(0.0084)\n",
            "OrderedDict([('weights', tensor([0.6990])), ('bias', tensor([0.3093]))])\n",
            "tensor(0.0089, grad_fn=<MeanBackward0>) tensor(0.0050)\n",
            "OrderedDict([('weights', tensor([0.6951])), ('bias', tensor([0.2993]))])\n",
            "tensor(0.0026, grad_fn=<MeanBackward0>) tensor(0.0084)\n",
            "OrderedDict([('weights', tensor([0.6990])), ('bias', tensor([0.3093]))])\n",
            "tensor(0.0089, grad_fn=<MeanBackward0>) tensor(0.0050)\n",
            "OrderedDict([('weights', tensor([0.6951])), ('bias', tensor([0.2993]))])\n",
            "tensor(0.0026, grad_fn=<MeanBackward0>) tensor(0.0084)\n",
            "OrderedDict([('weights', tensor([0.6990])), ('bias', tensor([0.3093]))])\n",
            "tensor(0.0089, grad_fn=<MeanBackward0>) tensor(0.0050)\n",
            "OrderedDict([('weights', tensor([0.6951])), ('bias', tensor([0.2993]))])\n",
            "tensor(0.0026, grad_fn=<MeanBackward0>) tensor(0.0084)\n",
            "OrderedDict([('weights', tensor([0.6990])), ('bias', tensor([0.3093]))])\n",
            "tensor(0.0089, grad_fn=<MeanBackward0>) tensor(0.0050)\n",
            "OrderedDict([('weights', tensor([0.6951])), ('bias', tensor([0.2993]))])\n",
            "tensor(0.0026, grad_fn=<MeanBackward0>) tensor(0.0084)\n",
            "OrderedDict([('weights', tensor([0.6990])), ('bias', tensor([0.3093]))])\n"
          ]
        }
      ]
    },
    {
      "cell_type": "code",
      "source": [
        "# In deep learning and neural network training, the optimization process involves iteratively updating the model's parameters (weights and biases) to minimize the loss function. The code you provided is a common training loop for training a neural network model. Let's break down the purpose of `optimizer.zero_grad()` and `optimizer.step()`:\n",
        "\n",
        "# 1. `optimizer.zero_grad()`: In PyTorch, when you perform gradient descent to update the model parameters, the gradients are accumulated in each parameter's `.grad` attribute during the backward pass. If you call the backward pass (`loss.backward()`) multiple times, these gradients would accumulate, potentially leading to incorrect updates. `optimizer.zero_grad()` is used to reset all gradients to zero before computing the gradients for the current batch. This ensures that each batch's gradients are computed independently and don't interfere with each other.\n",
        "\n",
        "# 2. `loss.backward()`: This step computes the gradients of the loss function with respect to the model's parameters using the backpropagation algorithm. These gradients indicate how each parameter should be adjusted to reduce the loss.\n",
        "\n",
        "# 3. `optimizer.step()`: After the gradients have been computed using `loss.backward()`, the optimizer is used to update the model's parameters. The optimizer's `step()` function performs the actual parameter updates based on the gradients. It applies the optimization algorithm (e.g., stochastic gradient descent, Adam, RMSprop) to update the model's parameters in the direction that minimizes the loss.\n",
        "\n",
        "# In your provided code, this sequence of steps ensures that the model's parameters are updated iteratively based on the computed gradients, moving the model towards better performance in terms of reducing the loss. This process is repeated for each epoch in the training loop, gradually improving the model's ability to make accurate predictions on the training data.\n",
        "\n",
        "### In summary, `optimizer.zero_grad()` prevents gradient accumulation across batches, `loss.backward()` computes gradients, and `optimizer.step()` updates the model's parameters based on those gradients. This trio of operations is essential for the training of neural network models."
      ],
      "metadata": {
        "id": "GFpayDL1RJWU"
      },
      "execution_count": 25,
      "outputs": []
    },
    {
      "cell_type": "markdown",
      "source": [],
      "metadata": {
        "id": "J8tmcUADoTg4"
      }
    },
    {
      "cell_type": "code",
      "source": [
        "model_0.state_dict()"
      ],
      "metadata": {
        "id": "uw7u0PM3RJZL",
        "colab": {
          "base_uri": "https://localhost:8080/"
        },
        "outputId": "e604374a-b169-4a71-fa5f-36683f16a3e3"
      },
      "execution_count": 26,
      "outputs": [
        {
          "output_type": "execute_result",
          "data": {
            "text/plain": [
              "OrderedDict([('weights', tensor([0.6990])), ('bias', tensor([0.3093]))])"
            ]
          },
          "metadata": {},
          "execution_count": 26
        }
      ]
    },
    {
      "cell_type": "code",
      "source": [
        "with torch.inference_mode():#same as torch.no_grad\n",
        "  y_preds = model_0(x_test)\n",
        "\n",
        "y_preds"
      ],
      "metadata": {
        "id": "19JEmYmwRJb3",
        "colab": {
          "base_uri": "https://localhost:8080/"
        },
        "outputId": "4e534b62-dc76-4109-9cd1-652060b2edf6"
      },
      "execution_count": 27,
      "outputs": [
        {
          "output_type": "execute_result",
          "data": {
            "text/plain": [
              "tensor([[0.8685],\n",
              "        [0.8825],\n",
              "        [0.8965],\n",
              "        [0.9105],\n",
              "        [0.9245],\n",
              "        [0.9384],\n",
              "        [0.9524],\n",
              "        [0.9664],\n",
              "        [0.9804],\n",
              "        [0.9944]])"
            ]
          },
          "metadata": {},
          "execution_count": 27
        }
      ]
    },
    {
      "cell_type": "code",
      "source": [
        "plot_predictions(predictions=y_preds)"
      ],
      "metadata": {
        "id": "Yg1p2-CNRJex",
        "colab": {
          "base_uri": "https://localhost:8080/",
          "height": 599
        },
        "outputId": "9b3421ef-9a06-48de-c075-be9cfeee3482"
      },
      "execution_count": 28,
      "outputs": [
        {
          "output_type": "display_data",
          "data": {
            "text/plain": [
              "<Figure size 1000x700 with 1 Axes>"
            ],
            "image/png": "[encoded data removed]"
          },
          "metadata": {}
        }
      ]
    },
    {
      "cell_type": "code",
      "source": [
        "#plot loss curves"
      ],
      "metadata": {
        "id": "nTr4vuYNRJh9"
      },
      "execution_count": 29,
      "outputs": []
    },
    {
      "cell_type": "code",
      "source": [
        "epoch_count, loss_values, test_loss_values"
      ],
      "metadata": {
        "id": "HSD3BUL-RJk3",
        "colab": {
          "base_uri": "https://localhost:8080/"
        },
        "outputId": "019b31de-67ea-4a1e-dce9-5db411eca166"
      },
      "execution_count": 30,
      "outputs": [
        {
          "output_type": "execute_result",
          "data": {
            "text/plain": [
              "([0,\n",
              "  1,\n",
              "  2,\n",
              "  3,\n",
              "  4,\n",
              "  5,\n",
              "  6,\n",
              "  7,\n",
              "  8,\n",
              "  9,\n",
              "  10,\n",
              "  11,\n",
              "  12,\n",
              "  13,\n",
              "  14,\n",
              "  15,\n",
              "  16,\n",
              "  17,\n",
              "  18,\n",
              "  19,\n",
              "  20,\n",
              "  21,\n",
              "  22,\n",
              "  23,\n",
              "  24,\n",
              "  25,\n",
              "  26,\n",
              "  27,\n",
              "  28,\n",
              "  29,\n",
              "  30,\n",
              "  31,\n",
              "  32,\n",
              "  33,\n",
              "  34,\n",
              "  35,\n",
              "  36,\n",
              "  37,\n",
              "  38,\n",
              "  39,\n",
              "  40,\n",
              "  41,\n",
              "  42,\n",
              "  43,\n",
              "  44,\n",
              "  45,\n",
              "  46,\n",
              "  47,\n",
              "  48,\n",
              "  49,\n",
              "  50,\n",
              "  51,\n",
              "  52,\n",
              "  53,\n",
              "  54,\n",
              "  55,\n",
              "  56,\n",
              "  57,\n",
              "  58,\n",
              "  59,\n",
              "  60,\n",
              "  61,\n",
              "  62,\n",
              "  63,\n",
              "  64,\n",
              "  65,\n",
              "  66,\n",
              "  67,\n",
              "  68,\n",
              "  69,\n",
              "  70,\n",
              "  71,\n",
              "  72,\n",
              "  73,\n",
              "  74,\n",
              "  75,\n",
              "  76,\n",
              "  77,\n",
              "  78,\n",
              "  79,\n",
              "  80,\n",
              "  81,\n",
              "  82,\n",
              "  83,\n",
              "  84,\n",
              "  85,\n",
              "  86,\n",
              "  87,\n",
              "  88,\n",
              "  89,\n",
              "  90,\n",
              "  91,\n",
              "  92,\n",
              "  93,\n",
              "  94,\n",
              "  95,\n",
              "  96,\n",
              "  97,\n",
              "  98,\n",
              "  99,\n",
              "  100,\n",
              "  101,\n",
              "  102,\n",
              "  103,\n",
              "  104,\n",
              "  105,\n",
              "  106,\n",
              "  107,\n",
              "  108,\n",
              "  109,\n",
              "  110,\n",
              "  111,\n",
              "  112,\n",
              "  113,\n",
              "  114,\n",
              "  115,\n",
              "  116,\n",
              "  117,\n",
              "  118,\n",
              "  119,\n",
              "  120,\n",
              "  121,\n",
              "  122,\n",
              "  123,\n",
              "  124,\n",
              "  125,\n",
              "  126,\n",
              "  127,\n",
              "  128,\n",
              "  129,\n",
              "  130,\n",
              "  131,\n",
              "  132,\n",
              "  133,\n",
              "  134,\n",
              "  135,\n",
              "  136,\n",
              "  137,\n",
              "  138,\n",
              "  139,\n",
              "  140,\n",
              "  141,\n",
              "  142,\n",
              "  143,\n",
              "  144,\n",
              "  145,\n",
              "  146,\n",
              "  147,\n",
              "  148,\n",
              "  149,\n",
              "  150,\n",
              "  151,\n",
              "  152,\n",
              "  153,\n",
              "  154,\n",
              "  155,\n",
              "  156,\n",
              "  157,\n",
              "  158,\n",
              "  159,\n",
              "  160,\n",
              "  161,\n",
              "  162,\n",
              "  163,\n",
              "  164,\n",
              "  165,\n",
              "  166,\n",
              "  167,\n",
              "  168,\n",
              "  169,\n",
              "  170,\n",
              "  171,\n",
              "  172,\n",
              "  173,\n",
              "  174,\n",
              "  175,\n",
              "  176,\n",
              "  177,\n",
              "  178,\n",
              "  179,\n",
              "  180,\n",
              "  181,\n",
              "  182,\n",
              "  183,\n",
              "  184,\n",
              "  185,\n",
              "  186,\n",
              "  187,\n",
              "  188,\n",
              "  189,\n",
              "  190,\n",
              "  191,\n",
              "  192,\n",
              "  193,\n",
              "  194,\n",
              "  195,\n",
              "  196,\n",
              "  197,\n",
              "  198,\n",
              "  199],\n",
              " [tensor(0.3129, grad_fn=<MeanBackward0>),\n",
              "  tensor(0.3014, grad_fn=<MeanBackward0>),\n",
              "  tensor(0.2898, grad_fn=<MeanBackward0>),\n",
              "  tensor(0.2783, grad_fn=<MeanBackward0>),\n",
              "  tensor(0.2668, grad_fn=<MeanBackward0>),\n",
              "  tensor(0.2553, grad_fn=<MeanBackward0>),\n",
              "  tensor(0.2438, grad_fn=<MeanBackward0>),\n",
              "  tensor(0.2322, grad_fn=<MeanBackward0>),\n",
              "  tensor(0.2207, grad_fn=<MeanBackward0>),\n",
              "  tensor(0.2092, grad_fn=<MeanBackward0>),\n",
              "  tensor(0.1977, grad_fn=<MeanBackward0>),\n",
              "  tensor(0.1862, grad_fn=<MeanBackward0>),\n",
              "  tensor(0.1746, grad_fn=<MeanBackward0>),\n",
              "  tensor(0.1631, grad_fn=<MeanBackward0>),\n",
              "  tensor(0.1516, grad_fn=<MeanBackward0>),\n",
              "  tensor(0.1401, grad_fn=<MeanBackward0>),\n",
              "  tensor(0.1285, grad_fn=<MeanBackward0>),\n",
              "  tensor(0.1170, grad_fn=<MeanBackward0>),\n",
              "  tensor(0.1061, grad_fn=<MeanBackward0>),\n",
              "  tensor(0.0968, grad_fn=<MeanBackward0>),\n",
              "  tensor(0.0891, grad_fn=<MeanBackward0>),\n",
              "  tensor(0.0823, grad_fn=<MeanBackward0>),\n",
              "  tensor(0.0764, grad_fn=<MeanBackward0>),\n",
              "  tensor(0.0716, grad_fn=<MeanBackward0>),\n",
              "  tensor(0.0675, grad_fn=<MeanBackward0>),\n",
              "  tensor(0.0640, grad_fn=<MeanBackward0>),\n",
              "  tensor(0.0610, grad_fn=<MeanBackward0>),\n",
              "  tensor(0.0585, grad_fn=<MeanBackward0>),\n",
              "  tensor(0.0564, grad_fn=<MeanBackward0>),\n",
              "  tensor(0.0546, grad_fn=<MeanBackward0>),\n",
              "  tensor(0.0531, grad_fn=<MeanBackward0>),\n",
              "  tensor(0.0518, grad_fn=<MeanBackward0>),\n",
              "  tensor(0.0507, grad_fn=<MeanBackward0>),\n",
              "  tensor(0.0498, grad_fn=<MeanBackward0>),\n",
              "  tensor(0.0490, grad_fn=<MeanBackward0>),\n",
              "  tensor(0.0482, grad_fn=<MeanBackward0>),\n",
              "  tensor(0.0475, grad_fn=<MeanBackward0>),\n",
              "  tensor(0.0469, grad_fn=<MeanBackward0>),\n",
              "  tensor(0.0464, grad_fn=<MeanBackward0>),\n",
              "  tensor(0.0459, grad_fn=<MeanBackward0>),\n",
              "  tensor(0.0454, grad_fn=<MeanBackward0>),\n",
              "  tensor(0.0450, grad_fn=<MeanBackward0>),\n",
              "  tensor(0.0446, grad_fn=<MeanBackward0>),\n",
              "  tensor(0.0442, grad_fn=<MeanBackward0>),\n",
              "  tensor(0.0438, grad_fn=<MeanBackward0>),\n",
              "  tensor(0.0434, grad_fn=<MeanBackward0>),\n",
              "  tensor(0.0431, grad_fn=<MeanBackward0>),\n",
              "  tensor(0.0427, grad_fn=<MeanBackward0>),\n",
              "  tensor(0.0424, grad_fn=<MeanBackward0>),\n",
              "  tensor(0.0420, grad_fn=<MeanBackward0>),\n",
              "  tensor(0.0417, grad_fn=<MeanBackward0>),\n",
              "  tensor(0.0413, grad_fn=<MeanBackward0>),\n",
              "  tensor(0.0410, grad_fn=<MeanBackward0>),\n",
              "  tensor(0.0406, grad_fn=<MeanBackward0>),\n",
              "  tensor(0.0403, grad_fn=<MeanBackward0>),\n",
              "  tensor(0.0399, grad_fn=<MeanBackward0>),\n",
              "  tensor(0.0396, grad_fn=<MeanBackward0>),\n",
              "  tensor(0.0392, grad_fn=<MeanBackward0>),\n",
              "  tensor(0.0389, grad_fn=<MeanBackward0>),\n",
              "  tensor(0.0385, grad_fn=<MeanBackward0>),\n",
              "  tensor(0.0382, grad_fn=<MeanBackward0>),\n",
              "  tensor(0.0379, grad_fn=<MeanBackward0>),\n",
              "  tensor(0.0375, grad_fn=<MeanBackward0>),\n",
              "  tensor(0.0372, grad_fn=<MeanBackward0>),\n",
              "  tensor(0.0368, grad_fn=<MeanBackward0>),\n",
              "  tensor(0.0365, grad_fn=<MeanBackward0>),\n",
              "  tensor(0.0361, grad_fn=<MeanBackward0>),\n",
              "  tensor(0.0358, grad_fn=<MeanBackward0>),\n",
              "  tensor(0.0354, grad_fn=<MeanBackward0>),\n",
              "  tensor(0.0351, grad_fn=<MeanBackward0>),\n",
              "  tensor(0.0348, grad_fn=<MeanBackward0>),\n",
              "  tensor(0.0344, grad_fn=<MeanBackward0>),\n",
              "  tensor(0.0341, grad_fn=<MeanBackward0>),\n",
              "  tensor(0.0337, grad_fn=<MeanBackward0>),\n",
              "  tensor(0.0334, grad_fn=<MeanBackward0>),\n",
              "  tensor(0.0330, grad_fn=<MeanBackward0>),\n",
              "  tensor(0.0327, grad_fn=<MeanBackward0>),\n",
              "  tensor(0.0324, grad_fn=<MeanBackward0>),\n",
              "  tensor(0.0320, grad_fn=<MeanBackward0>),\n",
              "  tensor(0.0317, grad_fn=<MeanBackward0>),\n",
              "  tensor(0.0313, grad_fn=<MeanBackward0>),\n",
              "  tensor(0.0310, grad_fn=<MeanBackward0>),\n",
              "  tensor(0.0306, grad_fn=<MeanBackward0>),\n",
              "  tensor(0.0303, grad_fn=<MeanBackward0>),\n",
              "  tensor(0.0300, grad_fn=<MeanBackward0>),\n",
              "  tensor(0.0296, grad_fn=<MeanBackward0>),\n",
              "  tensor(0.0293, grad_fn=<MeanBackward0>),\n",
              "  tensor(0.0289, grad_fn=<MeanBackward0>),\n",
              "  tensor(0.0286, grad_fn=<MeanBackward0>),\n",
              "  tensor(0.0282, grad_fn=<MeanBackward0>),\n",
              "  tensor(0.0279, grad_fn=<MeanBackward0>),\n",
              "  tensor(0.0275, grad_fn=<MeanBackward0>),\n",
              "  tensor(0.0272, grad_fn=<MeanBackward0>),\n",
              "  tensor(0.0269, grad_fn=<MeanBackward0>),\n",
              "  tensor(0.0265, grad_fn=<MeanBackward0>),\n",
              "  tensor(0.0262, grad_fn=<MeanBackward0>),\n",
              "  tensor(0.0258, grad_fn=<MeanBackward0>),\n",
              "  tensor(0.0255, grad_fn=<MeanBackward0>),\n",
              "  tensor(0.0251, grad_fn=<MeanBackward0>),\n",
              "  tensor(0.0248, grad_fn=<MeanBackward0>),\n",
              "  tensor(0.0245, grad_fn=<MeanBackward0>),\n",
              "  tensor(0.0241, grad_fn=<MeanBackward0>),\n",
              "  tensor(0.0238, grad_fn=<MeanBackward0>),\n",
              "  tensor(0.0234, grad_fn=<MeanBackward0>),\n",
              "  tensor(0.0231, grad_fn=<MeanBackward0>),\n",
              "  tensor(0.0227, grad_fn=<MeanBackward0>),\n",
              "  tensor(0.0224, grad_fn=<MeanBackward0>),\n",
              "  tensor(0.0221, grad_fn=<MeanBackward0>),\n",
              "  tensor(0.0217, grad_fn=<MeanBackward0>),\n",
              "  tensor(0.0214, grad_fn=<MeanBackward0>),\n",
              "  tensor(0.0210, grad_fn=<MeanBackward0>),\n",
              "  tensor(0.0207, grad_fn=<MeanBackward0>),\n",
              "  tensor(0.0203, grad_fn=<MeanBackward0>),\n",
              "  tensor(0.0200, grad_fn=<MeanBackward0>),\n",
              "  tensor(0.0196, grad_fn=<MeanBackward0>),\n",
              "  tensor(0.0193, grad_fn=<MeanBackward0>),\n",
              "  tensor(0.0190, grad_fn=<MeanBackward0>),\n",
              "  tensor(0.0186, grad_fn=<MeanBackward0>),\n",
              "  tensor(0.0183, grad_fn=<MeanBackward0>),\n",
              "  tensor(0.0179, grad_fn=<MeanBackward0>),\n",
              "  tensor(0.0176, grad_fn=<MeanBackward0>),\n",
              "  tensor(0.0172, grad_fn=<MeanBackward0>),\n",
              "  tensor(0.0169, grad_fn=<MeanBackward0>),\n",
              "  tensor(0.0166, grad_fn=<MeanBackward0>),\n",
              "  tensor(0.0162, grad_fn=<MeanBackward0>),\n",
              "  tensor(0.0159, grad_fn=<MeanBackward0>),\n",
              "  tensor(0.0155, grad_fn=<MeanBackward0>),\n",
              "  tensor(0.0152, grad_fn=<MeanBackward0>),\n",
              "  tensor(0.0148, grad_fn=<MeanBackward0>),\n",
              "  tensor(0.0145, grad_fn=<MeanBackward0>),\n",
              "  tensor(0.0142, grad_fn=<MeanBackward0>),\n",
              "  tensor(0.0138, grad_fn=<MeanBackward0>),\n",
              "  tensor(0.0135, grad_fn=<MeanBackward0>),\n",
              "  tensor(0.0131, grad_fn=<MeanBackward0>),\n",
              "  tensor(0.0128, grad_fn=<MeanBackward0>),\n",
              "  tensor(0.0124, grad_fn=<MeanBackward0>),\n",
              "  tensor(0.0121, grad_fn=<MeanBackward0>),\n",
              "  tensor(0.0118, grad_fn=<MeanBackward0>),\n",
              "  tensor(0.0114, grad_fn=<MeanBackward0>),\n",
              "  tensor(0.0111, grad_fn=<MeanBackward0>),\n",
              "  tensor(0.0107, grad_fn=<MeanBackward0>),\n",
              "  tensor(0.0104, grad_fn=<MeanBackward0>),\n",
              "  tensor(0.0100, grad_fn=<MeanBackward0>),\n",
              "  tensor(0.0097, grad_fn=<MeanBackward0>),\n",
              "  tensor(0.0093, grad_fn=<MeanBackward0>),\n",
              "  tensor(0.0090, grad_fn=<MeanBackward0>),\n",
              "  tensor(0.0087, grad_fn=<MeanBackward0>),\n",
              "  tensor(0.0083, grad_fn=<MeanBackward0>),\n",
              "  tensor(0.0080, grad_fn=<MeanBackward0>),\n",
              "  tensor(0.0076, grad_fn=<MeanBackward0>),\n",
              "  tensor(0.0073, grad_fn=<MeanBackward0>),\n",
              "  tensor(0.0069, grad_fn=<MeanBackward0>),\n",
              "  tensor(0.0066, grad_fn=<MeanBackward0>),\n",
              "  tensor(0.0063, grad_fn=<MeanBackward0>),\n",
              "  tensor(0.0059, grad_fn=<MeanBackward0>),\n",
              "  tensor(0.0056, grad_fn=<MeanBackward0>),\n",
              "  tensor(0.0052, grad_fn=<MeanBackward0>),\n",
              "  tensor(0.0049, grad_fn=<MeanBackward0>),\n",
              "  tensor(0.0045, grad_fn=<MeanBackward0>),\n",
              "  tensor(0.0042, grad_fn=<MeanBackward0>),\n",
              "  tensor(0.0039, grad_fn=<MeanBackward0>),\n",
              "  tensor(0.0035, grad_fn=<MeanBackward0>),\n",
              "  tensor(0.0032, grad_fn=<MeanBackward0>),\n",
              "  tensor(0.0028, grad_fn=<MeanBackward0>),\n",
              "  tensor(0.0025, grad_fn=<MeanBackward0>),\n",
              "  tensor(0.0021, grad_fn=<MeanBackward0>),\n",
              "  tensor(0.0018, grad_fn=<MeanBackward0>),\n",
              "  tensor(0.0015, grad_fn=<MeanBackward0>),\n",
              "  tensor(0.0012, grad_fn=<MeanBackward0>),\n",
              "  tensor(0.0026, grad_fn=<MeanBackward0>),\n",
              "  tensor(0.0089, grad_fn=<MeanBackward0>),\n",
              "  tensor(0.0026, grad_fn=<MeanBackward0>),\n",
              "  tensor(0.0089, grad_fn=<MeanBackward0>),\n",
              "  tensor(0.0026, grad_fn=<MeanBackward0>),\n",
              "  tensor(0.0089, grad_fn=<MeanBackward0>),\n",
              "  tensor(0.0026, grad_fn=<MeanBackward0>),\n",
              "  tensor(0.0089, grad_fn=<MeanBackward0>),\n",
              "  tensor(0.0026, grad_fn=<MeanBackward0>),\n",
              "  tensor(0.0089, grad_fn=<MeanBackward0>),\n",
              "  tensor(0.0026, grad_fn=<MeanBackward0>),\n",
              "  tensor(0.0089, grad_fn=<MeanBackward0>),\n",
              "  tensor(0.0026, grad_fn=<MeanBackward0>),\n",
              "  tensor(0.0089, grad_fn=<MeanBackward0>),\n",
              "  tensor(0.0026, grad_fn=<MeanBackward0>),\n",
              "  tensor(0.0089, grad_fn=<MeanBackward0>),\n",
              "  tensor(0.0026, grad_fn=<MeanBackward0>),\n",
              "  tensor(0.0089, grad_fn=<MeanBackward0>),\n",
              "  tensor(0.0026, grad_fn=<MeanBackward0>),\n",
              "  tensor(0.0089, grad_fn=<MeanBackward0>),\n",
              "  tensor(0.0026, grad_fn=<MeanBackward0>),\n",
              "  tensor(0.0089, grad_fn=<MeanBackward0>),\n",
              "  tensor(0.0026, grad_fn=<MeanBackward0>),\n",
              "  tensor(0.0089, grad_fn=<MeanBackward0>),\n",
              "  tensor(0.0026, grad_fn=<MeanBackward0>),\n",
              "  tensor(0.0089, grad_fn=<MeanBackward0>),\n",
              "  tensor(0.0026, grad_fn=<MeanBackward0>),\n",
              "  tensor(0.0089, grad_fn=<MeanBackward0>),\n",
              "  tensor(0.0026, grad_fn=<MeanBackward0>),\n",
              "  tensor(0.0089, grad_fn=<MeanBackward0>),\n",
              "  tensor(0.0026, grad_fn=<MeanBackward0>)],\n",
              " [tensor(0.4811),\n",
              "  tensor(0.4676),\n",
              "  tensor(0.4541),\n",
              "  tensor(0.4407),\n",
              "  tensor(0.4272),\n",
              "  tensor(0.4137),\n",
              "  tensor(0.4002),\n",
              "  tensor(0.3868),\n",
              "  tensor(0.3733),\n",
              "  tensor(0.3598),\n",
              "  tensor(0.3464),\n",
              "  tensor(0.3329),\n",
              "  tensor(0.3194),\n",
              "  tensor(0.3059),\n",
              "  tensor(0.2925),\n",
              "  tensor(0.2790),\n",
              "  tensor(0.2655),\n",
              "  tensor(0.2521),\n",
              "  tensor(0.2396),\n",
              "  tensor(0.2282),\n",
              "  tensor(0.2173),\n",
              "  tensor(0.2070),\n",
              "  tensor(0.1977),\n",
              "  tensor(0.1891),\n",
              "  tensor(0.1810),\n",
              "  tensor(0.1735),\n",
              "  tensor(0.1667),\n",
              "  tensor(0.1604),\n",
              "  tensor(0.1547),\n",
              "  tensor(0.1497),\n",
              "  tensor(0.1446),\n",
              "  tensor(0.1402),\n",
              "  tensor(0.1365),\n",
              "  tensor(0.1327),\n",
              "  tensor(0.1290),\n",
              "  tensor(0.1258),\n",
              "  tensor(0.1227),\n",
              "  tensor(0.1203),\n",
              "  tensor(0.1178),\n",
              "  tensor(0.1154),\n",
              "  tensor(0.1136),\n",
              "  tensor(0.1118),\n",
              "  tensor(0.1100),\n",
              "  tensor(0.1083),\n",
              "  tensor(0.1065),\n",
              "  tensor(0.1047),\n",
              "  tensor(0.1036),\n",
              "  tensor(0.1025),\n",
              "  tensor(0.1014),\n",
              "  tensor(0.1003),\n",
              "  tensor(0.0992),\n",
              "  tensor(0.0981),\n",
              "  tensor(0.0970),\n",
              "  tensor(0.0959),\n",
              "  tensor(0.0948),\n",
              "  tensor(0.0937),\n",
              "  tensor(0.0926),\n",
              "  tensor(0.0915),\n",
              "  tensor(0.0904),\n",
              "  tensor(0.0893),\n",
              "  tensor(0.0889),\n",
              "  tensor(0.0878),\n",
              "  tensor(0.0867),\n",
              "  tensor(0.0862),\n",
              "  tensor(0.0851),\n",
              "  tensor(0.0847),\n",
              "  tensor(0.0836),\n",
              "  tensor(0.0832),\n",
              "  tensor(0.0821),\n",
              "  tensor(0.0810),\n",
              "  tensor(0.0806),\n",
              "  tensor(0.0795),\n",
              "  tensor(0.0791),\n",
              "  tensor(0.0780),\n",
              "  tensor(0.0776),\n",
              "  tensor(0.0765),\n",
              "  tensor(0.0754),\n",
              "  tensor(0.0749),\n",
              "  tensor(0.0738),\n",
              "  tensor(0.0734),\n",
              "  tensor(0.0723),\n",
              "  tensor(0.0719),\n",
              "  tensor(0.0708),\n",
              "  tensor(0.0704),\n",
              "  tensor(0.0693),\n",
              "  tensor(0.0682),\n",
              "  tensor(0.0678),\n",
              "  tensor(0.0667),\n",
              "  tensor(0.0663),\n",
              "  tensor(0.0652),\n",
              "  tensor(0.0647),\n",
              "  tensor(0.0636),\n",
              "  tensor(0.0625),\n",
              "  tensor(0.0621),\n",
              "  tensor(0.0610),\n",
              "  tensor(0.0606),\n",
              "  tensor(0.0595),\n",
              "  tensor(0.0591),\n",
              "  tensor(0.0580),\n",
              "  tensor(0.0569),\n",
              "  tensor(0.0565),\n",
              "  tensor(0.0554),\n",
              "  tensor(0.0549),\n",
              "  tensor(0.0538),\n",
              "  tensor(0.0534),\n",
              "  tensor(0.0523),\n",
              "  tensor(0.0519),\n",
              "  tensor(0.0508),\n",
              "  tensor(0.0497),\n",
              "  tensor(0.0493),\n",
              "  tensor(0.0482),\n",
              "  tensor(0.0478),\n",
              "  tensor(0.0467),\n",
              "  tensor(0.0463),\n",
              "  tensor(0.0452),\n",
              "  tensor(0.0441),\n",
              "  tensor(0.0436),\n",
              "  tensor(0.0425),\n",
              "  tensor(0.0421),\n",
              "  tensor(0.0410),\n",
              "  tensor(0.0406),\n",
              "  tensor(0.0395),\n",
              "  tensor(0.0391),\n",
              "  tensor(0.0380),\n",
              "  tensor(0.0369),\n",
              "  tensor(0.0365),\n",
              "  tensor(0.0354),\n",
              "  tensor(0.0350),\n",
              "  tensor(0.0338),\n",
              "  tensor(0.0334),\n",
              "  tensor(0.0323),\n",
              "  tensor(0.0312),\n",
              "  tensor(0.0308),\n",
              "  tensor(0.0297),\n",
              "  tensor(0.0293),\n",
              "  tensor(0.0282),\n",
              "  tensor(0.0278),\n",
              "  tensor(0.0267),\n",
              "  tensor(0.0256),\n",
              "  tensor(0.0252),\n",
              "  tensor(0.0241),\n",
              "  tensor(0.0236),\n",
              "  tensor(0.0225),\n",
              "  tensor(0.0221),\n",
              "  tensor(0.0210),\n",
              "  tensor(0.0206),\n",
              "  tensor(0.0195),\n",
              "  tensor(0.0184),\n",
              "  tensor(0.0180),\n",
              "  tensor(0.0169),\n",
              "  tensor(0.0165),\n",
              "  tensor(0.0154),\n",
              "  tensor(0.0150),\n",
              "  tensor(0.0139),\n",
              "  tensor(0.0128),\n",
              "  tensor(0.0123),\n",
              "  tensor(0.0112),\n",
              "  tensor(0.0108),\n",
              "  tensor(0.0097),\n",
              "  tensor(0.0093),\n",
              "  tensor(0.0082),\n",
              "  tensor(0.0071),\n",
              "  tensor(0.0067),\n",
              "  tensor(0.0056),\n",
              "  tensor(0.0052),\n",
              "  tensor(0.0041),\n",
              "  tensor(0.0037),\n",
              "  tensor(0.0019),\n",
              "  tensor(0.0050),\n",
              "  tensor(0.0084),\n",
              "  tensor(0.0050),\n",
              "  tensor(0.0084),\n",
              "  tensor(0.0050),\n",
              "  tensor(0.0084),\n",
              "  tensor(0.0050),\n",
              "  tensor(0.0084),\n",
              "  tensor(0.0050),\n",
              "  tensor(0.0084),\n",
              "  tensor(0.0050),\n",
              "  tensor(0.0084),\n",
              "  tensor(0.0050),\n",
              "  tensor(0.0084),\n",
              "  tensor(0.0050),\n",
              "  tensor(0.0084),\n",
              "  tensor(0.0050),\n",
              "  tensor(0.0084),\n",
              "  tensor(0.0050),\n",
              "  tensor(0.0084),\n",
              "  tensor(0.0050),\n",
              "  tensor(0.0084),\n",
              "  tensor(0.0050),\n",
              "  tensor(0.0084),\n",
              "  tensor(0.0050),\n",
              "  tensor(0.0084),\n",
              "  tensor(0.0050),\n",
              "  tensor(0.0084),\n",
              "  tensor(0.0050),\n",
              "  tensor(0.0084),\n",
              "  tensor(0.0050),\n",
              "  tensor(0.0084)])"
            ]
          },
          "metadata": {},
          "execution_count": 30
        }
      ]
    },
    {
      "cell_type": "code",
      "source": [
        "plt.plot(epoch_count ,np.array(torch.tensor(loss_values).numpy()), label = \"Train Loss\")\n",
        "plt.plot(epoch_count ,test_loss_values, label = \"Test Loss\")\n",
        "plt.ylabel(\"Loss\")\n",
        "plt.xlabel(\"Epochs\")\n",
        "plt.legend()"
      ],
      "metadata": {
        "id": "GMfHFuXqRJni",
        "colab": {
          "base_uri": "https://localhost:8080/",
          "height": 468
        },
        "outputId": "7e5bebb8-6cf1-44d1-a283-427d29b34dce"
      },
      "execution_count": 31,
      "outputs": [
        {
          "output_type": "execute_result",
          "data": {
            "text/plain": [
              "<matplotlib.legend.Legend at 0x78e06499fdf0>"
            ]
          },
          "metadata": {},
          "execution_count": 31
        },
        {
          "output_type": "display_data",
          "data": {
            "text/plain": [
              "<Figure size 640x480 with 1 Axes>"
            ],
            "image/png": "[encoded data removed]"
          },
          "metadata": {}
        }
      ]
    },
    {
      "cell_type": "code",
      "source": [
        "#saving a model vs saving state dict(recommended)"
      ],
      "metadata": {
        "id": "a2q-En8GRJqN"
      },
      "execution_count": 34,
      "outputs": []
    },
    {
      "cell_type": "code",
      "source": [
        "from pathlib import Path\n",
        "\n",
        "MODEL_PATH = Path(\"models\")\n",
        "MODEL_PATH.mkdir(parents=True, exist_ok = True)\n",
        "MODEL_NAME = \"madhukar_lgm_0.pth\"\n",
        "MODEL_SAVE_PATH = MODEL_PATH/MODEL_NAME\n",
        "MODEL_SAVE_PATH\n",
        "\n",
        "torch.save(obj=model_0.state_dict(),f=MODEL_SAVE_PATH)\n"
      ],
      "metadata": {
        "id": "gYEBf1ZiRJtg"
      },
      "execution_count": 36,
      "outputs": []
    },
    {
      "cell_type": "code",
      "source": [
        "model_0.state_dict()"
      ],
      "metadata": {
        "id": "IjijauWCRJv9",
        "colab": {
          "base_uri": "https://localhost:8080/"
        },
        "outputId": "99260854-a846-4f12-b581-529c3e818261"
      },
      "execution_count": 37,
      "outputs": [
        {
          "output_type": "execute_result",
          "data": {
            "text/plain": [
              "OrderedDict([('weights', tensor([0.6990])), ('bias', tensor([0.3093]))])"
            ]
          },
          "metadata": {},
          "execution_count": 37
        }
      ]
    },
    {
      "cell_type": "code",
      "source": [
        "loaded_model_0 = lrm()\n",
        "loaded_model_0.load_state_dict(torch.load(f=MODEL_SAVE_PATH))"
      ],
      "metadata": {
        "id": "LhsHRnqfRJyc",
        "colab": {
          "base_uri": "https://localhost:8080/"
        },
        "outputId": "535399af-1001-4526-d0d5-05983ade6530"
      },
      "execution_count": 38,
      "outputs": [
        {
          "output_type": "execute_result",
          "data": {
            "text/plain": [
              "<All keys matched successfully>"
            ]
          },
          "metadata": {},
          "execution_count": 38
        }
      ]
    },
    {
      "cell_type": "code",
      "source": [
        "loaded_model_0.state_dict()"
      ],
      "metadata": {
        "id": "I9z26kkSRJ1E",
        "colab": {
          "base_uri": "https://localhost:8080/"
        },
        "outputId": "c8aa8cb0-61cd-4fac-90a5-4457717241bb"
      },
      "execution_count": 39,
      "outputs": [
        {
          "output_type": "execute_result",
          "data": {
            "text/plain": [
              "OrderedDict([('weights', tensor([0.6990])), ('bias', tensor([0.3093]))])"
            ]
          },
          "metadata": {},
          "execution_count": 39
        }
      ]
    },
    {
      "cell_type": "code",
      "source": [
        "loaded_model_0.eval()\n",
        "with torch.inference_mode():\n",
        "  loaded_model_preds = loaded_model_0(x_test)\n",
        "\n",
        "plot_predictions(predictions=loaded_model_preds)"
      ],
      "metadata": {
        "id": "3tI7wQjBRJ4A",
        "colab": {
          "base_uri": "https://localhost:8080/",
          "height": 599
        },
        "outputId": "3c253422-f6bd-4cd2-faf2-c00a2e9edfb7"
      },
      "execution_count": 40,
      "outputs": [
        {
          "output_type": "display_data",
          "data": {
            "text/plain": [
              "<Figure size 1000x700 with 1 Axes>"
            ],
            "image/png": "[encoded data removed]"
          },
          "metadata": {}
        }
      ]
    },
    {
      "cell_type": "code",
      "source": [],
      "metadata": {
        "id": "65SJ2IiBRJ6u"
      },
      "execution_count": 31,
      "outputs": []
    },
    {
      "cell_type": "code",
      "source": [],
      "metadata": {
        "id": "dQlOF90zRJ9A"
      },
      "execution_count": 31,
      "outputs": []
    },
    {
      "cell_type": "code",
      "source": [],
      "metadata": {
        "id": "Qsq_tREIRJ_t"
      },
      "execution_count": 31,
      "outputs": []
    },
    {
      "cell_type": "code",
      "source": [],
      "metadata": {
        "id": "HQHIjvG8RKVw"
      },
      "execution_count": 31,
      "outputs": []
    },
    {
      "cell_type": "code",
      "source": [],
      "metadata": {
        "id": "iCqZQc9DRKZT"
      },
      "execution_count": 31,
      "outputs": []
    },
    {
      "cell_type": "code",
      "source": [],
      "metadata": {
        "id": "5UaPxON-RKce"
      },
      "execution_count": 31,
      "outputs": []
    },
    {
      "cell_type": "code",
      "source": [],
      "metadata": {
        "id": "74P8sqQPRKfK"
      },
      "execution_count": 31,
      "outputs": []
    },
    {
      "cell_type": "code",
      "source": [],
      "metadata": {
        "id": "S5v_rhIuRKhl"
      },
      "execution_count": 31,
      "outputs": []
    },
    {
      "cell_type": "code",
      "source": [],
      "metadata": {
        "id": "XK6eDfRkRKk4"
      },
      "execution_count": 31,
      "outputs": []
    },
    {
      "cell_type": "code",
      "source": [],
      "metadata": {
        "id": "3d31H3S8RKnU"
      },
      "execution_count": 31,
      "outputs": []
    },
    {
      "cell_type": "code",
      "source": [],
      "metadata": {
        "id": "JSO5-T4pRKqU"
      },
      "execution_count": 31,
      "outputs": []
    },
    {
      "cell_type": "code",
      "source": [],
      "metadata": {
        "id": "Yr1p8FCMRKtF"
      },
      "execution_count": 31,
      "outputs": []
    },
    {
      "cell_type": "code",
      "source": [],
      "metadata": {
        "id": "GtCHDvxSRKzZ"
      },
      "execution_count": 31,
      "outputs": []
    },
    {
      "cell_type": "code",
      "source": [],
      "metadata": {
        "id": "O32MUhLlRK2F"
      },
      "execution_count": 31,
      "outputs": []
    },
    {
      "cell_type": "code",
      "source": [],
      "metadata": {
        "id": "zspE7qt1RK4-"
      },
      "execution_count": 31,
      "outputs": []
    },
    {
      "cell_type": "code",
      "source": [],
      "metadata": {
        "id": "piUQEiHuRK8C"
      },
      "execution_count": 31,
      "outputs": []
    },
    {
      "cell_type": "code",
      "source": [],
      "metadata": {
        "id": "BdPSo1NbRK-5"
      },
      "execution_count": 31,
      "outputs": []
    },
    {
      "cell_type": "code",
      "source": [],
      "metadata": {
        "id": "Ph2RHUAuRLCD"
      },
      "execution_count": 31,
      "outputs": []
    },
    {
      "cell_type": "code",
      "source": [],
      "metadata": {
        "id": "X367UoyDRLEt"
      },
      "execution_count": 31,
      "outputs": []
    },
    {
      "cell_type": "code",
      "source": [],
      "metadata": {
        "id": "4OC5ofKORLH1"
      },
      "execution_count": 31,
      "outputs": []
    },
    {
      "cell_type": "code",
      "source": [],
      "metadata": {
        "id": "0ko58txvRLLQ"
      },
      "execution_count": 31,
      "outputs": []
    },
    {
      "cell_type": "code",
      "source": [],
      "metadata": {
        "id": "eWwf-ko0RLOk"
      },
      "execution_count": 31,
      "outputs": []
    },
    {
      "cell_type": "code",
      "source": [],
      "metadata": {
        "id": "Fd4WiWzGRLRH"
      },
      "execution_count": 31,
      "outputs": []
    },
    {
      "cell_type": "code",
      "source": [],
      "metadata": {
        "id": "5STu_KKhRLUh"
      },
      "execution_count": 31,
      "outputs": []
    },
    {
      "cell_type": "code",
      "source": [],
      "metadata": {
        "id": "xHbUJkwERLXa"
      },
      "execution_count": 31,
      "outputs": []
    },
    {
      "cell_type": "code",
      "source": [],
      "metadata": {
        "id": "EX7H22zwRLaw"
      },
      "execution_count": 31,
      "outputs": []
    },
    {
      "cell_type": "code",
      "source": [],
      "metadata": {
        "id": "vnfkysusRLd3"
      },
      "execution_count": 31,
      "outputs": []
    },
    {
      "cell_type": "code",
      "source": [],
      "metadata": {
        "id": "1sFK2BPQRLg1"
      },
      "execution_count": 31,
      "outputs": []
    },
    {
      "cell_type": "code",
      "source": [],
      "metadata": {
        "id": "eTFbCc-tRLji"
      },
      "execution_count": 31,
      "outputs": []
    },
    {
      "cell_type": "code",
      "source": [],
      "metadata": {
        "id": "2e0vvIv9RLmZ"
      },
      "execution_count": 31,
      "outputs": []
    },
    {
      "cell_type": "code",
      "source": [],
      "metadata": {
        "id": "FisqvLk7RLou"
      },
      "execution_count": 31,
      "outputs": []
    },
    {
      "cell_type": "code",
      "source": [],
      "metadata": {
        "id": "-CgeUIY-RLrh"
      },
      "execution_count": 31,
      "outputs": []
    }
  ]
}