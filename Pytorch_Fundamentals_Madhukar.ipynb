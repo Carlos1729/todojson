{
  "nbformat": 4,
  "nbformat_minor": 0,
  "metadata": {
    "colab": {
      "provenance": [],
      "gpuType": "T4",
      "authorship_tag": "ABX9TyOFdzGnH+0Z/zrharY8Ki4K",
      "include_colab_link": true
    },
    "kernelspec": {
      "name": "python3",
      "display_name": "Python 3"
    },
    "language_info": {
      "name": "python"
    },
    "accelerator": "GPU"
  },
  "cells": [
    {
      "cell_type": "markdown",
      "metadata": {
        "id": "view-in-github",
        "colab_type": "text"
      },
      "source": [
        "<a href=\"https://colab.research.google.com/github/Carlos1729/todojson/blob/main/Pytorch_Fundamentals_Madhukar.ipynb\" target=\"_parent\"><img src=\"https://colab.research.google.com/assets/colab-badge.svg\" alt=\"Open In Colab\"/></a>"
      ]
    },
    {
      "cell_type": "code",
      "execution_count": 36,
      "metadata": {
        "id": "gArb76-TcLNL"
      },
      "outputs": [],
      "source": [
        "#Random Tensors\n",
        "import torch"
      ]
    },
    {
      "cell_type": "code",
      "source": [
        "random_tensor = torch.rand(3,4)\n",
        "print(random_tensor)#ndims will be what goes inside .rand"
      ],
      "metadata": {
        "colab": {
          "base_uri": "https://localhost:8080/"
        },
        "id": "XzQZHPt1dJy2",
        "outputId": "0ea660dd-ec39-412d-b3c3-07de00d55619"
      },
      "execution_count": 37,
      "outputs": [
        {
          "output_type": "stream",
          "name": "stdout",
          "text": [
            "tensor([[0.7735, 0.6045, 0.3651, 0.9747],\n",
            "        [0.0781, 0.9819, 0.6282, 0.1487],\n",
            "        [0.1703, 0.5465, 0.8723, 0.9178]])\n"
          ]
        }
      ]
    },
    {
      "cell_type": "code",
      "source": [
        "random_tensor.ndim"
      ],
      "metadata": {
        "colab": {
          "base_uri": "https://localhost:8080/"
        },
        "id": "AfpnHhGDdJ2O",
        "outputId": "6dad84eb-9591-42e7-90e0-8f7c2be8a4e8"
      },
      "execution_count": 38,
      "outputs": [
        {
          "output_type": "execute_result",
          "data": {
            "text/plain": [
              "2"
            ]
          },
          "metadata": {},
          "execution_count": 38
        }
      ]
    },
    {
      "cell_type": "code",
      "source": [
        "random_image_tensor = torch.rand(224,224,3) #similar to an rcb image tensor"
      ],
      "metadata": {
        "id": "3BcXS8JIdJ4I"
      },
      "execution_count": 39,
      "outputs": []
    },
    {
      "cell_type": "code",
      "source": [
        "random_image_tensor, random_image_tensor.shape, random_image_tensor.ndim"
      ],
      "metadata": {
        "colab": {
          "base_uri": "https://localhost:8080/"
        },
        "id": "-voV52J3dJ69",
        "outputId": "df424418-5e80-4a10-8924-356ece9289ff"
      },
      "execution_count": 40,
      "outputs": [
        {
          "output_type": "execute_result",
          "data": {
            "text/plain": [
              "(tensor([[[0.8082, 0.2640, 0.5527],\n",
              "          [0.6231, 0.3800, 0.7341],\n",
              "          [0.3352, 0.8859, 0.4339],\n",
              "          ...,\n",
              "          [0.6279, 0.8249, 0.3502],\n",
              "          [0.1993, 0.9566, 0.3327],\n",
              "          [0.1372, 0.8896, 0.6469]],\n",
              " \n",
              "         [[0.2261, 0.4744, 0.9987],\n",
              "          [0.5812, 0.1544, 0.0968],\n",
              "          [0.3887, 0.2780, 0.5149],\n",
              "          ...,\n",
              "          [0.3872, 0.2141, 0.6957],\n",
              "          [0.9547, 0.0035, 0.1570],\n",
              "          [0.0670, 0.0958, 0.3637]],\n",
              " \n",
              "         [[0.4926, 0.5262, 0.4822],\n",
              "          [0.9419, 0.3682, 0.4211],\n",
              "          [0.8080, 0.7073, 0.7791],\n",
              "          ...,\n",
              "          [0.8522, 0.4973, 0.2764],\n",
              "          [0.8858, 0.7069, 0.2966],\n",
              "          [0.6417, 0.2598, 0.1451]],\n",
              " \n",
              "         ...,\n",
              " \n",
              "         [[0.5360, 0.8319, 0.0713],\n",
              "          [0.9517, 0.1198, 0.7489],\n",
              "          [0.6897, 0.4527, 0.1326],\n",
              "          ...,\n",
              "          [0.5316, 0.6183, 0.0523],\n",
              "          [0.0278, 0.4762, 0.1301],\n",
              "          [0.0665, 0.4159, 0.1030]],\n",
              " \n",
              "         [[0.9397, 0.2357, 0.5239],\n",
              "          [0.6621, 0.6614, 0.7864],\n",
              "          [0.3733, 0.5228, 0.8416],\n",
              "          ...,\n",
              "          [0.8907, 0.8047, 0.2901],\n",
              "          [0.2291, 0.4710, 0.7257],\n",
              "          [0.9345, 0.1593, 0.8344]],\n",
              " \n",
              "         [[0.0673, 0.6889, 0.4066],\n",
              "          [0.9753, 0.9493, 0.3685],\n",
              "          [0.8309, 0.0176, 0.2590],\n",
              "          ...,\n",
              "          [0.5736, 0.7323, 0.5807],\n",
              "          [0.8345, 0.9242, 0.7177],\n",
              "          [0.9530, 0.9253, 0.7388]]]),\n",
              " torch.Size([224, 224, 3]),\n",
              " 3)"
            ]
          },
          "metadata": {},
          "execution_count": 40
        }
      ]
    },
    {
      "cell_type": "code",
      "source": [
        "#zeroes and ones tensors"
      ],
      "metadata": {
        "id": "rHsLunytdJ9y"
      },
      "execution_count": 41,
      "outputs": []
    },
    {
      "cell_type": "code",
      "source": [
        "zeros = torch.zeros(3,4)"
      ],
      "metadata": {
        "id": "tcR1cLxFdKAx"
      },
      "execution_count": 42,
      "outputs": []
    },
    {
      "cell_type": "code",
      "source": [
        "zeros"
      ],
      "metadata": {
        "colab": {
          "base_uri": "https://localhost:8080/"
        },
        "id": "ur40LqHSdKDf",
        "outputId": "4b004e95-9361-4d20-d494-cff950cd325f"
      },
      "execution_count": 43,
      "outputs": [
        {
          "output_type": "execute_result",
          "data": {
            "text/plain": [
              "tensor([[0., 0., 0., 0.],\n",
              "        [0., 0., 0., 0.],\n",
              "        [0., 0., 0., 0.]])"
            ]
          },
          "metadata": {},
          "execution_count": 43
        }
      ]
    },
    {
      "cell_type": "code",
      "source": [
        "ones = torch.ones(4,3)"
      ],
      "metadata": {
        "id": "T2W-ya0IgL2j"
      },
      "execution_count": 44,
      "outputs": []
    },
    {
      "cell_type": "code",
      "source": [
        "ones , ones.dtype"
      ],
      "metadata": {
        "colab": {
          "base_uri": "https://localhost:8080/"
        },
        "id": "UO3KkzSggdR5",
        "outputId": "76756a92-b9c4-4f8f-d89e-c8175de391f6"
      },
      "execution_count": 45,
      "outputs": [
        {
          "output_type": "execute_result",
          "data": {
            "text/plain": [
              "(tensor([[1., 1., 1.],\n",
              "         [1., 1., 1.],\n",
              "         [1., 1., 1.],\n",
              "         [1., 1., 1.]]),\n",
              " torch.float32)"
            ]
          },
          "metadata": {},
          "execution_count": 45
        }
      ]
    },
    {
      "cell_type": "code",
      "source": [
        "torch.range(0,10)"
      ],
      "metadata": {
        "colab": {
          "base_uri": "https://localhost:8080/"
        },
        "id": "JZqSEck1gdUl",
        "outputId": "f353e67d-c0c5-44f6-c8ca-ce626e020432"
      },
      "execution_count": 46,
      "outputs": [
        {
          "output_type": "stream",
          "name": "stderr",
          "text": [
            "<ipython-input-46-dfdec9b83f7d>:1: UserWarning: torch.range is deprecated and will be removed in a future release because its behavior is inconsistent with Python's range builtin. Instead, use torch.arange, which produces values in [start, end).\n",
            "  torch.range(0,10)\n"
          ]
        },
        {
          "output_type": "execute_result",
          "data": {
            "text/plain": [
              "tensor([ 0.,  1.,  2.,  3.,  4.,  5.,  6.,  7.,  8.,  9., 10.])"
            ]
          },
          "metadata": {},
          "execution_count": 46
        }
      ]
    },
    {
      "cell_type": "code",
      "source": [
        "torch.arange(0,10)"
      ],
      "metadata": {
        "colab": {
          "base_uri": "https://localhost:8080/"
        },
        "id": "nExkLZ3XgdXL",
        "outputId": "a0111576-9547-4703-ae8a-8087fc0cb6d7"
      },
      "execution_count": 47,
      "outputs": [
        {
          "output_type": "execute_result",
          "data": {
            "text/plain": [
              "tensor([0, 1, 2, 3, 4, 5, 6, 7, 8, 9])"
            ]
          },
          "metadata": {},
          "execution_count": 47
        }
      ]
    },
    {
      "cell_type": "code",
      "source": [
        "r = torch.arange(1,10,2)\n",
        "r"
      ],
      "metadata": {
        "colab": {
          "base_uri": "https://localhost:8080/"
        },
        "id": "IX-luqZPgdZr",
        "outputId": "6edd76d1-caec-4f23-97d1-a9e803d78eda"
      },
      "execution_count": 48,
      "outputs": [
        {
          "output_type": "execute_result",
          "data": {
            "text/plain": [
              "tensor([1, 3, 5, 7, 9])"
            ]
          },
          "metadata": {},
          "execution_count": 48
        }
      ]
    },
    {
      "cell_type": "code",
      "source": [
        "#create a tensor with similar shape of another given tensor\n",
        "zeros = torch.zeros_like(r)\n",
        "zeros\n",
        "ones = torch.ones_like(r)\n",
        "ones  #the _like doest work with torch.rand why"
      ],
      "metadata": {
        "colab": {
          "base_uri": "https://localhost:8080/"
        },
        "id": "Fo-E6LvUgdch",
        "outputId": "930b6c9f-7a82-4668-f972-d9bbbf3c1055"
      },
      "execution_count": 49,
      "outputs": [
        {
          "output_type": "execute_result",
          "data": {
            "text/plain": [
              "tensor([1, 1, 1, 1, 1])"
            ]
          },
          "metadata": {},
          "execution_count": 49
        }
      ]
    },
    {
      "cell_type": "code",
      "source": [
        "tenso = torch.rand(3,4,dtype=torch.float16)\n",
        "tenso"
      ],
      "metadata": {
        "colab": {
          "base_uri": "https://localhost:8080/"
        },
        "id": "gBI5GsDygdfK",
        "outputId": "c90d9c5e-2abd-4e4f-9670-885cd46bede2"
      },
      "execution_count": 50,
      "outputs": [
        {
          "output_type": "execute_result",
          "data": {
            "text/plain": [
              "tensor([[0.6323, 0.4971, 0.5840, 0.6636],\n",
              "        [0.3755, 0.0952, 0.6982, 0.5547],\n",
              "        [0.9321, 0.1445, 0.0664, 0.3184]], dtype=torch.float16)"
            ]
          },
          "metadata": {},
          "execution_count": 50
        }
      ]
    },
    {
      "cell_type": "code",
      "source": [
        "# dtype - type of elements inside the tensor\n",
        "# device - if gpu enabled cuda, or else cpu\n",
        "# requires - grad wether or not to track gradients with these operations"
      ],
      "metadata": {
        "id": "JBv9q7ITgdiF"
      },
      "execution_count": 51,
      "outputs": []
    },
    {
      "cell_type": "code",
      "source": [
        "ones.shape, tenso.shape"
      ],
      "metadata": {
        "colab": {
          "base_uri": "https://localhost:8080/"
        },
        "id": "FOhAJj04gdk0",
        "outputId": "47edd591-d0e7-413f-bb1a-e6911dc731ab"
      },
      "execution_count": 52,
      "outputs": [
        {
          "output_type": "execute_result",
          "data": {
            "text/plain": [
              "(torch.Size([5]), torch.Size([3, 4]))"
            ]
          },
          "metadata": {},
          "execution_count": 52
        }
      ]
    },
    {
      "cell_type": "code",
      "source": [
        "# ones * tenso * is for element wise multiplication for matrix multiplication use @\n",
        "ones @ tenso"
      ],
      "metadata": {
        "colab": {
          "base_uri": "https://localhost:8080/",
          "height": 194
        },
        "id": "-eXHKlutjlz_",
        "outputId": "7b8506f5-c030-4fc5-9511-723640c0c697"
      },
      "execution_count": 53,
      "outputs": [
        {
          "output_type": "error",
          "ename": "RuntimeError",
          "evalue": "ignored",
          "traceback": [
            "\u001b[0;31m---------------------------------------------------------------------------\u001b[0m",
            "\u001b[0;31mRuntimeError\u001b[0m                              Traceback (most recent call last)",
            "\u001b[0;32m<ipython-input-53-6657c9e18360>\u001b[0m in \u001b[0;36m<cell line: 2>\u001b[0;34m()\u001b[0m\n\u001b[1;32m      1\u001b[0m \u001b[0;31m# ones * tenso * is for element wise multiplication for matrix multiplication use @\u001b[0m\u001b[0;34m\u001b[0m\u001b[0;34m\u001b[0m\u001b[0m\n\u001b[0;32m----> 2\u001b[0;31m \u001b[0mones\u001b[0m \u001b[0;34m@\u001b[0m \u001b[0mtenso\u001b[0m\u001b[0;34m\u001b[0m\u001b[0;34m\u001b[0m\u001b[0m\n\u001b[0m",
            "\u001b[0;31mRuntimeError\u001b[0m: mat1 and mat2 shapes cannot be multiplied (1x5 and 3x4)"
          ]
        }
      ]
    },
    {
      "cell_type": "code",
      "source": [
        "tenso = torch.rand(3,4,dtype=torch.float32)\n",
        "tenso"
      ],
      "metadata": {
        "colab": {
          "base_uri": "https://localhost:8080/"
        },
        "id": "8Bit5CwHjl3C",
        "outputId": "c7245891-b6f4-4dcc-9451-8c630e128f8d"
      },
      "execution_count": 54,
      "outputs": [
        {
          "output_type": "execute_result",
          "data": {
            "text/plain": [
              "tensor([[0.6252, 0.2554, 0.8271, 0.0328],\n",
              "        [0.8364, 0.8524, 0.8165, 0.5252],\n",
              "        [0.1726, 0.8055, 0.2303, 0.7713]])"
            ]
          },
          "metadata": {},
          "execution_count": 54
        }
      ]
    },
    {
      "cell_type": "code",
      "source": [
        "ones @ tenso"
      ],
      "metadata": {
        "colab": {
          "base_uri": "https://localhost:8080/",
          "height": 176
        },
        "id": "xqKSGB4xjl6w",
        "outputId": "e445cc52-2748-4fcd-cdc7-37e4512ae199"
      },
      "execution_count": 55,
      "outputs": [
        {
          "output_type": "error",
          "ename": "RuntimeError",
          "evalue": "ignored",
          "traceback": [
            "\u001b[0;31m---------------------------------------------------------------------------\u001b[0m",
            "\u001b[0;31mRuntimeError\u001b[0m                              Traceback (most recent call last)",
            "\u001b[0;32m<ipython-input-55-1b634410e065>\u001b[0m in \u001b[0;36m<cell line: 1>\u001b[0;34m()\u001b[0m\n\u001b[0;32m----> 1\u001b[0;31m \u001b[0mones\u001b[0m \u001b[0;34m@\u001b[0m \u001b[0mtenso\u001b[0m\u001b[0;34m\u001b[0m\u001b[0;34m\u001b[0m\u001b[0m\n\u001b[0m",
            "\u001b[0;31mRuntimeError\u001b[0m: mat1 and mat2 shapes cannot be multiplied (1x5 and 3x4)"
          ]
        }
      ]
    },
    {
      "cell_type": "code",
      "source": [
        "print(tenso.dtype)\n",
        "print(tenso.shape)\n",
        "print(tenso.device)"
      ],
      "metadata": {
        "colab": {
          "base_uri": "https://localhost:8080/"
        },
        "id": "sVLi24T0jl_f",
        "outputId": "369a53de-1339-4f1b-a37f-1104f56d2b91"
      },
      "execution_count": 56,
      "outputs": [
        {
          "output_type": "stream",
          "name": "stdout",
          "text": [
            "torch.float32\n",
            "torch.Size([3, 4])\n",
            "cpu\n"
          ]
        }
      ]
    },
    {
      "cell_type": "code",
      "source": [
        "##Manipulating tensors"
      ],
      "metadata": {
        "id": "hVI6ZuRnjmH3"
      },
      "execution_count": 57,
      "outputs": []
    },
    {
      "cell_type": "code",
      "source": [
        "zeros = torch.zeros(3,4)"
      ],
      "metadata": {
        "id": "N4atqZL_ncZj"
      },
      "execution_count": 58,
      "outputs": []
    },
    {
      "cell_type": "code",
      "source": [
        "ones + tenso"
      ],
      "metadata": {
        "colab": {
          "base_uri": "https://localhost:8080/",
          "height": 176
        },
        "id": "wKrP2YAqmmBX",
        "outputId": "212aaf75-f26d-4771-df18-28a5681ba6eb"
      },
      "execution_count": 59,
      "outputs": [
        {
          "output_type": "error",
          "ename": "RuntimeError",
          "evalue": "ignored",
          "traceback": [
            "\u001b[0;31m---------------------------------------------------------------------------\u001b[0m",
            "\u001b[0;31mRuntimeError\u001b[0m                              Traceback (most recent call last)",
            "\u001b[0;32m<ipython-input-59-3e4be04f76a0>\u001b[0m in \u001b[0;36m<cell line: 1>\u001b[0;34m()\u001b[0m\n\u001b[0;32m----> 1\u001b[0;31m \u001b[0mones\u001b[0m \u001b[0;34m+\u001b[0m \u001b[0mtenso\u001b[0m\u001b[0;34m\u001b[0m\u001b[0;34m\u001b[0m\u001b[0m\n\u001b[0m",
            "\u001b[0;31mRuntimeError\u001b[0m: The size of tensor a (5) must match the size of tensor b (4) at non-singleton dimension 1"
          ]
        }
      ]
    },
    {
      "cell_type": "code",
      "source": [
        "zeros.shape , tenso.shape"
      ],
      "metadata": {
        "colab": {
          "base_uri": "https://localhost:8080/"
        },
        "id": "B7xNNGWRnS4h",
        "outputId": "9d3f69cf-dc7b-4694-d79c-ef2461658f9e"
      },
      "execution_count": 60,
      "outputs": [
        {
          "output_type": "execute_result",
          "data": {
            "text/plain": [
              "(torch.Size([3, 4]), torch.Size([3, 4]))"
            ]
          },
          "metadata": {},
          "execution_count": 60
        }
      ]
    },
    {
      "cell_type": "code",
      "source": [
        "zeros + tenso"
      ],
      "metadata": {
        "colab": {
          "base_uri": "https://localhost:8080/"
        },
        "id": "NbZJ88SqmmEO",
        "outputId": "02de213e-4e2c-4b8a-ee57-7266206da65e"
      },
      "execution_count": 61,
      "outputs": [
        {
          "output_type": "execute_result",
          "data": {
            "text/plain": [
              "tensor([[0.6252, 0.2554, 0.8271, 0.0328],\n",
              "        [0.8364, 0.8524, 0.8165, 0.5252],\n",
              "        [0.1726, 0.8055, 0.2303, 0.7713]])"
            ]
          },
          "metadata": {},
          "execution_count": 61
        }
      ]
    },
    {
      "cell_type": "code",
      "source": [
        "zeros - tenso"
      ],
      "metadata": {
        "colab": {
          "base_uri": "https://localhost:8080/"
        },
        "id": "d0eZLB31mmHc",
        "outputId": "e0c917aa-b361-46af-e321-a96fb0dff242"
      },
      "execution_count": 62,
      "outputs": [
        {
          "output_type": "execute_result",
          "data": {
            "text/plain": [
              "tensor([[-0.6252, -0.2554, -0.8271, -0.0328],\n",
              "        [-0.8364, -0.8524, -0.8165, -0.5252],\n",
              "        [-0.1726, -0.8055, -0.2303, -0.7713]])"
            ]
          },
          "metadata": {},
          "execution_count": 62
        }
      ]
    },
    {
      "cell_type": "code",
      "source": [
        "ones - tenso"
      ],
      "metadata": {
        "colab": {
          "base_uri": "https://localhost:8080/",
          "height": 176
        },
        "id": "npm0C2xOmmKF",
        "outputId": "192697c7-1942-43d8-e763-70b780f0f785"
      },
      "execution_count": 63,
      "outputs": [
        {
          "output_type": "error",
          "ename": "RuntimeError",
          "evalue": "ignored",
          "traceback": [
            "\u001b[0;31m---------------------------------------------------------------------------\u001b[0m",
            "\u001b[0;31mRuntimeError\u001b[0m                              Traceback (most recent call last)",
            "\u001b[0;32m<ipython-input-63-c2280c4055c6>\u001b[0m in \u001b[0;36m<cell line: 1>\u001b[0;34m()\u001b[0m\n\u001b[0;32m----> 1\u001b[0;31m \u001b[0mones\u001b[0m \u001b[0;34m-\u001b[0m \u001b[0mtenso\u001b[0m\u001b[0;34m\u001b[0m\u001b[0;34m\u001b[0m\u001b[0m\n\u001b[0m",
            "\u001b[0;31mRuntimeError\u001b[0m: The size of tensor a (5) must match the size of tensor b (4) at non-singleton dimension 1"
          ]
        }
      ]
    },
    {
      "cell_type": "code",
      "source": [
        "zeros * tenso"
      ],
      "metadata": {
        "colab": {
          "base_uri": "https://localhost:8080/"
        },
        "id": "3viWOCKGmmNr",
        "outputId": "45e5ae51-87e3-4b61-8213-248f59d4cf5e"
      },
      "execution_count": 64,
      "outputs": [
        {
          "output_type": "execute_result",
          "data": {
            "text/plain": [
              "tensor([[0., 0., 0., 0.],\n",
              "        [0., 0., 0., 0.],\n",
              "        [0., 0., 0., 0.]])"
            ]
          },
          "metadata": {},
          "execution_count": 64
        }
      ]
    },
    {
      "cell_type": "code",
      "source": [
        "ones * tenso"
      ],
      "metadata": {
        "colab": {
          "base_uri": "https://localhost:8080/",
          "height": 176
        },
        "id": "tBXacTe9mmQI",
        "outputId": "8fb9730b-e931-43ea-d8c8-52c365036b26"
      },
      "execution_count": 65,
      "outputs": [
        {
          "output_type": "error",
          "ename": "RuntimeError",
          "evalue": "ignored",
          "traceback": [
            "\u001b[0;31m---------------------------------------------------------------------------\u001b[0m",
            "\u001b[0;31mRuntimeError\u001b[0m                              Traceback (most recent call last)",
            "\u001b[0;32m<ipython-input-65-b0e64367de44>\u001b[0m in \u001b[0;36m<cell line: 1>\u001b[0;34m()\u001b[0m\n\u001b[0;32m----> 1\u001b[0;31m \u001b[0mones\u001b[0m \u001b[0;34m*\u001b[0m \u001b[0mtenso\u001b[0m\u001b[0;34m\u001b[0m\u001b[0;34m\u001b[0m\u001b[0m\n\u001b[0m",
            "\u001b[0;31mRuntimeError\u001b[0m: The size of tensor a (5) must match the size of tensor b (4) at non-singleton dimension 1"
          ]
        }
      ]
    },
    {
      "cell_type": "code",
      "source": [
        "ones @ tenso"
      ],
      "metadata": {
        "colab": {
          "base_uri": "https://localhost:8080/",
          "height": 176
        },
        "id": "qnOMUAxNmmTR",
        "outputId": "f8c0005d-4612-4a52-e8ed-1be7d7bc0606"
      },
      "execution_count": 66,
      "outputs": [
        {
          "output_type": "error",
          "ename": "RuntimeError",
          "evalue": "ignored",
          "traceback": [
            "\u001b[0;31m---------------------------------------------------------------------------\u001b[0m",
            "\u001b[0;31mRuntimeError\u001b[0m                              Traceback (most recent call last)",
            "\u001b[0;32m<ipython-input-66-1b634410e065>\u001b[0m in \u001b[0;36m<cell line: 1>\u001b[0;34m()\u001b[0m\n\u001b[0;32m----> 1\u001b[0;31m \u001b[0mones\u001b[0m \u001b[0;34m@\u001b[0m \u001b[0mtenso\u001b[0m\u001b[0;34m\u001b[0m\u001b[0;34m\u001b[0m\u001b[0m\n\u001b[0m",
            "\u001b[0;31mRuntimeError\u001b[0m: mat1 and mat2 shapes cannot be multiplied (1x5 and 3x4)"
          ]
        }
      ]
    },
    {
      "cell_type": "code",
      "source": [
        "zeros @ tenso"
      ],
      "metadata": {
        "colab": {
          "base_uri": "https://localhost:8080/",
          "height": 176
        },
        "id": "QQKuLLmsmmWF",
        "outputId": "ade188a5-c31d-4664-aeee-69b725ad67fd"
      },
      "execution_count": 67,
      "outputs": [
        {
          "output_type": "error",
          "ename": "RuntimeError",
          "evalue": "ignored",
          "traceback": [
            "\u001b[0;31m---------------------------------------------------------------------------\u001b[0m",
            "\u001b[0;31mRuntimeError\u001b[0m                              Traceback (most recent call last)",
            "\u001b[0;32m<ipython-input-67-2c641eb07e00>\u001b[0m in \u001b[0;36m<cell line: 1>\u001b[0;34m()\u001b[0m\n\u001b[0;32m----> 1\u001b[0;31m \u001b[0mzeros\u001b[0m \u001b[0;34m@\u001b[0m \u001b[0mtenso\u001b[0m\u001b[0;34m\u001b[0m\u001b[0;34m\u001b[0m\u001b[0m\n\u001b[0m",
            "\u001b[0;31mRuntimeError\u001b[0m: mat1 and mat2 shapes cannot be multiplied (3x4 and 3x4)"
          ]
        }
      ]
    },
    {
      "cell_type": "code",
      "source": [
        "torch.matmul(ones,tenso)"
      ],
      "metadata": {
        "colab": {
          "base_uri": "https://localhost:8080/",
          "height": 176
        },
        "id": "9g4Wx-InjmKj",
        "outputId": "0e73d238-6140-4e92-f587-89fdcfda5118"
      },
      "execution_count": 68,
      "outputs": [
        {
          "output_type": "error",
          "ename": "RuntimeError",
          "evalue": "ignored",
          "traceback": [
            "\u001b[0;31m---------------------------------------------------------------------------\u001b[0m",
            "\u001b[0;31mRuntimeError\u001b[0m                              Traceback (most recent call last)",
            "\u001b[0;32m<ipython-input-68-efc5be4e27f5>\u001b[0m in \u001b[0;36m<cell line: 1>\u001b[0;34m()\u001b[0m\n\u001b[0;32m----> 1\u001b[0;31m \u001b[0mtorch\u001b[0m\u001b[0;34m.\u001b[0m\u001b[0mmatmul\u001b[0m\u001b[0;34m(\u001b[0m\u001b[0mones\u001b[0m\u001b[0;34m,\u001b[0m\u001b[0mtenso\u001b[0m\u001b[0;34m)\u001b[0m\u001b[0;34m\u001b[0m\u001b[0;34m\u001b[0m\u001b[0m\n\u001b[0m",
            "\u001b[0;31mRuntimeError\u001b[0m: mat1 and mat2 shapes cannot be multiplied (1x5 and 3x4)"
          ]
        }
      ]
    },
    {
      "cell_type": "code",
      "source": [
        "torch.matmul(zeros,tenso)"
      ],
      "metadata": {
        "colab": {
          "base_uri": "https://localhost:8080/",
          "height": 176
        },
        "id": "jKqo7qFRjmPJ",
        "outputId": "dd861eea-96fe-4746-a186-c807eeabad0a"
      },
      "execution_count": 69,
      "outputs": [
        {
          "output_type": "error",
          "ename": "RuntimeError",
          "evalue": "ignored",
          "traceback": [
            "\u001b[0;31m---------------------------------------------------------------------------\u001b[0m",
            "\u001b[0;31mRuntimeError\u001b[0m                              Traceback (most recent call last)",
            "\u001b[0;32m<ipython-input-69-a313d08bd751>\u001b[0m in \u001b[0;36m<cell line: 1>\u001b[0;34m()\u001b[0m\n\u001b[0;32m----> 1\u001b[0;31m \u001b[0mtorch\u001b[0m\u001b[0;34m.\u001b[0m\u001b[0mmatmul\u001b[0m\u001b[0;34m(\u001b[0m\u001b[0mzeros\u001b[0m\u001b[0;34m,\u001b[0m\u001b[0mtenso\u001b[0m\u001b[0;34m)\u001b[0m\u001b[0;34m\u001b[0m\u001b[0;34m\u001b[0m\u001b[0m\n\u001b[0m",
            "\u001b[0;31mRuntimeError\u001b[0m: mat1 and mat2 shapes cannot be multiplied (3x4 and 3x4)"
          ]
        }
      ]
    },
    {
      "cell_type": "code",
      "source": [
        "torch.mm(ones,tenso)"
      ],
      "metadata": {
        "colab": {
          "base_uri": "https://localhost:8080/",
          "height": 176
        },
        "id": "n08zlDjvoWXN",
        "outputId": "b8026c7c-059c-4318-9268-651df9ec6960"
      },
      "execution_count": 70,
      "outputs": [
        {
          "output_type": "error",
          "ename": "RuntimeError",
          "evalue": "ignored",
          "traceback": [
            "\u001b[0;31m---------------------------------------------------------------------------\u001b[0m",
            "\u001b[0;31mRuntimeError\u001b[0m                              Traceback (most recent call last)",
            "\u001b[0;32m<ipython-input-70-95684fb48af9>\u001b[0m in \u001b[0;36m<cell line: 1>\u001b[0;34m()\u001b[0m\n\u001b[0;32m----> 1\u001b[0;31m \u001b[0mtorch\u001b[0m\u001b[0;34m.\u001b[0m\u001b[0mmm\u001b[0m\u001b[0;34m(\u001b[0m\u001b[0mones\u001b[0m\u001b[0;34m,\u001b[0m\u001b[0mtenso\u001b[0m\u001b[0;34m)\u001b[0m\u001b[0;34m\u001b[0m\u001b[0;34m\u001b[0m\u001b[0m\n\u001b[0m",
            "\u001b[0;31mRuntimeError\u001b[0m: self must be a matrix"
          ]
        }
      ]
    },
    {
      "cell_type": "code",
      "source": [
        "zeros @ tenso.T #take the teranspose"
      ],
      "metadata": {
        "colab": {
          "base_uri": "https://localhost:8080/"
        },
        "id": "8OUjpDdEoWkF",
        "outputId": "48f365d0-c744-48bb-e84b-a9635ddab957"
      },
      "execution_count": 71,
      "outputs": [
        {
          "output_type": "execute_result",
          "data": {
            "text/plain": [
              "tensor([[0., 0., 0.],\n",
              "        [0., 0., 0.],\n",
              "        [0., 0., 0.]])"
            ]
          },
          "metadata": {},
          "execution_count": 71
        }
      ]
    },
    {
      "cell_type": "code",
      "source": [
        "tenso.min()"
      ],
      "metadata": {
        "colab": {
          "base_uri": "https://localhost:8080/"
        },
        "id": "g-zSxUhsoWm4",
        "outputId": "1c4fc376-9b3b-4efa-d83b-889e1728e151"
      },
      "execution_count": 72,
      "outputs": [
        {
          "output_type": "execute_result",
          "data": {
            "text/plain": [
              "tensor(0.0328)"
            ]
          },
          "metadata": {},
          "execution_count": 72
        }
      ]
    },
    {
      "cell_type": "code",
      "source": [
        "tenso.max()"
      ],
      "metadata": {
        "colab": {
          "base_uri": "https://localhost:8080/"
        },
        "id": "1EI6ZvDHoWpz",
        "outputId": "556b149b-ed84-4d90-8cd8-d37cd6f9a7e6"
      },
      "execution_count": 73,
      "outputs": [
        {
          "output_type": "execute_result",
          "data": {
            "text/plain": [
              "tensor(0.8524)"
            ]
          },
          "metadata": {},
          "execution_count": 73
        }
      ]
    },
    {
      "cell_type": "code",
      "source": [
        "tenso.mean() #this worked because the dtypre is not int"
      ],
      "metadata": {
        "colab": {
          "base_uri": "https://localhost:8080/"
        },
        "id": "_zZFrKetoWuC",
        "outputId": "ec4a1fd5-3a67-413b-ea61-ad5f1f4aacfe"
      },
      "execution_count": 74,
      "outputs": [
        {
          "output_type": "execute_result",
          "data": {
            "text/plain": [
              "tensor(0.5626)"
            ]
          },
          "metadata": {},
          "execution_count": 74
        }
      ]
    },
    {
      "cell_type": "code",
      "source": [
        "tenso.sum()"
      ],
      "metadata": {
        "colab": {
          "base_uri": "https://localhost:8080/"
        },
        "id": "EF32oy4JoWwD",
        "outputId": "ea3cd003-1286-4980-cda3-2b8ad15d0437"
      },
      "execution_count": 75,
      "outputs": [
        {
          "output_type": "execute_result",
          "data": {
            "text/plain": [
              "tensor(6.7506)"
            ]
          },
          "metadata": {},
          "execution_count": 75
        }
      ]
    },
    {
      "cell_type": "code",
      "source": [
        "tenso.argmin()#1d based indexing"
      ],
      "metadata": {
        "colab": {
          "base_uri": "https://localhost:8080/"
        },
        "id": "pSlBOR95oWyk",
        "outputId": "faf84eeb-6812-489c-9260-9b69d3dcf21a"
      },
      "execution_count": 76,
      "outputs": [
        {
          "output_type": "execute_result",
          "data": {
            "text/plain": [
              "tensor(3)"
            ]
          },
          "metadata": {},
          "execution_count": 76
        }
      ]
    },
    {
      "cell_type": "code",
      "source": [
        "tenso.argmax()"
      ],
      "metadata": {
        "colab": {
          "base_uri": "https://localhost:8080/"
        },
        "id": "lr8WsHj9oW1U",
        "outputId": "8b66a8a7-38fd-4d63-bc4b-af84d809bfa5"
      },
      "execution_count": 77,
      "outputs": [
        {
          "output_type": "execute_result",
          "data": {
            "text/plain": [
              "tensor(5)"
            ]
          },
          "metadata": {},
          "execution_count": 77
        }
      ]
    },
    {
      "cell_type": "code",
      "source": [
        "#Reshaping - changee shape of given tensor\n",
        "# view - return a view of tensor of certain shape but with the memory as original tensor\n",
        "#stacking - vertical stack of tensors\n",
        "#horizontal stacking - horizontal stack of different tensors\n",
        "#squeeze =- remove all 1 dimensions  from a tensor\n",
        "#unsqueeze - adds 1 dimension to the tensor\n",
        "#permute - reorders the tensor basically the dimensions will be getting swapped in a particular order"
      ],
      "metadata": {
        "id": "eQvQ6QKboW4C"
      },
      "execution_count": 80,
      "outputs": []
    },
    {
      "cell_type": "code",
      "source": [
        "x = torch.arange(1,10)\n",
        "x , x.shape"
      ],
      "metadata": {
        "colab": {
          "base_uri": "https://localhost:8080/"
        },
        "id": "6DDPchs56h31",
        "outputId": "156453e1-c8fc-4dec-acf5-6d1f010859ab"
      },
      "execution_count": 82,
      "outputs": [
        {
          "output_type": "execute_result",
          "data": {
            "text/plain": [
              "(tensor([1, 2, 3, 4, 5, 6, 7, 8, 9]), torch.Size([9]))"
            ]
          },
          "metadata": {},
          "execution_count": 82
        }
      ]
    },
    {
      "cell_type": "code",
      "source": [
        "x_reshaped = x.reshape(1,7) #total no of elements after reshape should be sdame as the total no of elements beforwe reshape\n",
        "x_reshaped, x_reshaped.shape"
      ],
      "metadata": {
        "colab": {
          "base_uri": "https://localhost:8080/",
          "height": 194
        },
        "id": "ps7jCVoE6h63",
        "outputId": "621a4ec4-3003-41f8-8a56-96ee871b8802"
      },
      "execution_count": 83,
      "outputs": [
        {
          "output_type": "error",
          "ename": "RuntimeError",
          "evalue": "ignored",
          "traceback": [
            "\u001b[0;31m---------------------------------------------------------------------------\u001b[0m",
            "\u001b[0;31mRuntimeError\u001b[0m                              Traceback (most recent call last)",
            "\u001b[0;32m<ipython-input-83-dbb9d6bbc152>\u001b[0m in \u001b[0;36m<cell line: 1>\u001b[0;34m()\u001b[0m\n\u001b[0;32m----> 1\u001b[0;31m \u001b[0mx_reshaped\u001b[0m \u001b[0;34m=\u001b[0m \u001b[0mx\u001b[0m\u001b[0;34m.\u001b[0m\u001b[0mreshape\u001b[0m\u001b[0;34m(\u001b[0m\u001b[0;36m1\u001b[0m\u001b[0;34m,\u001b[0m\u001b[0;36m7\u001b[0m\u001b[0;34m)\u001b[0m \u001b[0;31m#total no of elements after reshape should be sdame as the total no of elements beforwe reshape\u001b[0m\u001b[0;34m\u001b[0m\u001b[0;34m\u001b[0m\u001b[0m\n\u001b[0m\u001b[1;32m      2\u001b[0m \u001b[0mx_reshaped\u001b[0m\u001b[0;34m,\u001b[0m \u001b[0mx_reshaped\u001b[0m\u001b[0;34m.\u001b[0m\u001b[0mshape\u001b[0m\u001b[0;34m\u001b[0m\u001b[0;34m\u001b[0m\u001b[0m\n",
            "\u001b[0;31mRuntimeError\u001b[0m: shape '[1, 7]' is invalid for input of size 9"
          ]
        }
      ]
    },
    {
      "cell_type": "code",
      "source": [
        "x_reshaped = x.reshape(1,9) #total no of elements after reshape should be sdame as the total no of elements beforwe reshape\n",
        "x_reshaped, x_reshaped.shape"
      ],
      "metadata": {
        "colab": {
          "base_uri": "https://localhost:8080/"
        },
        "id": "qzzT670X6h9p",
        "outputId": "58af44eb-c675-4914-dfce-56965e346307"
      },
      "execution_count": 84,
      "outputs": [
        {
          "output_type": "execute_result",
          "data": {
            "text/plain": [
              "(tensor([[1, 2, 3, 4, 5, 6, 7, 8, 9]]), torch.Size([1, 9]))"
            ]
          },
          "metadata": {},
          "execution_count": 84
        }
      ]
    },
    {
      "cell_type": "code",
      "source": [
        "x_reshaped = x.reshape(9,1) #total no of elements after reshape should be sdame as the total no of elements beforwe reshape\n",
        "x_reshaped, x_reshaped.shape"
      ],
      "metadata": {
        "colab": {
          "base_uri": "https://localhost:8080/"
        },
        "id": "1fCn9pE46iAt",
        "outputId": "645be2b0-735f-4b06-fff4-2e0ba4a359cd"
      },
      "execution_count": 85,
      "outputs": [
        {
          "output_type": "execute_result",
          "data": {
            "text/plain": [
              "(tensor([[1],\n",
              "         [2],\n",
              "         [3],\n",
              "         [4],\n",
              "         [5],\n",
              "         [6],\n",
              "         [7],\n",
              "         [8],\n",
              "         [9]]),\n",
              " torch.Size([9, 1]))"
            ]
          },
          "metadata": {},
          "execution_count": 85
        }
      ]
    },
    {
      "cell_type": "code",
      "source": [
        "#change the view"
      ],
      "metadata": {
        "id": "NSHiMSw46iDM"
      },
      "execution_count": 86,
      "outputs": []
    },
    {
      "cell_type": "code",
      "source": [
        "z = x.view(1,9)#view basically gives you a part of the origiinal tensor basically it is showing the orinial tensor but only a part of it\n",
        "z , z.shape"
      ],
      "metadata": {
        "colab": {
          "base_uri": "https://localhost:8080/"
        },
        "id": "Pc6OPUI16iGG",
        "outputId": "13fcc41a-3a8d-40e9-9bed-488869e6e252"
      },
      "execution_count": 88,
      "outputs": [
        {
          "output_type": "execute_result",
          "data": {
            "text/plain": [
              "(tensor([[1, 2, 3, 4, 5, 6, 7, 8, 9]]), torch.Size([1, 9]))"
            ]
          },
          "metadata": {},
          "execution_count": 88
        }
      ]
    },
    {
      "cell_type": "code",
      "source": [
        "z = x.view(1,5)#view basically gives you a part of the origiinal tensor basically it is showing the orinial tensor but only a part of it\n",
        "z , z.shape"
      ],
      "metadata": {
        "colab": {
          "base_uri": "https://localhost:8080/",
          "height": 194
        },
        "id": "Pi_5BvWc6iJB",
        "outputId": "cf1930cb-297c-49b8-ea59-49913b2e213a"
      },
      "execution_count": 89,
      "outputs": [
        {
          "output_type": "error",
          "ename": "RuntimeError",
          "evalue": "ignored",
          "traceback": [
            "\u001b[0;31m---------------------------------------------------------------------------\u001b[0m",
            "\u001b[0;31mRuntimeError\u001b[0m                              Traceback (most recent call last)",
            "\u001b[0;32m<ipython-input-89-c78c4c346dcb>\u001b[0m in \u001b[0;36m<cell line: 1>\u001b[0;34m()\u001b[0m\n\u001b[0;32m----> 1\u001b[0;31m \u001b[0mz\u001b[0m \u001b[0;34m=\u001b[0m \u001b[0mx\u001b[0m\u001b[0;34m.\u001b[0m\u001b[0mview\u001b[0m\u001b[0;34m(\u001b[0m\u001b[0;36m1\u001b[0m\u001b[0;34m,\u001b[0m\u001b[0;36m5\u001b[0m\u001b[0;34m)\u001b[0m\u001b[0;31m#view basically gives you a part of the origiinal tensor basically it is showing the orinial tensor but only a part of it\u001b[0m\u001b[0;34m\u001b[0m\u001b[0;34m\u001b[0m\u001b[0m\n\u001b[0m\u001b[1;32m      2\u001b[0m \u001b[0mz\u001b[0m \u001b[0;34m,\u001b[0m \u001b[0mz\u001b[0m\u001b[0;34m.\u001b[0m\u001b[0mshape\u001b[0m\u001b[0;34m\u001b[0m\u001b[0;34m\u001b[0m\u001b[0m\n",
            "\u001b[0;31mRuntimeError\u001b[0m: shape '[1, 5]' is invalid for input of size 9"
          ]
        }
      ]
    },
    {
      "cell_type": "code",
      "source": [
        "z[:, 2] = 4\n",
        "z, x"
      ],
      "metadata": {
        "colab": {
          "base_uri": "https://localhost:8080/"
        },
        "id": "gQ3FnVMy6iMC",
        "outputId": "342c6db9-d3da-49a5-b759-494b4867e530"
      },
      "execution_count": 92,
      "outputs": [
        {
          "output_type": "execute_result",
          "data": {
            "text/plain": [
              "(tensor([[1, 2, 4, 4, 5, 6, 7, 8, 9]]), tensor([1, 2, 4, 4, 5, 6, 7, 8, 9]))"
            ]
          },
          "metadata": {},
          "execution_count": 92
        }
      ]
    },
    {
      "cell_type": "code",
      "source": [
        "x_stack = torch.stack([x,x,x,x,x])\n",
        "x_stack"
      ],
      "metadata": {
        "colab": {
          "base_uri": "https://localhost:8080/"
        },
        "id": "aLZbPIB_6iPY",
        "outputId": "aafece11-0968-4f7e-fa99-d991591c55e4"
      },
      "execution_count": 95,
      "outputs": [
        {
          "output_type": "execute_result",
          "data": {
            "text/plain": [
              "tensor([[1, 2, 4, 4, 5, 6, 7, 8, 9],\n",
              "        [1, 2, 4, 4, 5, 6, 7, 8, 9],\n",
              "        [1, 2, 4, 4, 5, 6, 7, 8, 9],\n",
              "        [1, 2, 4, 4, 5, 6, 7, 8, 9],\n",
              "        [1, 2, 4, 4, 5, 6, 7, 8, 9]])"
            ]
          },
          "metadata": {},
          "execution_count": 95
        }
      ]
    },
    {
      "cell_type": "code",
      "source": [
        "x_stack = torch.stack([x,x,x,x,x],0)\n",
        "x_stack"
      ],
      "metadata": {
        "colab": {
          "base_uri": "https://localhost:8080/"
        },
        "id": "ICvk9lYC6iSf",
        "outputId": "2a85b7d3-99bd-4e2a-d705-08098f322f66"
      },
      "execution_count": 96,
      "outputs": [
        {
          "output_type": "execute_result",
          "data": {
            "text/plain": [
              "tensor([[1, 2, 4, 4, 5, 6, 7, 8, 9],\n",
              "        [1, 2, 4, 4, 5, 6, 7, 8, 9],\n",
              "        [1, 2, 4, 4, 5, 6, 7, 8, 9],\n",
              "        [1, 2, 4, 4, 5, 6, 7, 8, 9],\n",
              "        [1, 2, 4, 4, 5, 6, 7, 8, 9]])"
            ]
          },
          "metadata": {},
          "execution_count": 96
        }
      ]
    },
    {
      "cell_type": "code",
      "source": [
        "x_stack = torch.stack([x,x,x,x,x],1)\n",
        "x_stack"
      ],
      "metadata": {
        "colab": {
          "base_uri": "https://localhost:8080/"
        },
        "id": "guGkAGp-6iVA",
        "outputId": "238ee29d-8dbb-4df2-d12e-9783779286a6"
      },
      "execution_count": 97,
      "outputs": [
        {
          "output_type": "execute_result",
          "data": {
            "text/plain": [
              "tensor([[1, 1, 1, 1, 1],\n",
              "        [2, 2, 2, 2, 2],\n",
              "        [4, 4, 4, 4, 4],\n",
              "        [4, 4, 4, 4, 4],\n",
              "        [5, 5, 5, 5, 5],\n",
              "        [6, 6, 6, 6, 6],\n",
              "        [7, 7, 7, 7, 7],\n",
              "        [8, 8, 8, 8, 8],\n",
              "        [9, 9, 9, 9, 9]])"
            ]
          },
          "metadata": {},
          "execution_count": 97
        }
      ]
    },
    {
      "cell_type": "code",
      "source": [
        "x_stack = torch.stack([x,x,x,x,x],2)#torch.vstack,torch.hstack()\n",
        "x_stack"
      ],
      "metadata": {
        "colab": {
          "base_uri": "https://localhost:8080/",
          "height": 194
        },
        "id": "UPz4BOPy6iYw",
        "outputId": "c0228ed3-560b-48bb-e167-41a678c0fa1b"
      },
      "execution_count": 99,
      "outputs": [
        {
          "output_type": "error",
          "ename": "IndexError",
          "evalue": "ignored",
          "traceback": [
            "\u001b[0;31m---------------------------------------------------------------------------\u001b[0m",
            "\u001b[0;31mIndexError\u001b[0m                                Traceback (most recent call last)",
            "\u001b[0;32m<ipython-input-99-c9d06ae98b0f>\u001b[0m in \u001b[0;36m<cell line: 1>\u001b[0;34m()\u001b[0m\n\u001b[0;32m----> 1\u001b[0;31m \u001b[0mx_stack\u001b[0m \u001b[0;34m=\u001b[0m \u001b[0mtorch\u001b[0m\u001b[0;34m.\u001b[0m\u001b[0mstack\u001b[0m\u001b[0;34m(\u001b[0m\u001b[0;34m[\u001b[0m\u001b[0mx\u001b[0m\u001b[0;34m,\u001b[0m\u001b[0mx\u001b[0m\u001b[0;34m,\u001b[0m\u001b[0mx\u001b[0m\u001b[0;34m,\u001b[0m\u001b[0mx\u001b[0m\u001b[0;34m,\u001b[0m\u001b[0mx\u001b[0m\u001b[0;34m]\u001b[0m\u001b[0;34m,\u001b[0m\u001b[0;36m2\u001b[0m\u001b[0;34m)\u001b[0m\u001b[0;31m#torch.vstack,torch.hstack()\u001b[0m\u001b[0;34m\u001b[0m\u001b[0;34m\u001b[0m\u001b[0m\n\u001b[0m\u001b[1;32m      2\u001b[0m \u001b[0mx_stack\u001b[0m\u001b[0;34m\u001b[0m\u001b[0;34m\u001b[0m\u001b[0m\n",
            "\u001b[0;31mIndexError\u001b[0m: Dimension out of range (expected to be in range of [-2, 1], but got 2)"
          ]
        }
      ]
    },
    {
      "cell_type": "code",
      "source": [
        "# The main difference between view() and reshape() lies in how they handle contiguous memory layouts. view() requires the tensor's memory layout to be contiguous (elements are stored in adjacent\n",
        "# memory locations), whereas reshape() can work with non-contiguous memory layouts by creating a new tensor with the specified shape. If you want to ensure that the reshaping is only allowed for\n",
        "# contiguous tensors, you can use the contiguous() method in combination with view()."
      ],
      "metadata": {
        "id": "nkA2vE1P6ibY"
      },
      "execution_count": 100,
      "outputs": []
    },
    {
      "cell_type": "code",
      "source": [
        "# Certainly! Let's explore an example that demonstrates the difference between `view()` and `reshape()` when it comes to working with contiguous and non-contiguous tensors.\n",
        "\n",
        "# ```python\n",
        "# import torch\n",
        "\n",
        "# # Creating a non-contiguous tensor\n",
        "# tensor = torch.tensor([[1, 2, 3], [4, 5, 6]])\n",
        "# non_contig_tensor = tensor[:, 1:]\n",
        "\n",
        "# # Using view() on a non-contiguous tensor\n",
        "# try:\n",
        "#     view_result = non_contig_tensor.view(3)\n",
        "# except RuntimeError as e:\n",
        "#     view_result = str(e)\n",
        "\n",
        "# # Using reshape() on a non-contiguous tensor\n",
        "# reshape_result = non_contig_tensor.reshape(3)\n",
        "\n",
        "# print(\"Original tensor:\")\n",
        "# print(tensor)\n",
        "\n",
        "# print(\"\\nNon-contiguous tensor:\")\n",
        "# print(non_contig_tensor)\n",
        "\n",
        "# print(\"\\nview() result on non-contiguous tensor:\")\n",
        "# print(view_result)\n",
        "\n",
        "# print(\"\\nreshape() result on non-contiguous tensor:\")\n",
        "# print(reshape_result)\n",
        "# ```\n",
        "\n",
        "# In this example, we start with a non-contiguous tensor by selecting a subset of columns from the original tensor. The non-contiguous tensor is created using slicing (`tensor[:, 1:]`).\n",
        "\n",
        "# When we attempt to use `view()` on the non-contiguous tensor, it raises a `RuntimeError` because `view()` requires contiguous memory layout. However, when we use `reshape()`, it's able to create a new tensor with the desired shape even for a non-contiguous tensor.\n",
        "\n",
        "# The `reshape()` method, in this case, creates a new tensor with the desired shape, which may involve copying the data to ensure contiguity. On the other hand, `view()` tries to work with the existing memory layout and only changes the shape without copying data.\n",
        "\n",
        "# Keep in mind that while `reshape()` can work with non-contiguous tensors, it's generally recommended to use `contiguous()` when you want to reshape a tensor with `view()`, especially if you encounter issues related to memory layout."
      ],
      "metadata": {
        "id": "mFDK3S7vAHx3"
      },
      "execution_count": 101,
      "outputs": []
    },
    {
      "cell_type": "code",
      "source": [
        "# Certainly! Here's the complete output of the code I provided earlier:\n",
        "\n",
        "# ```\n",
        "# Original tensor:\n",
        "# tensor([[1, 2, 3],\n",
        "#         [4, 5, 6]])\n",
        "\n",
        "# Non-contiguous tensor:\n",
        "# tensor([[2, 3],\n",
        "#         [5, 6]])\n",
        "\n",
        "# view() result on non-contiguous tensor:\n",
        "# view is not supported on Tensor that doesn't have a contiguous memory layout. Use .contiguous() to make a contiguous copy of the tensor or use .reshape(...) which returns a contiguous tensor.\n",
        "\n",
        "# reshape() result on non-contiguous tensor:\n",
        "# tensor([2, 3, 5])\n",
        "# ```\n",
        "\n",
        "# In the output, you can see how `view()` raises an error due to the non-contiguous memory layout of the tensor, while `reshape()` successfully reshapes the tensor even though it's non-contiguous. Keep in mind that using `contiguous()` before `view()` is a common practice when you need to reshape tensors with non-contiguous memory layouts."
      ],
      "metadata": {
        "id": "IizL3riGAH0n"
      },
      "execution_count": 103,
      "outputs": []
    },
    {
      "cell_type": "code",
      "source": [
        "# The non-contiguous memory layout of the second tensor in the example is a consequence of how tensor operations are performed and how data is stored in memory.\n",
        "\n",
        "# In the code example I provided earlier, the second tensor is created using slicing from the original tensor:\n",
        "\n",
        "# ```python\n",
        "# non_contig_tensor = tensor[:, 1:]\n",
        "# ```\n",
        "\n",
        "# Here's why the resulting tensor has a non-contiguous memory layout:\n",
        "\n",
        "# 1. **Memory Storage Order:** In PyTorch, tensors are stored in memory using a contiguous block of memory. The default storage order is row-major, meaning that elements along the same row are stored in contiguous memory locations.\n",
        "\n",
        "# 2. **Slicing Operation:** When you perform a slicing operation like `tensor[:, 1:]`, you are creating a new tensor that references a subset of the original tensor's data. However, this subset doesn't necessarily maintain the contiguous memory layout, especially when you're slicing along a dimension (columns in this case).\n",
        "\n",
        "# 3. **Strided Views:** The non-contiguous tensor created through slicing becomes what is called a \"strided view.\" A strided view means that elements are not stored in contiguous memory locations, but the tensor maintains information about strides (step sizes) to access the elements.\n",
        "\n",
        "# While PyTorch allows creating strided views for various operations, certain operations like `view()` and many optimized operations require the tensor to have a contiguous memory layout to work efficiently.\n",
        "\n",
        "# In practice, the non-contiguous memory layout can lead to performance inefficiencies and compatibility issues with certain operations. That's why it's often recommended to use `.contiguous()` to create a contiguous copy of the tensor before performing operations that require contiguous memory layout."
      ],
      "metadata": {
        "id": "aRU0eFzMAH3B"
      },
      "execution_count": 104,
      "outputs": []
    },
    {
      "cell_type": "code",
      "source": [
        "#torch.sqeez"
      ],
      "metadata": {
        "id": "lrju7Y8SAH6S"
      },
      "execution_count": 105,
      "outputs": []
    },
    {
      "cell_type": "code",
      "source": [
        "x_reshaped"
      ],
      "metadata": {
        "colab": {
          "base_uri": "https://localhost:8080/"
        },
        "id": "CNrshto3BmpC",
        "outputId": "048e1e66-82b5-4e1a-880a-80c09cfe7424"
      },
      "execution_count": 112,
      "outputs": [
        {
          "output_type": "execute_result",
          "data": {
            "text/plain": [
              "tensor([[1],\n",
              "        [2],\n",
              "        [4],\n",
              "        [4],\n",
              "        [5],\n",
              "        [6],\n",
              "        [7],\n",
              "        [8],\n",
              "        [9]])"
            ]
          },
          "metadata": {},
          "execution_count": 112
        }
      ]
    },
    {
      "cell_type": "code",
      "source": [
        "x_reshaped.shape"
      ],
      "metadata": {
        "colab": {
          "base_uri": "https://localhost:8080/"
        },
        "id": "7FpLkZ07AH9J",
        "outputId": "15202198-93e8-42da-abe9-d146a4a51ed6"
      },
      "execution_count": 113,
      "outputs": [
        {
          "output_type": "execute_result",
          "data": {
            "text/plain": [
              "torch.Size([9, 1])"
            ]
          },
          "metadata": {},
          "execution_count": 113
        }
      ]
    },
    {
      "cell_type": "code",
      "source": [
        "x_squeexed = x_reshaped.squeeze()"
      ],
      "metadata": {
        "id": "HNK7TjnsA4g8"
      },
      "execution_count": 117,
      "outputs": []
    },
    {
      "cell_type": "code",
      "source": [
        "x_reshaped.squeeze().shape"
      ],
      "metadata": {
        "colab": {
          "base_uri": "https://localhost:8080/"
        },
        "id": "P8hX4G81A4j0",
        "outputId": "7aa4e0b1-390d-49be-c25e-712372dc7328"
      },
      "execution_count": 115,
      "outputs": [
        {
          "output_type": "execute_result",
          "data": {
            "text/plain": [
              "torch.Size([9])"
            ]
          },
          "metadata": {},
          "execution_count": 115
        }
      ]
    },
    {
      "cell_type": "code",
      "source": [
        "x_squeexed.unsqueeze(0)"
      ],
      "metadata": {
        "colab": {
          "base_uri": "https://localhost:8080/"
        },
        "id": "McrnqY3oA4mE",
        "outputId": "d68f5c0d-307e-4532-9fb2-0e3ae28cdcfd"
      },
      "execution_count": 118,
      "outputs": [
        {
          "output_type": "execute_result",
          "data": {
            "text/plain": [
              "tensor([[1, 2, 4, 4, 5, 6, 7, 8, 9]])"
            ]
          },
          "metadata": {},
          "execution_count": 118
        }
      ]
    },
    {
      "cell_type": "code",
      "source": [
        "x_reshaped.unsqueeze(0)"
      ],
      "metadata": {
        "colab": {
          "base_uri": "https://localhost:8080/"
        },
        "id": "W-r-ELRlA4oq",
        "outputId": "6fb75964-1521-438d-c699-c00e15c303f4"
      },
      "execution_count": 120,
      "outputs": [
        {
          "output_type": "execute_result",
          "data": {
            "text/plain": [
              "tensor([[[1],\n",
              "         [2],\n",
              "         [4],\n",
              "         [4],\n",
              "         [5],\n",
              "         [6],\n",
              "         [7],\n",
              "         [8],\n",
              "         [9]]])"
            ]
          },
          "metadata": {},
          "execution_count": 120
        }
      ]
    },
    {
      "cell_type": "code",
      "source": [
        "x_reshaped.unsqueeze(1)"
      ],
      "metadata": {
        "colab": {
          "base_uri": "https://localhost:8080/"
        },
        "id": "hGNgOL36A4ra",
        "outputId": "20c1448f-92b9-4a39-a5c4-ea68c40cab44"
      },
      "execution_count": 121,
      "outputs": [
        {
          "output_type": "execute_result",
          "data": {
            "text/plain": [
              "tensor([[[1]],\n",
              "\n",
              "        [[2]],\n",
              "\n",
              "        [[4]],\n",
              "\n",
              "        [[4]],\n",
              "\n",
              "        [[5]],\n",
              "\n",
              "        [[6]],\n",
              "\n",
              "        [[7]],\n",
              "\n",
              "        [[8]],\n",
              "\n",
              "        [[9]]])"
            ]
          },
          "metadata": {},
          "execution_count": 121
        }
      ]
    },
    {
      "cell_type": "code",
      "source": [
        "imzge =  torch.rand((224,224,3))\n",
        "imzge"
      ],
      "metadata": {
        "colab": {
          "base_uri": "https://localhost:8080/"
        },
        "id": "74CvXF9HA4t7",
        "outputId": "db05c350-0f99-4279-c87f-87bb4d77491f"
      },
      "execution_count": 128,
      "outputs": [
        {
          "output_type": "execute_result",
          "data": {
            "text/plain": [
              "tensor([[[0.3884, 0.0418, 0.5394],\n",
              "         [0.9159, 0.4581, 0.3791],\n",
              "         [0.9551, 0.6443, 0.4720],\n",
              "         ...,\n",
              "         [0.3431, 0.0845, 0.1484],\n",
              "         [0.5479, 0.5657, 0.4579],\n",
              "         [0.3884, 0.6907, 0.4542]],\n",
              "\n",
              "        [[0.8176, 0.0522, 0.5894],\n",
              "         [0.3237, 0.6892, 0.7368],\n",
              "         [0.6711, 0.3127, 0.9294],\n",
              "         ...,\n",
              "         [0.1334, 0.7484, 0.2566],\n",
              "         [0.3911, 0.2639, 0.2684],\n",
              "         [0.4519, 0.5257, 0.5468]],\n",
              "\n",
              "        [[0.0812, 0.6124, 0.6706],\n",
              "         [0.4262, 0.6362, 0.9508],\n",
              "         [0.7628, 0.1543, 0.0205],\n",
              "         ...,\n",
              "         [0.2556, 0.0552, 0.1988],\n",
              "         [0.9642, 0.7406, 0.7791],\n",
              "         [0.4678, 0.9303, 0.6035]],\n",
              "\n",
              "        ...,\n",
              "\n",
              "        [[0.8857, 0.7216, 0.0769],\n",
              "         [0.7380, 0.1855, 0.0499],\n",
              "         [0.5797, 0.7311, 0.9447],\n",
              "         ...,\n",
              "         [0.6239, 0.5164, 0.5231],\n",
              "         [0.8504, 0.5751, 0.3761],\n",
              "         [0.0062, 0.3619, 0.1619]],\n",
              "\n",
              "        [[0.2237, 0.5684, 0.6653],\n",
              "         [0.6194, 0.0333, 0.3379],\n",
              "         [0.6853, 0.8058, 0.5976],\n",
              "         ...,\n",
              "         [0.8962, 0.8019, 0.2955],\n",
              "         [0.0903, 0.3345, 0.7054],\n",
              "         [0.5477, 0.6443, 0.3605]],\n",
              "\n",
              "        [[0.0376, 0.0715, 0.7242],\n",
              "         [0.7803, 0.1888, 0.6043],\n",
              "         [0.3293, 0.3355, 0.1859],\n",
              "         ...,\n",
              "         [0.4640, 0.6862, 0.8870],\n",
              "         [0.6215, 0.8580, 0.7414],\n",
              "         [0.3352, 0.8087, 0.1487]]])"
            ]
          },
          "metadata": {},
          "execution_count": 128
        }
      ]
    },
    {
      "cell_type": "code",
      "source": [
        "imzp = imzge.permute(2,0,1)\n",
        "imzp"
      ],
      "metadata": {
        "colab": {
          "base_uri": "https://localhost:8080/"
        },
        "id": "WuGaRruvA4xP",
        "outputId": "807111bc-2563-409d-f152-ab33df9857e0"
      },
      "execution_count": 130,
      "outputs": [
        {
          "output_type": "execute_result",
          "data": {
            "text/plain": [
              "tensor([[[0.3884, 0.9159, 0.9551,  ..., 0.3431, 0.5479, 0.3884],\n",
              "         [0.8176, 0.3237, 0.6711,  ..., 0.1334, 0.3911, 0.4519],\n",
              "         [0.0812, 0.4262, 0.7628,  ..., 0.2556, 0.9642, 0.4678],\n",
              "         ...,\n",
              "         [0.8857, 0.7380, 0.5797,  ..., 0.6239, 0.8504, 0.0062],\n",
              "         [0.2237, 0.6194, 0.6853,  ..., 0.8962, 0.0903, 0.5477],\n",
              "         [0.0376, 0.7803, 0.3293,  ..., 0.4640, 0.6215, 0.3352]],\n",
              "\n",
              "        [[0.0418, 0.4581, 0.6443,  ..., 0.0845, 0.5657, 0.6907],\n",
              "         [0.0522, 0.6892, 0.3127,  ..., 0.7484, 0.2639, 0.5257],\n",
              "         [0.6124, 0.6362, 0.1543,  ..., 0.0552, 0.7406, 0.9303],\n",
              "         ...,\n",
              "         [0.7216, 0.1855, 0.7311,  ..., 0.5164, 0.5751, 0.3619],\n",
              "         [0.5684, 0.0333, 0.8058,  ..., 0.8019, 0.3345, 0.6443],\n",
              "         [0.0715, 0.1888, 0.3355,  ..., 0.6862, 0.8580, 0.8087]],\n",
              "\n",
              "        [[0.5394, 0.3791, 0.4720,  ..., 0.1484, 0.4579, 0.4542],\n",
              "         [0.5894, 0.7368, 0.9294,  ..., 0.2566, 0.2684, 0.5468],\n",
              "         [0.6706, 0.9508, 0.0205,  ..., 0.1988, 0.7791, 0.6035],\n",
              "         ...,\n",
              "         [0.0769, 0.0499, 0.9447,  ..., 0.5231, 0.3761, 0.1619],\n",
              "         [0.6653, 0.3379, 0.5976,  ..., 0.2955, 0.7054, 0.3605],\n",
              "         [0.7242, 0.6043, 0.1859,  ..., 0.8870, 0.7414, 0.1487]]])"
            ]
          },
          "metadata": {},
          "execution_count": 130
        }
      ]
    },
    {
      "cell_type": "code",
      "source": [
        "imzge.permute(2,0,1).shape"
      ],
      "metadata": {
        "colab": {
          "base_uri": "https://localhost:8080/"
        },
        "id": "qOvUGdbGA40i",
        "outputId": "e7b08213-62b3-4a7b-8c32-a8052a80754e"
      },
      "execution_count": 131,
      "outputs": [
        {
          "output_type": "execute_result",
          "data": {
            "text/plain": [
              "torch.Size([3, 224, 224])"
            ]
          },
          "metadata": {},
          "execution_count": 131
        }
      ]
    },
    {
      "cell_type": "code",
      "source": [
        "print(imzge[0])\n",
        "print(imzp[0])"
      ],
      "metadata": {
        "colab": {
          "base_uri": "https://localhost:8080/"
        },
        "id": "UA_v194zA42W",
        "outputId": "675b9eed-768f-42f2-ae39-89d96c850a17"
      },
      "execution_count": 133,
      "outputs": [
        {
          "output_type": "stream",
          "name": "stdout",
          "text": [
            "tensor([[0.3884, 0.0418, 0.5394],\n",
            "        [0.9159, 0.4581, 0.3791],\n",
            "        [0.9551, 0.6443, 0.4720],\n",
            "        [0.9516, 0.7438, 0.9195],\n",
            "        [0.3749, 0.8810, 0.2361],\n",
            "        [0.4818, 0.4137, 0.2697],\n",
            "        [0.6779, 0.3514, 0.8485],\n",
            "        [0.1930, 0.9609, 0.6142],\n",
            "        [0.5251, 0.8928, 0.9013],\n",
            "        [0.7186, 0.2689, 0.6336],\n",
            "        [0.6199, 0.6306, 0.8140],\n",
            "        [0.7034, 0.0730, 0.9567],\n",
            "        [0.9192, 0.5180, 0.1347],\n",
            "        [0.7352, 0.7298, 0.2912],\n",
            "        [0.8824, 0.5117, 0.7161],\n",
            "        [0.1811, 0.9415, 0.9187],\n",
            "        [0.2112, 0.4104, 0.0401],\n",
            "        [0.6532, 0.2058, 0.7748],\n",
            "        [0.9650, 0.0286, 0.6795],\n",
            "        [0.7045, 0.4179, 0.2951],\n",
            "        [0.2054, 0.1332, 0.9615],\n",
            "        [0.8692, 0.6216, 0.2842],\n",
            "        [0.3087, 0.0761, 0.3464],\n",
            "        [0.0877, 0.7623, 0.2139],\n",
            "        [0.7187, 0.5146, 0.5484],\n",
            "        [0.3725, 0.4746, 0.5845],\n",
            "        [0.3235, 0.4560, 0.5978],\n",
            "        [0.3181, 0.6273, 0.2422],\n",
            "        [0.8815, 0.2044, 0.6552],\n",
            "        [0.5621, 0.2672, 0.2191],\n",
            "        [0.4974, 0.2708, 0.7260],\n",
            "        [0.1605, 0.6707, 0.3340],\n",
            "        [0.2795, 0.6211, 0.8732],\n",
            "        [0.2288, 0.6056, 0.5938],\n",
            "        [0.4093, 0.8777, 0.8173],\n",
            "        [0.9155, 0.3972, 0.6010],\n",
            "        [0.1321, 0.4639, 0.9668],\n",
            "        [0.8447, 0.1959, 0.2049],\n",
            "        [0.7633, 0.6883, 0.6971],\n",
            "        [0.3307, 0.6713, 0.0360],\n",
            "        [0.4978, 0.1279, 0.9392],\n",
            "        [0.5159, 0.8301, 0.6455],\n",
            "        [0.5682, 0.9786, 0.0222],\n",
            "        [0.0152, 0.4293, 0.9620],\n",
            "        [0.8562, 0.2887, 0.1158],\n",
            "        [0.1751, 0.7816, 0.6448],\n",
            "        [0.8463, 0.4471, 0.5042],\n",
            "        [0.3306, 0.2876, 0.5554],\n",
            "        [0.2909, 0.8274, 0.9930],\n",
            "        [0.2652, 0.5656, 0.5265],\n",
            "        [0.9398, 0.2196, 0.1282],\n",
            "        [0.0516, 0.4683, 0.1629],\n",
            "        [0.4624, 0.3030, 0.1418],\n",
            "        [0.9883, 0.2404, 0.2976],\n",
            "        [0.0539, 0.4590, 0.1416],\n",
            "        [0.5795, 0.7355, 0.7014],\n",
            "        [0.1396, 0.8850, 0.8194],\n",
            "        [0.5084, 0.6869, 0.2697],\n",
            "        [0.9927, 0.4863, 0.2427],\n",
            "        [0.7119, 0.5367, 0.3202],\n",
            "        [0.1780, 0.6127, 0.3004],\n",
            "        [0.0952, 0.6418, 0.1136],\n",
            "        [0.4372, 0.7825, 0.7963],\n",
            "        [0.1916, 0.1225, 0.7593],\n",
            "        [0.4342, 0.5926, 0.5236],\n",
            "        [0.3194, 0.6412, 0.5312],\n",
            "        [0.3142, 0.7601, 0.6729],\n",
            "        [0.9503, 0.3760, 0.0385],\n",
            "        [0.1900, 0.4201, 0.4011],\n",
            "        [0.1071, 0.7840, 0.0948],\n",
            "        [0.6639, 0.1270, 0.7181],\n",
            "        [0.7657, 0.6540, 0.7215],\n",
            "        [0.0625, 0.4235, 0.7254],\n",
            "        [0.3500, 0.8501, 0.1017],\n",
            "        [0.1783, 0.4886, 0.6627],\n",
            "        [0.0484, 0.3058, 0.5763],\n",
            "        [0.6079, 0.0269, 0.8676],\n",
            "        [0.8358, 0.7165, 0.7238],\n",
            "        [0.6557, 0.0514, 0.1514],\n",
            "        [0.3373, 0.9491, 0.1379],\n",
            "        [0.0914, 0.9349, 0.6047],\n",
            "        [0.1677, 0.7328, 0.5160],\n",
            "        [0.2678, 0.4725, 0.8121],\n",
            "        [0.9724, 0.7976, 0.8574],\n",
            "        [0.5005, 0.9594, 0.8889],\n",
            "        [0.0406, 0.2266, 0.4023],\n",
            "        [0.6202, 0.5684, 0.3401],\n",
            "        [0.6336, 0.3602, 0.9731],\n",
            "        [0.5804, 0.3125, 0.6650],\n",
            "        [0.2128, 0.2934, 0.1524],\n",
            "        [0.6514, 0.3256, 0.8569],\n",
            "        [0.3834, 0.2487, 0.6618],\n",
            "        [0.5445, 0.0881, 0.2692],\n",
            "        [0.1863, 0.9444, 0.7646],\n",
            "        [0.9256, 0.3182, 0.8123],\n",
            "        [0.8624, 0.0373, 0.6411],\n",
            "        [0.7588, 0.7316, 0.6637],\n",
            "        [0.2240, 0.1433, 0.3682],\n",
            "        [0.7931, 0.8165, 0.4620],\n",
            "        [0.7647, 0.9342, 0.2894],\n",
            "        [0.8000, 0.9992, 0.2041],\n",
            "        [0.4011, 0.4297, 0.2147],\n",
            "        [0.8014, 0.4523, 0.6786],\n",
            "        [0.5853, 0.8886, 0.7739],\n",
            "        [0.4928, 0.9621, 0.8861],\n",
            "        [0.0248, 0.6843, 0.1102],\n",
            "        [0.9265, 0.0037, 0.7413],\n",
            "        [0.9495, 0.4004, 0.5015],\n",
            "        [0.5792, 0.5834, 0.4630],\n",
            "        [0.7874, 0.6074, 0.4331],\n",
            "        [0.7252, 0.3841, 0.6108],\n",
            "        [0.3418, 0.1307, 0.7205],\n",
            "        [0.1344, 0.4966, 0.5640],\n",
            "        [0.2201, 0.4497, 0.8639],\n",
            "        [0.1332, 0.3853, 0.7356],\n",
            "        [0.4009, 0.1488, 0.4930],\n",
            "        [0.7537, 0.2805, 0.4356],\n",
            "        [0.6089, 0.4037, 0.8578],\n",
            "        [0.8197, 0.3575, 0.1336],\n",
            "        [0.9425, 0.3461, 0.4739],\n",
            "        [0.8746, 0.8915, 0.3259],\n",
            "        [0.9502, 0.6418, 0.7633],\n",
            "        [0.0952, 0.8601, 0.9333],\n",
            "        [0.4121, 0.1230, 0.8201],\n",
            "        [0.1796, 0.2163, 0.0918],\n",
            "        [0.0981, 0.0532, 0.7182],\n",
            "        [0.3818, 0.2012, 0.5140],\n",
            "        [0.3393, 0.4411, 0.6753],\n",
            "        [0.2727, 0.7141, 0.3603],\n",
            "        [0.5097, 0.2444, 0.1713],\n",
            "        [0.0856, 0.8849, 0.7007],\n",
            "        [0.1017, 0.6306, 0.1205],\n",
            "        [0.9627, 0.4858, 0.6913],\n",
            "        [0.7499, 0.2146, 0.8210],\n",
            "        [0.4509, 0.7247, 0.8817],\n",
            "        [0.6489, 0.2364, 0.1695],\n",
            "        [0.7222, 0.8584, 0.9652],\n",
            "        [0.1383, 0.5696, 0.0163],\n",
            "        [0.9691, 0.4224, 0.9294],\n",
            "        [0.9819, 0.5945, 0.6681],\n",
            "        [0.6976, 0.8624, 0.7534],\n",
            "        [0.0879, 0.4113, 0.9012],\n",
            "        [0.4911, 0.0931, 0.5692],\n",
            "        [0.4341, 0.5314, 0.4228],\n",
            "        [0.6115, 0.4637, 0.2688],\n",
            "        [0.2946, 0.5223, 0.6740],\n",
            "        [0.2389, 0.6534, 0.2109],\n",
            "        [0.0523, 0.6952, 0.9700],\n",
            "        [0.8398, 0.4269, 0.3136],\n",
            "        [0.3652, 0.8880, 0.4261],\n",
            "        [0.3374, 0.5680, 0.3282],\n",
            "        [0.9357, 0.1857, 0.9496],\n",
            "        [0.5457, 0.1378, 0.4421],\n",
            "        [0.1367, 0.0272, 0.1335],\n",
            "        [0.5190, 0.6670, 0.9292],\n",
            "        [0.5799, 0.4676, 0.2254],\n",
            "        [0.5251, 0.7909, 0.7258],\n",
            "        [0.8983, 0.5731, 0.3279],\n",
            "        [0.1690, 0.2577, 0.7066],\n",
            "        [0.3789, 0.6047, 0.6398],\n",
            "        [0.0373, 0.0898, 0.3657],\n",
            "        [0.9727, 0.5230, 0.2778],\n",
            "        [0.9012, 0.3463, 0.9913],\n",
            "        [0.9166, 0.9037, 0.5701],\n",
            "        [0.9829, 0.9406, 0.2463],\n",
            "        [0.8139, 0.9668, 0.9635],\n",
            "        [0.4156, 0.4960, 0.7349],\n",
            "        [0.3455, 0.3630, 0.0479],\n",
            "        [0.8507, 0.0084, 0.6425],\n",
            "        [0.3187, 0.0780, 0.1389],\n",
            "        [0.2448, 0.4996, 0.3613],\n",
            "        [0.5341, 0.4927, 0.6432],\n",
            "        [0.0613, 0.0722, 0.6650],\n",
            "        [0.8655, 0.3465, 0.8333],\n",
            "        [0.1942, 0.8834, 0.7869],\n",
            "        [0.4651, 0.1979, 0.5418],\n",
            "        [0.3000, 0.1194, 0.2996],\n",
            "        [0.6988, 0.3981, 0.5445],\n",
            "        [0.2633, 0.9414, 0.9756],\n",
            "        [0.3584, 0.6768, 0.5288],\n",
            "        [0.7462, 0.0216, 0.8984],\n",
            "        [0.7859, 0.7651, 0.3884],\n",
            "        [0.8981, 0.5040, 0.1555],\n",
            "        [0.9723, 0.4577, 0.8027],\n",
            "        [0.2994, 0.3310, 0.3538],\n",
            "        [0.8577, 0.2448, 0.4420],\n",
            "        [0.8906, 0.7369, 0.1403],\n",
            "        [0.5293, 0.1992, 0.5160],\n",
            "        [0.3173, 0.6962, 0.1029],\n",
            "        [0.9790, 0.5811, 0.3196],\n",
            "        [0.5897, 0.7483, 0.8160],\n",
            "        [0.2686, 0.6445, 0.5760],\n",
            "        [0.8755, 0.7026, 0.9310],\n",
            "        [0.0991, 0.7633, 0.2310],\n",
            "        [0.6997, 0.7956, 0.9089],\n",
            "        [0.3888, 0.4236, 0.3244],\n",
            "        [0.9915, 0.6205, 0.0191],\n",
            "        [0.9384, 0.6103, 0.0717],\n",
            "        [0.9716, 0.5919, 0.7915],\n",
            "        [0.7215, 0.5117, 0.2866],\n",
            "        [0.1367, 0.0062, 0.2667],\n",
            "        [0.9558, 0.4482, 0.0415],\n",
            "        [0.4404, 0.0530, 0.4875],\n",
            "        [0.6663, 0.5268, 0.0843],\n",
            "        [0.5316, 0.1860, 0.5900],\n",
            "        [0.6842, 0.8263, 0.9352],\n",
            "        [0.6066, 0.7986, 0.3495],\n",
            "        [0.0308, 0.7446, 0.2467],\n",
            "        [0.3843, 0.8961, 0.2425],\n",
            "        [0.1226, 0.9852, 0.7786],\n",
            "        [0.4635, 0.0905, 0.7660],\n",
            "        [0.0937, 0.6493, 0.7539],\n",
            "        [0.2553, 0.7330, 0.0789],\n",
            "        [0.1913, 0.9519, 0.8659],\n",
            "        [0.9525, 0.2635, 0.7447],\n",
            "        [0.5273, 0.6242, 0.4243],\n",
            "        [0.3746, 0.7808, 0.0025],\n",
            "        [0.9155, 0.6244, 0.5559],\n",
            "        [0.4214, 0.3415, 0.1329],\n",
            "        [0.1897, 0.7604, 0.1398],\n",
            "        [0.0645, 0.7169, 0.7883],\n",
            "        [0.3431, 0.0845, 0.1484],\n",
            "        [0.5479, 0.5657, 0.4579],\n",
            "        [0.3884, 0.6907, 0.4542]])\n",
            "tensor([[0.3884, 0.9159, 0.9551,  ..., 0.3431, 0.5479, 0.3884],\n",
            "        [0.8176, 0.3237, 0.6711,  ..., 0.1334, 0.3911, 0.4519],\n",
            "        [0.0812, 0.4262, 0.7628,  ..., 0.2556, 0.9642, 0.4678],\n",
            "        ...,\n",
            "        [0.8857, 0.7380, 0.5797,  ..., 0.6239, 0.8504, 0.0062],\n",
            "        [0.2237, 0.6194, 0.6853,  ..., 0.8962, 0.0903, 0.5477],\n",
            "        [0.0376, 0.7803, 0.3293,  ..., 0.4640, 0.6215, 0.3352]])\n"
          ]
        }
      ]
    },
    {
      "cell_type": "code",
      "source": [
        "print(imzge[0][0])\n",
        "print(imzp[0][0])"
      ],
      "metadata": {
        "colab": {
          "base_uri": "https://localhost:8080/"
        },
        "id": "lx-5KvrNA45X",
        "outputId": "11b2991f-0902-43ed-b33d-ca6b9ef66c24"
      },
      "execution_count": 134,
      "outputs": [
        {
          "output_type": "stream",
          "name": "stdout",
          "text": [
            "tensor([0.3884, 0.0418, 0.5394])\n",
            "tensor([0.3884, 0.9159, 0.9551, 0.9516, 0.3749, 0.4818, 0.6779, 0.1930, 0.5251,\n",
            "        0.7186, 0.6199, 0.7034, 0.9192, 0.7352, 0.8824, 0.1811, 0.2112, 0.6532,\n",
            "        0.9650, 0.7045, 0.2054, 0.8692, 0.3087, 0.0877, 0.7187, 0.3725, 0.3235,\n",
            "        0.3181, 0.8815, 0.5621, 0.4974, 0.1605, 0.2795, 0.2288, 0.4093, 0.9155,\n",
            "        0.1321, 0.8447, 0.7633, 0.3307, 0.4978, 0.5159, 0.5682, 0.0152, 0.8562,\n",
            "        0.1751, 0.8463, 0.3306, 0.2909, 0.2652, 0.9398, 0.0516, 0.4624, 0.9883,\n",
            "        0.0539, 0.5795, 0.1396, 0.5084, 0.9927, 0.7119, 0.1780, 0.0952, 0.4372,\n",
            "        0.1916, 0.4342, 0.3194, 0.3142, 0.9503, 0.1900, 0.1071, 0.6639, 0.7657,\n",
            "        0.0625, 0.3500, 0.1783, 0.0484, 0.6079, 0.8358, 0.6557, 0.3373, 0.0914,\n",
            "        0.1677, 0.2678, 0.9724, 0.5005, 0.0406, 0.6202, 0.6336, 0.5804, 0.2128,\n",
            "        0.6514, 0.3834, 0.5445, 0.1863, 0.9256, 0.8624, 0.7588, 0.2240, 0.7931,\n",
            "        0.7647, 0.8000, 0.4011, 0.8014, 0.5853, 0.4928, 0.0248, 0.9265, 0.9495,\n",
            "        0.5792, 0.7874, 0.7252, 0.3418, 0.1344, 0.2201, 0.1332, 0.4009, 0.7537,\n",
            "        0.6089, 0.8197, 0.9425, 0.8746, 0.9502, 0.0952, 0.4121, 0.1796, 0.0981,\n",
            "        0.3818, 0.3393, 0.2727, 0.5097, 0.0856, 0.1017, 0.9627, 0.7499, 0.4509,\n",
            "        0.6489, 0.7222, 0.1383, 0.9691, 0.9819, 0.6976, 0.0879, 0.4911, 0.4341,\n",
            "        0.6115, 0.2946, 0.2389, 0.0523, 0.8398, 0.3652, 0.3374, 0.9357, 0.5457,\n",
            "        0.1367, 0.5190, 0.5799, 0.5251, 0.8983, 0.1690, 0.3789, 0.0373, 0.9727,\n",
            "        0.9012, 0.9166, 0.9829, 0.8139, 0.4156, 0.3455, 0.8507, 0.3187, 0.2448,\n",
            "        0.5341, 0.0613, 0.8655, 0.1942, 0.4651, 0.3000, 0.6988, 0.2633, 0.3584,\n",
            "        0.7462, 0.7859, 0.8981, 0.9723, 0.2994, 0.8577, 0.8906, 0.5293, 0.3173,\n",
            "        0.9790, 0.5897, 0.2686, 0.8755, 0.0991, 0.6997, 0.3888, 0.9915, 0.9384,\n",
            "        0.9716, 0.7215, 0.1367, 0.9558, 0.4404, 0.6663, 0.5316, 0.6842, 0.6066,\n",
            "        0.0308, 0.3843, 0.1226, 0.4635, 0.0937, 0.2553, 0.1913, 0.9525, 0.5273,\n",
            "        0.3746, 0.9155, 0.4214, 0.1897, 0.0645, 0.3431, 0.5479, 0.3884])\n"
          ]
        }
      ]
    },
    {
      "cell_type": "code",
      "source": [
        "print(imzge[0][0][1])\n",
        "print(imzp[1][0][0])"
      ],
      "metadata": {
        "colab": {
          "base_uri": "https://localhost:8080/"
        },
        "id": "BluZwmwsA48e",
        "outputId": "177c4136-8efe-4f3f-dacf-1ca85de54e5d"
      },
      "execution_count": 135,
      "outputs": [
        {
          "output_type": "stream",
          "name": "stdout",
          "text": [
            "tensor(0.0418)\n",
            "tensor(0.0418)\n"
          ]
        }
      ]
    },
    {
      "cell_type": "code",
      "source": [
        "#indexing"
      ],
      "metadata": {
        "id": "tTc89sg7A4_E"
      },
      "execution_count": 136,
      "outputs": []
    },
    {
      "cell_type": "code",
      "source": [
        "import torch"
      ],
      "metadata": {
        "id": "R1AoOtpHAH_Q"
      },
      "execution_count": 137,
      "outputs": []
    },
    {
      "cell_type": "code",
      "source": [
        "x = torch.arange(1,10).reshape(1,3,3)\n",
        "x , x.shape"
      ],
      "metadata": {
        "colab": {
          "base_uri": "https://localhost:8080/"
        },
        "id": "1dlkLKvtAIK2",
        "outputId": "803f8c55-8780-438d-f7d3-e116a47379a3"
      },
      "execution_count": 138,
      "outputs": [
        {
          "output_type": "execute_result",
          "data": {
            "text/plain": [
              "(tensor([[[1, 2, 3],\n",
              "          [4, 5, 6],\n",
              "          [7, 8, 9]]]),\n",
              " torch.Size([1, 3, 3]))"
            ]
          },
          "metadata": {},
          "execution_count": 138
        }
      ]
    },
    {
      "cell_type": "code",
      "source": [
        "x = torch.arange(1,10).reshape(3,3)\n",
        "x , x.shape"
      ],
      "metadata": {
        "colab": {
          "base_uri": "https://localhost:8080/"
        },
        "id": "MTRFo4whFzpL",
        "outputId": "9e700698-8b73-4331-db8a-e0ac9429d314"
      },
      "execution_count": 139,
      "outputs": [
        {
          "output_type": "execute_result",
          "data": {
            "text/plain": [
              "(tensor([[1, 2, 3],\n",
              "         [4, 5, 6],\n",
              "         [7, 8, 9]]),\n",
              " torch.Size([3, 3]))"
            ]
          },
          "metadata": {},
          "execution_count": 139
        }
      ]
    },
    {
      "cell_type": "code",
      "source": [
        "# Certainly! Let's break down the two tensors and their shapes, along with their visualizations.\n",
        "\n",
        "# **First Tensor:**\n",
        "# ```python\n",
        "# (tensor([[[1, 2, 3],\n",
        "#           [4, 5, 6],\n",
        "#           [7, 8, 9]]]),\n",
        "#  torch.Size([1, 3, 3]))\n",
        "# ```\n",
        "\n",
        "# **Second Tensor:**\n",
        "# ```python\n",
        "# (tensor([[1, 2, 3],\n",
        "#          [4, 5, 6],\n",
        "#          [7, 8, 9]]),\n",
        "#  torch.Size([3, 3]))\n",
        "# ```\n",
        "\n",
        "# In both tensors, the actual data is the same: the numbers 1 to 9 arranged in a 3x3 grid. The difference lies in the structure of the tensors and their shapes.\n",
        "\n",
        "# **Explanation and Visualization:**\n",
        "\n",
        "# 1. **First Tensor:**\n",
        "#    - The first tensor is a 3D tensor with a single \"batch\" dimension. This is indicated by the outer set of square brackets.\n",
        "#    - Inside the batch, there is a 3x3 grid of numbers.\n",
        "#    - The batch size is 1, and the tensor has dimensions `[1, 3, 3]`.\n",
        "\n",
        "#    Visualization:\n",
        "#    ```\n",
        "#    Batch: 1\n",
        "#    +---+---+---+\n",
        "#    | 1 | 2 | 3 |\n",
        "#    +---+---+---+\n",
        "#    | 4 | 5 | 6 |\n",
        "#    +---+---+---+\n",
        "#    | 7 | 8 | 9 |\n",
        "#    +---+---+---+\n",
        "#    ```\n",
        "\n",
        "# 2. **Second Tensor:**\n",
        "#    - The second tensor is a 2D tensor without a batch dimension.\n",
        "#    - It directly represents the 3x3 grid of numbers.\n",
        "#    - The tensor has dimensions `[3, 3]`.\n",
        "\n",
        "#    Visualization:\n",
        "#    ```\n",
        "#    +---+---+---+\n",
        "#    | 1 | 2 | 3 |\n",
        "#    +---+---+---+\n",
        "#    | 4 | 5 | 6 |\n",
        "#    +---+---+---+\n",
        "#    | 7 | 8 | 9 |\n",
        "#    +---+---+---+\n",
        "#    ```\n",
        "\n",
        "# In summary, the main difference is that the first tensor has an additional batch dimension, while the second tensor directly represents the 3x3 grid without the batch dimension. The choice of which tensor to use depends on the context and requirements of your data and computations."
      ],
      "metadata": {
        "id": "dl4mLPzVFzrs"
      },
      "execution_count": 141,
      "outputs": []
    },
    {
      "cell_type": "code",
      "source": [
        "# Certainly, let's create a tensor with a batch dimension of 2 and visualize it. Here's the code to create and visualize the tensor:\n",
        "\n",
        "# ```python\n",
        "# import torch\n",
        "\n",
        "# # Create a tensor with batch dimension 2\n",
        "# batched_tensor = torch.tensor([[[1, 2, 3], [4, 5, 6], [7, 8, 9]],\n",
        "#                                [[10, 11, 12], [13, 14, 15], [16, 17, 18]]])\n",
        "\n",
        "# # Print the tensor and its shape\n",
        "# print(\"Batched tensor:\")\n",
        "# print(batched_tensor)\n",
        "# print(\"\\nTensor shape:\", batched_tensor.shape)\n",
        "# ```\n",
        "\n",
        "# In this example, we've created a tensor with a batch dimension of 2. Each batch sample contains a 3x3 grid of numbers. Here's the visualization of the batched tensor:\n",
        "\n",
        "# **Batch Sample 1:**\n",
        "# ```\n",
        "# +---+---+---+\n",
        "# | 1 | 2 | 3 |\n",
        "# +---+---+---+\n",
        "# | 4 | 5 | 6 |\n",
        "# +---+---+---+\n",
        "# | 7 | 8 | 9 |\n",
        "# +---+---+---+\n",
        "# ```\n",
        "\n",
        "# **Batch Sample 2:**\n",
        "# ```\n",
        "# +----+----+----+\n",
        "# | 10 | 11 | 12 |\n",
        "# +----+----+----+\n",
        "# | 13 | 14 | 15 |\n",
        "# +----+----+----+\n",
        "# | 16 | 17 | 18 |\n",
        "# +----+----+----+\n",
        "# ```\n",
        "\n",
        "# The batch dimension is represented by having two sets of batch samples. Each batch sample contains a 3x3 grid of numbers, and the two batch samples are processed together in parallel during computations.\n",
        "\n",
        "# Remember that the order of the batch samples in the batch dimension is not significant; they are treated independently and processed concurrently."
      ],
      "metadata": {
        "id": "vG706-AEFzuo"
      },
      "execution_count": 142,
      "outputs": []
    },
    {
      "cell_type": "code",
      "source": [
        "x = torch.arange(1,10).reshape(1,3,3)\n",
        "x , x.shape"
      ],
      "metadata": {
        "colab": {
          "base_uri": "https://localhost:8080/"
        },
        "id": "QXhG7al1FzxJ",
        "outputId": "36f18344-b1dd-4af6-d2a6-d746511b1d31"
      },
      "execution_count": 144,
      "outputs": [
        {
          "output_type": "execute_result",
          "data": {
            "text/plain": [
              "(tensor([[[1, 2, 3],\n",
              "          [4, 5, 6],\n",
              "          [7, 8, 9]]]),\n",
              " torch.Size([1, 3, 3]))"
            ]
          },
          "metadata": {},
          "execution_count": 144
        }
      ]
    },
    {
      "cell_type": "code",
      "source": [
        "x[0]"
      ],
      "metadata": {
        "colab": {
          "base_uri": "https://localhost:8080/"
        },
        "id": "G38VBiD0Fzzm",
        "outputId": "2c7710d4-c1af-4c2e-8152-31a4fffdbb74"
      },
      "execution_count": 145,
      "outputs": [
        {
          "output_type": "execute_result",
          "data": {
            "text/plain": [
              "tensor([[1, 2, 3],\n",
              "        [4, 5, 6],\n",
              "        [7, 8, 9]])"
            ]
          },
          "metadata": {},
          "execution_count": 145
        }
      ]
    },
    {
      "cell_type": "code",
      "source": [
        "x[1]"
      ],
      "metadata": {
        "colab": {
          "base_uri": "https://localhost:8080/",
          "height": 176
        },
        "id": "8sQTft3MFz2V",
        "outputId": "a0f3c6fe-dfee-42c1-a9e7-c5b56fa05b7f"
      },
      "execution_count": 146,
      "outputs": [
        {
          "output_type": "error",
          "ename": "IndexError",
          "evalue": "ignored",
          "traceback": [
            "\u001b[0;31m---------------------------------------------------------------------------\u001b[0m",
            "\u001b[0;31mIndexError\u001b[0m                                Traceback (most recent call last)",
            "\u001b[0;32m<ipython-input-146-fb0e0080324e>\u001b[0m in \u001b[0;36m<cell line: 1>\u001b[0;34m()\u001b[0m\n\u001b[0;32m----> 1\u001b[0;31m \u001b[0mx\u001b[0m\u001b[0;34m[\u001b[0m\u001b[0;36m1\u001b[0m\u001b[0;34m]\u001b[0m\u001b[0;34m\u001b[0m\u001b[0;34m\u001b[0m\u001b[0m\n\u001b[0m",
            "\u001b[0;31mIndexError\u001b[0m: index 1 is out of bounds for dimension 0 with size 1"
          ]
        }
      ]
    },
    {
      "cell_type": "code",
      "source": [
        "x[0][0]"
      ],
      "metadata": {
        "colab": {
          "base_uri": "https://localhost:8080/"
        },
        "id": "LKIgwDsPFz4t",
        "outputId": "a5f6d525-eaca-4976-fd34-b2d67c3a9415"
      },
      "execution_count": 147,
      "outputs": [
        {
          "output_type": "execute_result",
          "data": {
            "text/plain": [
              "tensor([1, 2, 3])"
            ]
          },
          "metadata": {},
          "execution_count": 147
        }
      ]
    },
    {
      "cell_type": "code",
      "source": [
        "x[0,0]"
      ],
      "metadata": {
        "colab": {
          "base_uri": "https://localhost:8080/"
        },
        "id": "9ZGU4xSKFz71",
        "outputId": "d8cc9599-0ad4-48cd-81b0-12e36295f376"
      },
      "execution_count": 148,
      "outputs": [
        {
          "output_type": "execute_result",
          "data": {
            "text/plain": [
              "tensor([1, 2, 3])"
            ]
          },
          "metadata": {},
          "execution_count": 148
        }
      ]
    },
    {
      "cell_type": "code",
      "source": [
        "x[0][0][0]"
      ],
      "metadata": {
        "colab": {
          "base_uri": "https://localhost:8080/"
        },
        "id": "X1vLroL8Fz93",
        "outputId": "03b0d7b1-24d6-4863-d51f-73aff2d59d77"
      },
      "execution_count": 149,
      "outputs": [
        {
          "output_type": "execute_result",
          "data": {
            "text/plain": [
              "tensor(1)"
            ]
          },
          "metadata": {},
          "execution_count": 149
        }
      ]
    },
    {
      "cell_type": "code",
      "source": [
        "x[0][0][3]"
      ],
      "metadata": {
        "colab": {
          "base_uri": "https://localhost:8080/",
          "height": 176
        },
        "id": "7LYvVDgeF0Ae",
        "outputId": "2c4fd643-4216-4a7f-d47c-d916fc4e03cc"
      },
      "execution_count": 150,
      "outputs": [
        {
          "output_type": "error",
          "ename": "IndexError",
          "evalue": "ignored",
          "traceback": [
            "\u001b[0;31m---------------------------------------------------------------------------\u001b[0m",
            "\u001b[0;31mIndexError\u001b[0m                                Traceback (most recent call last)",
            "\u001b[0;32m<ipython-input-150-1ac6cef58d58>\u001b[0m in \u001b[0;36m<cell line: 1>\u001b[0;34m()\u001b[0m\n\u001b[0;32m----> 1\u001b[0;31m \u001b[0mx\u001b[0m\u001b[0;34m[\u001b[0m\u001b[0;36m0\u001b[0m\u001b[0;34m]\u001b[0m\u001b[0;34m[\u001b[0m\u001b[0;36m0\u001b[0m\u001b[0;34m]\u001b[0m\u001b[0;34m[\u001b[0m\u001b[0;36m3\u001b[0m\u001b[0;34m]\u001b[0m\u001b[0;34m\u001b[0m\u001b[0;34m\u001b[0m\u001b[0m\n\u001b[0m",
            "\u001b[0;31mIndexError\u001b[0m: index 3 is out of bounds for dimension 0 with size 3"
          ]
        }
      ]
    },
    {
      "cell_type": "code",
      "source": [
        "x[1][1][1]"
      ],
      "metadata": {
        "colab": {
          "base_uri": "https://localhost:8080/",
          "height": 176
        },
        "id": "Ee3WVxeEF0DH",
        "outputId": "9f58e753-ef97-40e4-d81f-72c7dd003c6f"
      },
      "execution_count": 151,
      "outputs": [
        {
          "output_type": "error",
          "ename": "IndexError",
          "evalue": "ignored",
          "traceback": [
            "\u001b[0;31m---------------------------------------------------------------------------\u001b[0m",
            "\u001b[0;31mIndexError\u001b[0m                                Traceback (most recent call last)",
            "\u001b[0;32m<ipython-input-151-e270b96106f3>\u001b[0m in \u001b[0;36m<cell line: 1>\u001b[0;34m()\u001b[0m\n\u001b[0;32m----> 1\u001b[0;31m \u001b[0mx\u001b[0m\u001b[0;34m[\u001b[0m\u001b[0;36m1\u001b[0m\u001b[0;34m]\u001b[0m\u001b[0;34m[\u001b[0m\u001b[0;36m1\u001b[0m\u001b[0;34m]\u001b[0m\u001b[0;34m[\u001b[0m\u001b[0;36m1\u001b[0m\u001b[0;34m]\u001b[0m\u001b[0;34m\u001b[0m\u001b[0;34m\u001b[0m\u001b[0m\n\u001b[0m",
            "\u001b[0;31mIndexError\u001b[0m: index 1 is out of bounds for dimension 0 with size 1"
          ]
        }
      ]
    },
    {
      "cell_type": "code",
      "source": [
        "x[0][2][2]"
      ],
      "metadata": {
        "colab": {
          "base_uri": "https://localhost:8080/"
        },
        "id": "24y9xmI8F0F_",
        "outputId": "6d399484-7a78-4195-a2ed-ce950e49fb84"
      },
      "execution_count": 153,
      "outputs": [
        {
          "output_type": "execute_result",
          "data": {
            "text/plain": [
              "tensor(9)"
            ]
          },
          "metadata": {},
          "execution_count": 153
        }
      ]
    },
    {
      "cell_type": "code",
      "source": [
        "x[:]"
      ],
      "metadata": {
        "colab": {
          "base_uri": "https://localhost:8080/"
        },
        "id": "SoJQzuZhF0Ia",
        "outputId": "1c2c83c3-a178-44ac-9ffe-f6e9faa8576a"
      },
      "execution_count": 154,
      "outputs": [
        {
          "output_type": "execute_result",
          "data": {
            "text/plain": [
              "tensor([[[1, 2, 3],\n",
              "         [4, 5, 6],\n",
              "         [7, 8, 9]]])"
            ]
          },
          "metadata": {},
          "execution_count": 154
        }
      ]
    },
    {
      "cell_type": "code",
      "source": [
        "x[:,0]"
      ],
      "metadata": {
        "colab": {
          "base_uri": "https://localhost:8080/"
        },
        "id": "fiCnoo-UF0LL",
        "outputId": "21fea629-0426-44ab-a701-2c2be2246408"
      },
      "execution_count": 155,
      "outputs": [
        {
          "output_type": "execute_result",
          "data": {
            "text/plain": [
              "tensor([[1, 2, 3]])"
            ]
          },
          "metadata": {},
          "execution_count": 155
        }
      ]
    },
    {
      "cell_type": "code",
      "source": [
        "x[:,:,0]"
      ],
      "metadata": {
        "colab": {
          "base_uri": "https://localhost:8080/"
        },
        "id": "ISQcvWHNF0Np",
        "outputId": "551c6a14-d88a-4588-967c-650fb617ee12"
      },
      "execution_count": 157,
      "outputs": [
        {
          "output_type": "execute_result",
          "data": {
            "text/plain": [
              "tensor([[1, 4, 7]])"
            ]
          },
          "metadata": {},
          "execution_count": 157
        }
      ]
    },
    {
      "cell_type": "code",
      "source": [
        "x[:,:,1]"
      ],
      "metadata": {
        "colab": {
          "base_uri": "https://localhost:8080/"
        },
        "id": "LCCLbrmWF0Te",
        "outputId": "aafe5679-2950-4ea0-8ffa-2027a9baa805"
      },
      "execution_count": 158,
      "outputs": [
        {
          "output_type": "execute_result",
          "data": {
            "text/plain": [
              "tensor([[2, 5, 8]])"
            ]
          },
          "metadata": {},
          "execution_count": 158
        }
      ]
    },
    {
      "cell_type": "code",
      "source": [
        "x[:,1:3,1]"
      ],
      "metadata": {
        "colab": {
          "base_uri": "https://localhost:8080/"
        },
        "id": "oNU6UOXVF0Wa",
        "outputId": "222e8fea-73c7-414f-9e7c-bb1bd3697ef9"
      },
      "execution_count": 160,
      "outputs": [
        {
          "output_type": "execute_result",
          "data": {
            "text/plain": [
              "tensor([[5, 8]])"
            ]
          },
          "metadata": {},
          "execution_count": 160
        }
      ]
    },
    {
      "cell_type": "code",
      "source": [
        "x[0,0,:]"
      ],
      "metadata": {
        "colab": {
          "base_uri": "https://localhost:8080/"
        },
        "id": "Dh4oyOVmKrII",
        "outputId": "4415074b-38a1-41e0-b4ea-945d1fad8700"
      },
      "execution_count": 162,
      "outputs": [
        {
          "output_type": "execute_result",
          "data": {
            "text/plain": [
              "tensor([1, 2, 3])"
            ]
          },
          "metadata": {},
          "execution_count": 162
        }
      ]
    },
    {
      "cell_type": "code",
      "source": [
        "x[:,:,2]"
      ],
      "metadata": {
        "colab": {
          "base_uri": "https://localhost:8080/"
        },
        "id": "r3p17NjRKrL-",
        "outputId": "a118e8ed-8930-43a5-b7e0-cede5b1c5e11"
      },
      "execution_count": 163,
      "outputs": [
        {
          "output_type": "execute_result",
          "data": {
            "text/plain": [
              "tensor([[3, 6, 9]])"
            ]
          },
          "metadata": {},
          "execution_count": 163
        }
      ]
    },
    {
      "cell_type": "code",
      "source": [
        "# numpy to torch torch.from_numpy(ndarray)\n",
        "# torch to numpy torch.Tensor.numpy()"
      ],
      "metadata": {
        "id": "DYr_nzXuKrQM"
      },
      "execution_count": 164,
      "outputs": []
    },
    {
      "cell_type": "code",
      "source": [
        "import torch\n",
        "import numpy as np"
      ],
      "metadata": {
        "id": "7Z57tsdDKrTr"
      },
      "execution_count": 165,
      "outputs": []
    },
    {
      "cell_type": "code",
      "source": [
        "array = np.arange(1.0,10.0)\n",
        "tensor = torch.from_numpy(array)\n",
        "array, tensor"
      ],
      "metadata": {
        "colab": {
          "base_uri": "https://localhost:8080/"
        },
        "id": "j5Kr35BUKrV4",
        "outputId": "42177aa2-f744-47a2-805d-a8e9de692601"
      },
      "execution_count": 167,
      "outputs": [
        {
          "output_type": "execute_result",
          "data": {
            "text/plain": [
              "(array([1., 2., 3., 4., 5., 6., 7., 8., 9.]),\n",
              " tensor([1., 2., 3., 4., 5., 6., 7., 8., 9.], dtype=torch.float64))"
            ]
          },
          "metadata": {},
          "execution_count": 167
        }
      ]
    },
    {
      "cell_type": "code",
      "source": [
        "array.dtype"
      ],
      "metadata": {
        "colab": {
          "base_uri": "https://localhost:8080/"
        },
        "id": "lkcxbR5aKrY6",
        "outputId": "259d2923-9bbe-4591-d792-8c3311e14349"
      },
      "execution_count": 168,
      "outputs": [
        {
          "output_type": "execute_result",
          "data": {
            "text/plain": [
              "dtype('float64')"
            ]
          },
          "metadata": {},
          "execution_count": 168
        }
      ]
    },
    {
      "cell_type": "code",
      "source": [
        "torch.arange(1.0,3.0).dtype"
      ],
      "metadata": {
        "colab": {
          "base_uri": "https://localhost:8080/"
        },
        "id": "4t2JwDakKreB",
        "outputId": "586cb20d-be5b-47ae-fac3-e5303e04177e"
      },
      "execution_count": 171,
      "outputs": [
        {
          "output_type": "execute_result",
          "data": {
            "text/plain": [
              "torch.float32"
            ]
          },
          "metadata": {},
          "execution_count": 171
        }
      ]
    },
    {
      "cell_type": "code",
      "source": [
        "array = np.arange(1.0,10.0)\n",
        "tensor = torch.from_numpy(array).type(torch.float32)\n",
        "array, tensor"
      ],
      "metadata": {
        "colab": {
          "base_uri": "https://localhost:8080/"
        },
        "id": "dQi1kUQ6KrhJ",
        "outputId": "6c33a0de-3aa9-4668-8b89-cc9fba19910a"
      },
      "execution_count": 173,
      "outputs": [
        {
          "output_type": "execute_result",
          "data": {
            "text/plain": [
              "(array([1., 2., 3., 4., 5., 6., 7., 8., 9.]),\n",
              " tensor([1., 2., 3., 4., 5., 6., 7., 8., 9.]))"
            ]
          },
          "metadata": {},
          "execution_count": 173
        }
      ]
    },
    {
      "cell_type": "code",
      "source": [
        "array = array + 1\n",
        "array, tensor"
      ],
      "metadata": {
        "colab": {
          "base_uri": "https://localhost:8080/"
        },
        "id": "EGEV2KDMKrmk",
        "outputId": "c038dfd4-5dcc-4c4c-dc96-6714be5cd46c"
      },
      "execution_count": 174,
      "outputs": [
        {
          "output_type": "execute_result",
          "data": {
            "text/plain": [
              "(array([ 2.,  3.,  4.,  5.,  6.,  7.,  8.,  9., 10.]),\n",
              " tensor([1., 2., 3., 4., 5., 6., 7., 8., 9.]))"
            ]
          },
          "metadata": {},
          "execution_count": 174
        }
      ]
    },
    {
      "cell_type": "code",
      "source": [
        "tensor = torch.ones(7)\n",
        "numpy_tensor = tensor.numpy()\n",
        "tensor , numpy_tensor"
      ],
      "metadata": {
        "colab": {
          "base_uri": "https://localhost:8080/"
        },
        "id": "wdej7fUwKrot",
        "outputId": "4c0f08c4-e4a6-49b8-b6f9-5d31cf20790f"
      },
      "execution_count": 176,
      "outputs": [
        {
          "output_type": "execute_result",
          "data": {
            "text/plain": [
              "(tensor([1., 1., 1., 1., 1., 1., 1.]),\n",
              " array([1., 1., 1., 1., 1., 1., 1.], dtype=float32))"
            ]
          },
          "metadata": {},
          "execution_count": 176
        }
      ]
    },
    {
      "cell_type": "code",
      "source": [
        "tensor = tensor + 1\n",
        "tensor, numpy_tensor#they dont have shared memory"
      ],
      "metadata": {
        "colab": {
          "base_uri": "https://localhost:8080/"
        },
        "id": "UTP6FQZeKrub",
        "outputId": "5edc25cd-5990-4c9a-c561-b4bbc30798ac"
      },
      "execution_count": 178,
      "outputs": [
        {
          "output_type": "execute_result",
          "data": {
            "text/plain": [
              "(tensor([3., 3., 3., 3., 3., 3., 3.]),\n",
              " array([1., 1., 1., 1., 1., 1., 1.], dtype=float32))"
            ]
          },
          "metadata": {},
          "execution_count": 178
        }
      ]
    },
    {
      "cell_type": "code",
      "source": [],
      "metadata": {
        "id": "Vz5F1hEIKryT"
      },
      "execution_count": null,
      "outputs": []
    },
    {
      "cell_type": "code",
      "source": [],
      "metadata": {
        "id": "6BEK0DEMKr04"
      },
      "execution_count": null,
      "outputs": []
    },
    {
      "cell_type": "code",
      "source": [],
      "metadata": {
        "id": "zmRGAap0KsB7"
      },
      "execution_count": null,
      "outputs": []
    },
    {
      "cell_type": "code",
      "source": [],
      "metadata": {
        "id": "gOdc5k3hKsE8"
      },
      "execution_count": null,
      "outputs": []
    },
    {
      "cell_type": "code",
      "source": [],
      "metadata": {
        "id": "IVX0s5EkKsJ1"
      },
      "execution_count": null,
      "outputs": []
    },
    {
      "cell_type": "code",
      "source": [],
      "metadata": {
        "id": "xuUVWUIcKsMs"
      },
      "execution_count": null,
      "outputs": []
    },
    {
      "cell_type": "code",
      "source": [],
      "metadata": {
        "id": "AKM62FSlKtic"
      },
      "execution_count": null,
      "outputs": []
    },
    {
      "cell_type": "code",
      "source": [],
      "metadata": {
        "id": "Ov_9UrR7Ktm3"
      },
      "execution_count": null,
      "outputs": []
    },
    {
      "cell_type": "code",
      "source": [],
      "metadata": {
        "id": "-VIEjKl_KtpV"
      },
      "execution_count": null,
      "outputs": []
    },
    {
      "cell_type": "code",
      "source": [],
      "metadata": {
        "id": "2Ugoczy5Ktsm"
      },
      "execution_count": null,
      "outputs": []
    },
    {
      "cell_type": "code",
      "source": [],
      "metadata": {
        "id": "IfOmsI-jKtvc"
      },
      "execution_count": null,
      "outputs": []
    },
    {
      "cell_type": "code",
      "source": [],
      "metadata": {
        "id": "H8gQIjTqKty2"
      },
      "execution_count": null,
      "outputs": []
    },
    {
      "cell_type": "code",
      "source": [],
      "metadata": {
        "id": "Swlmr8QUKt2K"
      },
      "execution_count": null,
      "outputs": []
    },
    {
      "cell_type": "code",
      "source": [],
      "metadata": {
        "id": "qVqjM6p2Kt4-"
      },
      "execution_count": null,
      "outputs": []
    }
  ]
}