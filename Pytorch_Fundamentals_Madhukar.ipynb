{
  "nbformat": 4,
  "nbformat_minor": 0,
  "metadata": {
    "colab": {
      "provenance": [],
      "gpuType": "T4",
      "authorship_tag": "ABX9TyMcsZzZlS24SbdCUjHnpJHA",
      "include_colab_link": true
    },
    "kernelspec": {
      "name": "python3",
      "display_name": "Python 3"
    },
    "language_info": {
      "name": "python"
    },
    "accelerator": "GPU"
  },
  "cells": [
    {
      "cell_type": "markdown",
      "metadata": {
        "id": "view-in-github",
        "colab_type": "text"
      },
      "source": [
        "<a href=\"https://colab.research.google.com/github/Carlos1729/todojson/blob/main/Pytorch_Fundamentals_Madhukar.ipynb\" target=\"_parent\"><img src=\"https://colab.research.google.com/assets/colab-badge.svg\" alt=\"Open In Colab\"/></a>"
      ]
    },
    {
      "cell_type": "code",
      "execution_count": 2,
      "metadata": {
        "id": "gArb76-TcLNL"
      },
      "outputs": [],
      "source": [
        "#Random Tensors\n",
        "import torch"
      ]
    },
    {
      "cell_type": "code",
      "source": [
        "random_tensor = torch.rand(3,4)\n",
        "print(random_tensor)#ndims will be what goes inside .rand"
      ],
      "metadata": {
        "colab": {
          "base_uri": "https://localhost:8080/"
        },
        "id": "XzQZHPt1dJy2",
        "outputId": "eb55a8b3-eff1-400f-a745-b675c21c0b8b"
      },
      "execution_count": 6,
      "outputs": [
        {
          "output_type": "stream",
          "name": "stdout",
          "text": [
            "tensor([[0.0039, 0.9949, 0.2167, 0.0545],\n",
            "        [0.1743, 0.9227, 0.2645, 0.4770],\n",
            "        [0.5637, 0.9923, 0.9547, 0.2404]])\n"
          ]
        }
      ]
    },
    {
      "cell_type": "code",
      "source": [
        "random_tensor.ndim"
      ],
      "metadata": {
        "colab": {
          "base_uri": "https://localhost:8080/"
        },
        "id": "AfpnHhGDdJ2O",
        "outputId": "60443020-76a4-4eaa-b7ec-f4e8975c6c60"
      },
      "execution_count": 7,
      "outputs": [
        {
          "output_type": "execute_result",
          "data": {
            "text/plain": [
              "2"
            ]
          },
          "metadata": {},
          "execution_count": 7
        }
      ]
    },
    {
      "cell_type": "code",
      "source": [
        "random_image_tensor = torch.rand(224,224,3) #similar to an rcb image tensor"
      ],
      "metadata": {
        "id": "3BcXS8JIdJ4I"
      },
      "execution_count": 8,
      "outputs": []
    },
    {
      "cell_type": "code",
      "source": [
        "random_image_tensor, random_image_tensor.shape, random_image_tensor.ndim"
      ],
      "metadata": {
        "colab": {
          "base_uri": "https://localhost:8080/"
        },
        "id": "-voV52J3dJ69",
        "outputId": "8db04810-eb3b-4c27-e894-43272e32e41f"
      },
      "execution_count": 10,
      "outputs": [
        {
          "output_type": "execute_result",
          "data": {
            "text/plain": [
              "(tensor([[[0.3194, 0.3217, 0.4727],\n",
              "          [0.7609, 0.6142, 0.2662],\n",
              "          [0.6173, 0.2908, 0.1293],\n",
              "          ...,\n",
              "          [0.9740, 0.7518, 0.2941],\n",
              "          [0.0799, 0.4008, 0.2376],\n",
              "          [0.2160, 0.5581, 0.4108]],\n",
              " \n",
              "         [[0.7198, 0.6244, 0.2439],\n",
              "          [0.6602, 0.2214, 0.3040],\n",
              "          [0.3196, 0.8695, 0.9031],\n",
              "          ...,\n",
              "          [0.1698, 0.9686, 0.8116],\n",
              "          [0.8310, 0.6039, 0.4049],\n",
              "          [0.6611, 0.2368, 0.0251]],\n",
              " \n",
              "         [[0.7322, 0.9422, 0.9151],\n",
              "          [0.6742, 0.3470, 0.4765],\n",
              "          [0.5422, 0.5223, 0.7284],\n",
              "          ...,\n",
              "          [0.7117, 0.7261, 0.1034],\n",
              "          [0.5223, 0.7210, 0.2815],\n",
              "          [0.0544, 0.1036, 0.0578]],\n",
              " \n",
              "         ...,\n",
              " \n",
              "         [[0.5802, 0.5888, 0.5825],\n",
              "          [0.0805, 0.3195, 0.7367],\n",
              "          [0.9400, 0.4749, 0.6118],\n",
              "          ...,\n",
              "          [0.1781, 0.8267, 0.9207],\n",
              "          [0.5634, 0.8463, 0.1429],\n",
              "          [0.5208, 0.0223, 0.4146]],\n",
              " \n",
              "         [[0.7181, 0.8056, 0.0890],\n",
              "          [0.8381, 0.8540, 0.1057],\n",
              "          [0.3322, 0.8070, 0.6256],\n",
              "          ...,\n",
              "          [0.0135, 0.7253, 0.1232],\n",
              "          [0.7382, 0.2406, 0.2340],\n",
              "          [0.6148, 0.1879, 0.6088]],\n",
              " \n",
              "         [[0.5893, 0.8329, 0.9502],\n",
              "          [0.3046, 0.2197, 0.1737],\n",
              "          [0.3094, 0.2103, 0.5709],\n",
              "          ...,\n",
              "          [0.4039, 0.7147, 0.9487],\n",
              "          [0.3308, 0.9041, 0.4091],\n",
              "          [0.6556, 0.9357, 0.5037]]]),\n",
              " torch.Size([224, 224, 3]),\n",
              " 3)"
            ]
          },
          "metadata": {},
          "execution_count": 10
        }
      ]
    },
    {
      "cell_type": "code",
      "source": [
        "#zeroes and ones tensors"
      ],
      "metadata": {
        "id": "rHsLunytdJ9y"
      },
      "execution_count": 11,
      "outputs": []
    },
    {
      "cell_type": "code",
      "source": [
        "zeros = torch.zeros(3,4)"
      ],
      "metadata": {
        "id": "tcR1cLxFdKAx"
      },
      "execution_count": 14,
      "outputs": []
    },
    {
      "cell_type": "code",
      "source": [
        "zeros"
      ],
      "metadata": {
        "colab": {
          "base_uri": "https://localhost:8080/"
        },
        "id": "ur40LqHSdKDf",
        "outputId": "688566d9-50d9-43bc-9f93-189980d43845"
      },
      "execution_count": 15,
      "outputs": [
        {
          "output_type": "execute_result",
          "data": {
            "text/plain": [
              "tensor([[0., 0., 0., 0.],\n",
              "        [0., 0., 0., 0.],\n",
              "        [0., 0., 0., 0.]])"
            ]
          },
          "metadata": {},
          "execution_count": 15
        }
      ]
    },
    {
      "cell_type": "code",
      "source": [
        "ones = torch.ones(4,3)"
      ],
      "metadata": {
        "id": "T2W-ya0IgL2j"
      },
      "execution_count": 36,
      "outputs": []
    },
    {
      "cell_type": "code",
      "source": [
        "ones , ones.dtype"
      ],
      "metadata": {
        "colab": {
          "base_uri": "https://localhost:8080/"
        },
        "id": "UO3KkzSggdR5",
        "outputId": "a5362b7e-439d-45a0-8cbf-0c8777e9338e"
      },
      "execution_count": 38,
      "outputs": [
        {
          "output_type": "execute_result",
          "data": {
            "text/plain": [
              "(tensor([[1., 1., 1.],\n",
              "         [1., 1., 1.],\n",
              "         [1., 1., 1.],\n",
              "         [1., 1., 1.]]),\n",
              " torch.float32)"
            ]
          },
          "metadata": {},
          "execution_count": 38
        }
      ]
    },
    {
      "cell_type": "code",
      "source": [
        "torch.range(0,10)"
      ],
      "metadata": {
        "colab": {
          "base_uri": "https://localhost:8080/"
        },
        "id": "JZqSEck1gdUl",
        "outputId": "272c1b9d-5548-4890-9686-1df010ad0327"
      },
      "execution_count": 19,
      "outputs": [
        {
          "output_type": "stream",
          "name": "stderr",
          "text": [
            "<ipython-input-19-dfdec9b83f7d>:1: UserWarning: torch.range is deprecated and will be removed in a future release because its behavior is inconsistent with Python's range builtin. Instead, use torch.arange, which produces values in [start, end).\n",
            "  torch.range(0,10)\n"
          ]
        },
        {
          "output_type": "execute_result",
          "data": {
            "text/plain": [
              "tensor([ 0.,  1.,  2.,  3.,  4.,  5.,  6.,  7.,  8.,  9., 10.])"
            ]
          },
          "metadata": {},
          "execution_count": 19
        }
      ]
    },
    {
      "cell_type": "code",
      "source": [
        "torch.arange(0,10)"
      ],
      "metadata": {
        "colab": {
          "base_uri": "https://localhost:8080/"
        },
        "id": "nExkLZ3XgdXL",
        "outputId": "1b4f8d04-0286-47a7-b566-d3a7c2a5fe9b"
      },
      "execution_count": 20,
      "outputs": [
        {
          "output_type": "execute_result",
          "data": {
            "text/plain": [
              "tensor([0, 1, 2, 3, 4, 5, 6, 7, 8, 9])"
            ]
          },
          "metadata": {},
          "execution_count": 20
        }
      ]
    },
    {
      "cell_type": "code",
      "source": [
        "r = torch.arange(1,10,2)\n",
        "r"
      ],
      "metadata": {
        "colab": {
          "base_uri": "https://localhost:8080/"
        },
        "id": "IX-luqZPgdZr",
        "outputId": "05bae0aa-1ce3-432d-d4ac-0e142fae24f4"
      },
      "execution_count": 26,
      "outputs": [
        {
          "output_type": "execute_result",
          "data": {
            "text/plain": [
              "tensor([1, 3, 5, 7, 9])"
            ]
          },
          "metadata": {},
          "execution_count": 26
        }
      ]
    },
    {
      "cell_type": "code",
      "source": [
        "#create a tensor with similar shape of another given tensor\n",
        "zeros = torch.zeros_like(r)\n",
        "zeros\n",
        "ones = torch.ones_like(r)\n",
        "ones  #the _like doest work with torch.rand why"
      ],
      "metadata": {
        "colab": {
          "base_uri": "https://localhost:8080/"
        },
        "id": "Fo-E6LvUgdch",
        "outputId": "a5b85af4-8d07-4bb5-adeb-5e9364280495"
      },
      "execution_count": 29,
      "outputs": [
        {
          "output_type": "execute_result",
          "data": {
            "text/plain": [
              "tensor([1, 1, 1, 1, 1])"
            ]
          },
          "metadata": {},
          "execution_count": 29
        }
      ]
    },
    {
      "cell_type": "code",
      "source": [
        "tenso = torch.rand(3,4,dtype=torch.float16)\n",
        "tenso"
      ],
      "metadata": {
        "colab": {
          "base_uri": "https://localhost:8080/"
        },
        "id": "gBI5GsDygdfK",
        "outputId": "3a08e7f0-a8ac-42f9-bbb9-6ab7bc7876e8"
      },
      "execution_count": 39,
      "outputs": [
        {
          "output_type": "execute_result",
          "data": {
            "text/plain": [
              "tensor([[0.1958, 0.2412, 0.2422, 0.7686],\n",
              "        [0.2124, 0.1938, 0.4414, 0.4058],\n",
              "        [0.4438, 0.1753, 0.4785, 0.1699]], dtype=torch.float16)"
            ]
          },
          "metadata": {},
          "execution_count": 39
        }
      ]
    },
    {
      "cell_type": "code",
      "source": [
        "# dtype - type of elements inside the tensor\n",
        "# device - if gpu enabled cuda, or else cpu\n",
        "# requires - grad wether or not to track gradients with these operations"
      ],
      "metadata": {
        "id": "JBv9q7ITgdiF"
      },
      "execution_count": 34,
      "outputs": []
    },
    {
      "cell_type": "code",
      "source": [
        "ones.shape, tenso.shape"
      ],
      "metadata": {
        "colab": {
          "base_uri": "https://localhost:8080/"
        },
        "id": "FOhAJj04gdk0",
        "outputId": "455dd1c1-d852-40de-c009-a9be2b27058a"
      },
      "execution_count": 44,
      "outputs": [
        {
          "output_type": "execute_result",
          "data": {
            "text/plain": [
              "(torch.Size([4, 3]), torch.Size([3, 4]))"
            ]
          },
          "metadata": {},
          "execution_count": 44
        }
      ]
    },
    {
      "cell_type": "code",
      "source": [
        "# ones * tenso * is for element wise multiplication for matrix multiplication use @\n",
        "ones @ tenso"
      ],
      "metadata": {
        "colab": {
          "base_uri": "https://localhost:8080/",
          "height": 194
        },
        "id": "-eXHKlutjlz_",
        "outputId": "16f82348-f64d-4ba2-8520-1aa491c82f9b"
      },
      "execution_count": 46,
      "outputs": [
        {
          "output_type": "error",
          "ename": "RuntimeError",
          "evalue": "ignored",
          "traceback": [
            "\u001b[0;31m---------------------------------------------------------------------------\u001b[0m",
            "\u001b[0;31mRuntimeError\u001b[0m                              Traceback (most recent call last)",
            "\u001b[0;32m<ipython-input-46-6657c9e18360>\u001b[0m in \u001b[0;36m<cell line: 2>\u001b[0;34m()\u001b[0m\n\u001b[1;32m      1\u001b[0m \u001b[0;31m# ones * tenso * is for element wise multiplication for matrix multiplication use @\u001b[0m\u001b[0;34m\u001b[0m\u001b[0;34m\u001b[0m\u001b[0m\n\u001b[0;32m----> 2\u001b[0;31m \u001b[0mones\u001b[0m \u001b[0;34m@\u001b[0m \u001b[0mtenso\u001b[0m\u001b[0;34m\u001b[0m\u001b[0;34m\u001b[0m\u001b[0m\n\u001b[0m",
            "\u001b[0;31mRuntimeError\u001b[0m: expected scalar type Float but found Half"
          ]
        }
      ]
    },
    {
      "cell_type": "code",
      "source": [
        "tenso = torch.rand(3,4,dtype=torch.float32)\n",
        "tenso"
      ],
      "metadata": {
        "colab": {
          "base_uri": "https://localhost:8080/"
        },
        "id": "8Bit5CwHjl3C",
        "outputId": "be7c3f61-ef89-45a7-9ddd-fa30de103a89"
      },
      "execution_count": 47,
      "outputs": [
        {
          "output_type": "execute_result",
          "data": {
            "text/plain": [
              "tensor([[0.6027, 0.2679, 0.5171, 0.6216],\n",
              "        [0.4614, 0.6848, 0.2681, 0.1678],\n",
              "        [0.1035, 0.8133, 0.2678, 0.3228]])"
            ]
          },
          "metadata": {},
          "execution_count": 47
        }
      ]
    },
    {
      "cell_type": "code",
      "source": [
        "ones @ tenso"
      ],
      "metadata": {
        "colab": {
          "base_uri": "https://localhost:8080/"
        },
        "id": "xqKSGB4xjl6w",
        "outputId": "ccd73c41-e588-4fab-92d9-5c27e4cddefa"
      },
      "execution_count": 48,
      "outputs": [
        {
          "output_type": "execute_result",
          "data": {
            "text/plain": [
              "tensor([[1.1677, 1.7659, 1.0530, 1.1122],\n",
              "        [1.1677, 1.7659, 1.0530, 1.1122],\n",
              "        [1.1677, 1.7659, 1.0530, 1.1122],\n",
              "        [1.1677, 1.7659, 1.0530, 1.1122]])"
            ]
          },
          "metadata": {},
          "execution_count": 48
        }
      ]
    },
    {
      "cell_type": "code",
      "source": [
        "print(tenso.dtype)\n",
        "print(tenso.shape)\n",
        "print(tenso.device)"
      ],
      "metadata": {
        "colab": {
          "base_uri": "https://localhost:8080/"
        },
        "id": "sVLi24T0jl_f",
        "outputId": "9e378b1e-f0dc-48ca-c8a4-5f7f2dcb1eb6"
      },
      "execution_count": 49,
      "outputs": [
        {
          "output_type": "stream",
          "name": "stdout",
          "text": [
            "torch.float32\n",
            "torch.Size([3, 4])\n",
            "cpu\n"
          ]
        }
      ]
    },
    {
      "cell_type": "code",
      "source": [
        "##Manipulating tensors"
      ],
      "metadata": {
        "id": "hVI6ZuRnjmH3"
      },
      "execution_count": 50,
      "outputs": []
    },
    {
      "cell_type": "code",
      "source": [
        "zeros = torch.zeros(3,4)"
      ],
      "metadata": {
        "id": "N4atqZL_ncZj"
      },
      "execution_count": 54,
      "outputs": []
    },
    {
      "cell_type": "code",
      "source": [
        "ones + tenso"
      ],
      "metadata": {
        "colab": {
          "base_uri": "https://localhost:8080/",
          "height": 176
        },
        "id": "wKrP2YAqmmBX",
        "outputId": "7a843aeb-5a71-4df3-db5f-41a7649dc36b"
      },
      "execution_count": 55,
      "outputs": [
        {
          "output_type": "error",
          "ename": "RuntimeError",
          "evalue": "ignored",
          "traceback": [
            "\u001b[0;31m---------------------------------------------------------------------------\u001b[0m",
            "\u001b[0;31mRuntimeError\u001b[0m                              Traceback (most recent call last)",
            "\u001b[0;32m<ipython-input-55-3e4be04f76a0>\u001b[0m in \u001b[0;36m<cell line: 1>\u001b[0;34m()\u001b[0m\n\u001b[0;32m----> 1\u001b[0;31m \u001b[0mones\u001b[0m \u001b[0;34m+\u001b[0m \u001b[0mtenso\u001b[0m\u001b[0;34m\u001b[0m\u001b[0;34m\u001b[0m\u001b[0m\n\u001b[0m",
            "\u001b[0;31mRuntimeError\u001b[0m: The size of tensor a (3) must match the size of tensor b (4) at non-singleton dimension 1"
          ]
        }
      ]
    },
    {
      "cell_type": "code",
      "source": [
        "zeros.shape , tenso.shape"
      ],
      "metadata": {
        "colab": {
          "base_uri": "https://localhost:8080/"
        },
        "id": "B7xNNGWRnS4h",
        "outputId": "6ec58db3-9ed7-4fff-8b88-5533dc702e29"
      },
      "execution_count": 56,
      "outputs": [
        {
          "output_type": "execute_result",
          "data": {
            "text/plain": [
              "(torch.Size([3, 4]), torch.Size([3, 4]))"
            ]
          },
          "metadata": {},
          "execution_count": 56
        }
      ]
    },
    {
      "cell_type": "code",
      "source": [
        "zeros + tenso"
      ],
      "metadata": {
        "colab": {
          "base_uri": "https://localhost:8080/"
        },
        "id": "NbZJ88SqmmEO",
        "outputId": "9ea21140-76e5-4fce-8e93-b65380d5c1bb"
      },
      "execution_count": 57,
      "outputs": [
        {
          "output_type": "execute_result",
          "data": {
            "text/plain": [
              "tensor([[0.6027, 0.2679, 0.5171, 0.6216],\n",
              "        [0.4614, 0.6848, 0.2681, 0.1678],\n",
              "        [0.1035, 0.8133, 0.2678, 0.3228]])"
            ]
          },
          "metadata": {},
          "execution_count": 57
        }
      ]
    },
    {
      "cell_type": "code",
      "source": [
        "zeros - tenso"
      ],
      "metadata": {
        "colab": {
          "base_uri": "https://localhost:8080/"
        },
        "id": "d0eZLB31mmHc",
        "outputId": "b3243f0d-a3c8-4cdc-b0b1-6127c79c48a2"
      },
      "execution_count": 58,
      "outputs": [
        {
          "output_type": "execute_result",
          "data": {
            "text/plain": [
              "tensor([[-0.6027, -0.2679, -0.5171, -0.6216],\n",
              "        [-0.4614, -0.6848, -0.2681, -0.1678],\n",
              "        [-0.1035, -0.8133, -0.2678, -0.3228]])"
            ]
          },
          "metadata": {},
          "execution_count": 58
        }
      ]
    },
    {
      "cell_type": "code",
      "source": [
        "ones - tenso"
      ],
      "metadata": {
        "colab": {
          "base_uri": "https://localhost:8080/",
          "height": 176
        },
        "id": "npm0C2xOmmKF",
        "outputId": "3ed076a6-5fbd-406b-c94f-1855b73fec6e"
      },
      "execution_count": 60,
      "outputs": [
        {
          "output_type": "error",
          "ename": "RuntimeError",
          "evalue": "ignored",
          "traceback": [
            "\u001b[0;31m---------------------------------------------------------------------------\u001b[0m",
            "\u001b[0;31mRuntimeError\u001b[0m                              Traceback (most recent call last)",
            "\u001b[0;32m<ipython-input-60-c2280c4055c6>\u001b[0m in \u001b[0;36m<cell line: 1>\u001b[0;34m()\u001b[0m\n\u001b[0;32m----> 1\u001b[0;31m \u001b[0mones\u001b[0m \u001b[0;34m-\u001b[0m \u001b[0mtenso\u001b[0m\u001b[0;34m\u001b[0m\u001b[0;34m\u001b[0m\u001b[0m\n\u001b[0m",
            "\u001b[0;31mRuntimeError\u001b[0m: The size of tensor a (3) must match the size of tensor b (4) at non-singleton dimension 1"
          ]
        }
      ]
    },
    {
      "cell_type": "code",
      "source": [
        "zeros * tenso"
      ],
      "metadata": {
        "colab": {
          "base_uri": "https://localhost:8080/"
        },
        "id": "3viWOCKGmmNr",
        "outputId": "390f895e-fbc7-4318-d4fd-8d6a2e06e7e2"
      },
      "execution_count": 61,
      "outputs": [
        {
          "output_type": "execute_result",
          "data": {
            "text/plain": [
              "tensor([[0., 0., 0., 0.],\n",
              "        [0., 0., 0., 0.],\n",
              "        [0., 0., 0., 0.]])"
            ]
          },
          "metadata": {},
          "execution_count": 61
        }
      ]
    },
    {
      "cell_type": "code",
      "source": [
        "ones * tenso"
      ],
      "metadata": {
        "colab": {
          "base_uri": "https://localhost:8080/",
          "height": 176
        },
        "id": "tBXacTe9mmQI",
        "outputId": "8acd4de7-ad87-4f6e-c4dc-2c4943eee2e9"
      },
      "execution_count": 62,
      "outputs": [
        {
          "output_type": "error",
          "ename": "RuntimeError",
          "evalue": "ignored",
          "traceback": [
            "\u001b[0;31m---------------------------------------------------------------------------\u001b[0m",
            "\u001b[0;31mRuntimeError\u001b[0m                              Traceback (most recent call last)",
            "\u001b[0;32m<ipython-input-62-b0e64367de44>\u001b[0m in \u001b[0;36m<cell line: 1>\u001b[0;34m()\u001b[0m\n\u001b[0;32m----> 1\u001b[0;31m \u001b[0mones\u001b[0m \u001b[0;34m*\u001b[0m \u001b[0mtenso\u001b[0m\u001b[0;34m\u001b[0m\u001b[0;34m\u001b[0m\u001b[0m\n\u001b[0m",
            "\u001b[0;31mRuntimeError\u001b[0m: The size of tensor a (3) must match the size of tensor b (4) at non-singleton dimension 1"
          ]
        }
      ]
    },
    {
      "cell_type": "code",
      "source": [
        "ones @ tenso"
      ],
      "metadata": {
        "colab": {
          "base_uri": "https://localhost:8080/"
        },
        "id": "qnOMUAxNmmTR",
        "outputId": "2c6f3b29-7c8e-4574-ac97-a30ad5975de3"
      },
      "execution_count": 63,
      "outputs": [
        {
          "output_type": "execute_result",
          "data": {
            "text/plain": [
              "tensor([[1.1677, 1.7659, 1.0530, 1.1122],\n",
              "        [1.1677, 1.7659, 1.0530, 1.1122],\n",
              "        [1.1677, 1.7659, 1.0530, 1.1122],\n",
              "        [1.1677, 1.7659, 1.0530, 1.1122]])"
            ]
          },
          "metadata": {},
          "execution_count": 63
        }
      ]
    },
    {
      "cell_type": "code",
      "source": [
        "zeros @ tenso"
      ],
      "metadata": {
        "colab": {
          "base_uri": "https://localhost:8080/",
          "height": 176
        },
        "id": "QQKuLLmsmmWF",
        "outputId": "518dea53-9911-4efd-cb4c-338d2d5dc762"
      },
      "execution_count": 65,
      "outputs": [
        {
          "output_type": "error",
          "ename": "RuntimeError",
          "evalue": "ignored",
          "traceback": [
            "\u001b[0;31m---------------------------------------------------------------------------\u001b[0m",
            "\u001b[0;31mRuntimeError\u001b[0m                              Traceback (most recent call last)",
            "\u001b[0;32m<ipython-input-65-2c641eb07e00>\u001b[0m in \u001b[0;36m<cell line: 1>\u001b[0;34m()\u001b[0m\n\u001b[0;32m----> 1\u001b[0;31m \u001b[0mzeros\u001b[0m \u001b[0;34m@\u001b[0m \u001b[0mtenso\u001b[0m\u001b[0;34m\u001b[0m\u001b[0;34m\u001b[0m\u001b[0m\n\u001b[0m",
            "\u001b[0;31mRuntimeError\u001b[0m: mat1 and mat2 shapes cannot be multiplied (3x4 and 3x4)"
          ]
        }
      ]
    },
    {
      "cell_type": "code",
      "source": [
        "torch.matmul(ones,tenso)"
      ],
      "metadata": {
        "colab": {
          "base_uri": "https://localhost:8080/"
        },
        "id": "9g4Wx-InjmKj",
        "outputId": "a0682456-ba95-4fdf-a90b-50ff614546aa"
      },
      "execution_count": 68,
      "outputs": [
        {
          "output_type": "execute_result",
          "data": {
            "text/plain": [
              "tensor([[1.1677, 1.7659, 1.0530, 1.1122],\n",
              "        [1.1677, 1.7659, 1.0530, 1.1122],\n",
              "        [1.1677, 1.7659, 1.0530, 1.1122],\n",
              "        [1.1677, 1.7659, 1.0530, 1.1122]])"
            ]
          },
          "metadata": {},
          "execution_count": 68
        }
      ]
    },
    {
      "cell_type": "code",
      "source": [
        "torch.matmul(zeros,tenso)"
      ],
      "metadata": {
        "colab": {
          "base_uri": "https://localhost:8080/",
          "height": 176
        },
        "id": "jKqo7qFRjmPJ",
        "outputId": "f49c2d6c-d7aa-492f-edc1-4c17862a0fbb"
      },
      "execution_count": 67,
      "outputs": [
        {
          "output_type": "error",
          "ename": "RuntimeError",
          "evalue": "ignored",
          "traceback": [
            "\u001b[0;31m---------------------------------------------------------------------------\u001b[0m",
            "\u001b[0;31mRuntimeError\u001b[0m                              Traceback (most recent call last)",
            "\u001b[0;32m<ipython-input-67-a313d08bd751>\u001b[0m in \u001b[0;36m<cell line: 1>\u001b[0;34m()\u001b[0m\n\u001b[0;32m----> 1\u001b[0;31m \u001b[0mtorch\u001b[0m\u001b[0;34m.\u001b[0m\u001b[0mmatmul\u001b[0m\u001b[0;34m(\u001b[0m\u001b[0mzeros\u001b[0m\u001b[0;34m,\u001b[0m\u001b[0mtenso\u001b[0m\u001b[0;34m)\u001b[0m\u001b[0;34m\u001b[0m\u001b[0;34m\u001b[0m\u001b[0m\n\u001b[0m",
            "\u001b[0;31mRuntimeError\u001b[0m: mat1 and mat2 shapes cannot be multiplied (3x4 and 3x4)"
          ]
        }
      ]
    },
    {
      "cell_type": "code",
      "source": [
        "torch.mm(ones,tenso)"
      ],
      "metadata": {
        "colab": {
          "base_uri": "https://localhost:8080/"
        },
        "id": "n08zlDjvoWXN",
        "outputId": "643fcecf-03df-46a8-b0cc-1722d2690aed"
      },
      "execution_count": 69,
      "outputs": [
        {
          "output_type": "execute_result",
          "data": {
            "text/plain": [
              "tensor([[1.1677, 1.7659, 1.0530, 1.1122],\n",
              "        [1.1677, 1.7659, 1.0530, 1.1122],\n",
              "        [1.1677, 1.7659, 1.0530, 1.1122],\n",
              "        [1.1677, 1.7659, 1.0530, 1.1122]])"
            ]
          },
          "metadata": {},
          "execution_count": 69
        }
      ]
    },
    {
      "cell_type": "code",
      "source": [
        "zeros @ tenso.T #take the teranspose"
      ],
      "metadata": {
        "colab": {
          "base_uri": "https://localhost:8080/"
        },
        "id": "8OUjpDdEoWkF",
        "outputId": "f0585158-d2a7-4963-d128-c3d1e30d8383"
      },
      "execution_count": 70,
      "outputs": [
        {
          "output_type": "execute_result",
          "data": {
            "text/plain": [
              "tensor([[0., 0., 0.],\n",
              "        [0., 0., 0.],\n",
              "        [0., 0., 0.]])"
            ]
          },
          "metadata": {},
          "execution_count": 70
        }
      ]
    },
    {
      "cell_type": "code",
      "source": [
        "tenso.min()"
      ],
      "metadata": {
        "colab": {
          "base_uri": "https://localhost:8080/"
        },
        "id": "g-zSxUhsoWm4",
        "outputId": "67f5d918-0f2d-4cc3-814f-3a6165193da0"
      },
      "execution_count": 72,
      "outputs": [
        {
          "output_type": "execute_result",
          "data": {
            "text/plain": [
              "tensor(0.1035)"
            ]
          },
          "metadata": {},
          "execution_count": 72
        }
      ]
    },
    {
      "cell_type": "code",
      "source": [
        "tenso.max()"
      ],
      "metadata": {
        "colab": {
          "base_uri": "https://localhost:8080/"
        },
        "id": "1EI6ZvDHoWpz",
        "outputId": "555996a0-a3ac-472e-d83b-60ad0f90c07c"
      },
      "execution_count": 73,
      "outputs": [
        {
          "output_type": "execute_result",
          "data": {
            "text/plain": [
              "tensor(0.8133)"
            ]
          },
          "metadata": {},
          "execution_count": 73
        }
      ]
    },
    {
      "cell_type": "code",
      "source": [
        "tenso.mean() #this worked because the dtypre is not int"
      ],
      "metadata": {
        "colab": {
          "base_uri": "https://localhost:8080/"
        },
        "id": "_zZFrKetoWuC",
        "outputId": "0e79fc37-76c9-42b6-b337-39965e3b7cec"
      },
      "execution_count": 75,
      "outputs": [
        {
          "output_type": "execute_result",
          "data": {
            "text/plain": [
              "tensor(0.4249)"
            ]
          },
          "metadata": {},
          "execution_count": 75
        }
      ]
    },
    {
      "cell_type": "code",
      "source": [
        "tenso.sum()"
      ],
      "metadata": {
        "colab": {
          "base_uri": "https://localhost:8080/"
        },
        "id": "EF32oy4JoWwD",
        "outputId": "792fd8da-c128-4b71-cc03-bd7f0bc4ad63"
      },
      "execution_count": 76,
      "outputs": [
        {
          "output_type": "execute_result",
          "data": {
            "text/plain": [
              "tensor(5.0988)"
            ]
          },
          "metadata": {},
          "execution_count": 76
        }
      ]
    },
    {
      "cell_type": "code",
      "source": [
        "tenso.argmin()#1d based indexing"
      ],
      "metadata": {
        "colab": {
          "base_uri": "https://localhost:8080/"
        },
        "id": "pSlBOR95oWyk",
        "outputId": "30a97682-566d-4036-a8b6-74500a3460ec"
      },
      "execution_count": 78,
      "outputs": [
        {
          "output_type": "execute_result",
          "data": {
            "text/plain": [
              "tensor(8)"
            ]
          },
          "metadata": {},
          "execution_count": 78
        }
      ]
    },
    {
      "cell_type": "code",
      "source": [
        "tenso.argmax()"
      ],
      "metadata": {
        "colab": {
          "base_uri": "https://localhost:8080/"
        },
        "id": "lr8WsHj9oW1U",
        "outputId": "b13cb062-2c1b-4a25-8a2d-b96b8534079a"
      },
      "execution_count": 79,
      "outputs": [
        {
          "output_type": "execute_result",
          "data": {
            "text/plain": [
              "tensor(9)"
            ]
          },
          "metadata": {},
          "execution_count": 79
        }
      ]
    },
    {
      "cell_type": "code",
      "source": [],
      "metadata": {
        "id": "eQvQ6QKboW4C"
      },
      "execution_count": null,
      "outputs": []
    }
  ]
}